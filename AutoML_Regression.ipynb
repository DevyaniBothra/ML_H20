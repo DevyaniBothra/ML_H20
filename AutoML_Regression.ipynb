{
 "cells": [
  {
   "cell_type": "markdown",
   "metadata": {},
   "source": [
    "Assignment 2 - Big Data with H2O\n",
    "\n",
    "**Regression**"
   ]
  },
  {
   "cell_type": "code",
   "execution_count": 2,
   "metadata": {
    "collapsed": true
   },
   "outputs": [],
   "source": [
    "import h2o\n",
    "from h2o.automl import H2OAutoML\n",
    "import random, os, sys\n",
    "from datetime import datetime\n",
    "import pandas as pd\n",
    "import logging\n",
    "import csv\n",
    "import optparse\n",
    "import time\n",
    "import json\n",
    "from distutils.util import strtobool\n",
    "import matplotlib.pyplot as plt"
   ]
  },
  {
   "cell_type": "markdown",
   "metadata": {},
   "source": [
    "Set up some parameters for the analysis.  "
   ]
  },
  {
   "cell_type": "code",
   "execution_count": 3,
   "metadata": {
    "collapsed": true
   },
   "outputs": [],
   "source": [
    "data_path=None\n",
    "all_variables=None\n",
    "test_path=None\n",
    "target=None\n",
    "nthreads=1 \n",
    "min_mem_size=6 \n",
    "run_time=333\n",
    "classification=False\n",
    "scale=False\n",
    "max_models=9    \n",
    "model_path=None\n",
    "balance_y=False \n",
    "balance_threshold=0.2\n",
    "name=None \n",
    "server_path=None  \n",
    "analysis=0 "
   ]
  },
  {
   "cell_type": "markdown",
   "metadata": {},
   "source": [
    "The next sections contains helper functions for automating analysis.             "
   ]
  },
  {
   "cell_type": "code",
   "execution_count": 4,
   "metadata": {
    "collapsed": true
   },
   "outputs": [],
   "source": [
    "# Functions\n",
    "\n",
    "def alphabet(n):\n",
    "  alpha='0123456789abcdefghijklmnopqrstuvwxyzABCDEFGHIJKLMNOPQRSTUVWXYZ'    \n",
    "  str=''\n",
    "  r=len(alpha)-1   \n",
    "  while len(str)<n:\n",
    "    i=random.randint(0,r)\n",
    "    str+=alpha[i]   \n",
    "  return str\n",
    "  \n",
    "  \n",
    "def set_meta_data(run_id,analysis,target,run_time,classification,scale,model,balance,balance_threshold,name,nthreads,min_mem_size):\n",
    "  m_data={}\n",
    "  m_data['run_id'] =run_id\n",
    "  m_data['start_time'] = time.time()\n",
    "  m_data['target']=target\n",
    "  m_data['max_models']=model\n",
    "  m_data['run_time']=run_time\n",
    "  m_data['scale']=scale\n",
    "  m_data['classification']=classification\n",
    "  m_data['scale']=False\n",
    "  m_data['balance']=balance\n",
    "  m_data['balance_threshold']=balance_threshold\n",
    "  m_data['project'] =name\n",
    "  m_data['end_time'] = time.time()\n",
    "  m_data['execution_time'] = 0.0\n",
    "  m_data['nthreads'] = nthreads\n",
    "  m_data['min_mem_size'] = min_mem_size\n",
    "  m_data['analysis'] = analysis\n",
    "  return m_data\n",
    "\n",
    "\n",
    "def dict_to_json(dct,n):\n",
    "  j = json.dumps(dct, indent=4)\n",
    "  f = open(n, 'w')\n",
    "  print(j, file=f)\n",
    "  f.close()\n",
    "  \n",
    "  \n",
    "def stackedensemble(mod):\n",
    "    coef_norm=None\n",
    "    try:\n",
    "      metalearner = h2o.get_model(mod.metalearner()['name'])\n",
    "      coef_norm=metalearner.coef_norm()\n",
    "    except:\n",
    "      pass        \n",
    "    return coef_norm\n",
    "\n",
    "def stackedensemble_df(df):\n",
    "    bm_algo={ 'GBM': None,'GLM': None,'DRF': None,'XRT': None,'Dee': None}\n",
    "    for index, row in df.iterrows():\n",
    "      if len(row['model_id'])>3:\n",
    "        key=row['model_id'][0:3]\n",
    "        if key in bm_algo:\n",
    "          if bm_algo[key] is None:\n",
    "                bm_algo[key]=row['model_id']\n",
    "    bm=list(bm_algo.values()) \n",
    "    bm=list(filter(None.__ne__, bm))             \n",
    "    return bm\n",
    "\n",
    "def se_stats(modl):\n",
    "    d={}\n",
    "    d['algo']=modl.algo\n",
    "    d['model_id']=modl.model_id   \n",
    "    d['auc']=modl.auc()   \n",
    "    d['roc']=modl.roc()\n",
    "    d['mse']=modl.mse()   \n",
    "    d['null_degrees_of_freedom']=modl.null_degrees_of_freedom()\n",
    "    d['null_deviance']=modl.null_deviance()\n",
    "    d['residual_degrees_of_freedom']=modl.residual_degrees_of_freedom()   \n",
    "    d['residual_deviance']=modl.residual_deviance()\n",
    "    d['rmse']=modl.rmse()\n",
    "    return d\n",
    "\n",
    "def get_model_by_algo(algo,models_dict):\n",
    "    mod=None\n",
    "    mod_id=None    \n",
    "    for m in list(models_dict.keys()):\n",
    "        if m[0:3]==algo:\n",
    "            mod_id=m\n",
    "            mod=h2o.get_model(m)      \n",
    "    return mod,mod_id     \n",
    "    \n",
    "    \n",
    "def gbm_stats(modl):\n",
    "    d={}\n",
    "    d['algo']=modl.algo\n",
    "    d['model_id']=modl.model_id   \n",
    "    d['varimp']=modl.varimp()  \n",
    "    return d\n",
    "    \n",
    "    \n",
    "def dl_stats(modl):\n",
    "    d={}\n",
    "    d['algo']=modl.algo\n",
    "    d['model_id']=modl.model_id   \n",
    "    d['varimp']=modl.varimp()  \n",
    "    return d\n",
    "    \n",
    "    \n",
    "def drf_stats(modl):\n",
    "    d={}\n",
    "    d['algo']=modl.algo\n",
    "    d['model_id']=modl.model_id   \n",
    "    d['varimp']=modl.varimp()  \n",
    "    d['roc']=modl.roc()      \n",
    "    return d\n",
    "    \n",
    "def xrt_stats(modl):\n",
    "    d={}\n",
    "    d['algo']=modl.algo\n",
    "    d['model_id']=modl.model_id   \n",
    "    d['varimp']=modl.varimp()  \n",
    "    d['roc']=modl.roc()      \n",
    "    return d\n",
    "    \n",
    "    \n",
    "def glm_stats(modl):\n",
    "    d={}\n",
    "    d['algo']=modl.algo\n",
    "    d['model_id']=modl.model_id   \n",
    "    d['coef']=modl.coef()  \n",
    "    d['coef_norm']=modl.coef_norm()      \n",
    "    return d\n",
    "    \n",
    "def model_performance_stats(perf):\n",
    "    d={}\n",
    "    try:    \n",
    "      d['mse']=perf.mse()\n",
    "    except:\n",
    "      pass      \n",
    "    try:    \n",
    "      d['rmse']=perf.rmse() \n",
    "    except:\n",
    "      pass      \n",
    "    try:    \n",
    "      d['null_degrees_of_freedom']=perf.null_degrees_of_freedom()\n",
    "    except:\n",
    "      pass      \n",
    "    try:    \n",
    "      d['residual_degrees_of_freedom']=perf.residual_degrees_of_freedom()\n",
    "    except:\n",
    "      pass      \n",
    "    try:    \n",
    "      d['residual_deviance']=perf.residual_deviance() \n",
    "    except:\n",
    "      pass      \n",
    "    try:    \n",
    "      d['null_deviance']=perf.null_deviance() \n",
    "    except:\n",
    "      pass      \n",
    "    try:    \n",
    "      d['aic']=perf.aic() \n",
    "    except:\n",
    "      pass      \n",
    "    try:\n",
    "      d['logloss']=perf.logloss() \n",
    "    except:\n",
    "      pass    \n",
    "    try:\n",
    "      d['auc']=perf.auc()\n",
    "    except:\n",
    "      pass  \n",
    "    try:\n",
    "      d['gini']=perf.gini()\n",
    "    except:\n",
    "      pass    \n",
    "    return d\n",
    "    \n",
    "def impute_missing_values(df, x, scal=False):\n",
    "    # determine column types\n",
    "    ints, reals, enums = [], [], []\n",
    "    for key, val in df.types.items():\n",
    "        if key in x:\n",
    "            if val == 'enum':\n",
    "                enums.append(key)\n",
    "            elif val == 'int':\n",
    "                ints.append(key)            \n",
    "            else: \n",
    "                reals.append(key)    \n",
    "    _ = df[reals].impute(method='mean')\n",
    "    _ = df[ints].impute(method='median')\n",
    "    if scal:\n",
    "        df[reals] = df[reals].scale()\n",
    "        df[ints] = df[ints].scale()    \n",
    "    return\n",
    "\n",
    "\n",
    "def get_independent_variables(df, targ):\n",
    "    C = [name for name in df.columns if name != targ]\n",
    "    # determine column types\n",
    "    ints, reals, enums = [], [], []\n",
    "    for key, val in df.types.items():\n",
    "        if key in C:\n",
    "            if val == 'enum':\n",
    "                enums.append(key)\n",
    "            elif val == 'int':\n",
    "                ints.append(key)            \n",
    "            else: \n",
    "                reals.append(key)    \n",
    "    x=ints+enums+reals\n",
    "    return x\n",
    "    \n",
    "def get_all_variables_csv(i):\n",
    "    ivd={}\n",
    "    try:\n",
    "      iv = pd.read_csv(i,header=None)\n",
    "    except:\n",
    "      sys.exit(1)    \n",
    "    col=iv.values.tolist()[0]\n",
    "    dt=iv.values.tolist()[1]\n",
    "    i=0\n",
    "    for c in col:\n",
    "      ivd[c.strip()]=dt[i].strip()\n",
    "      i+=1        \n",
    "    return ivd\n",
    "    \n",
    "    \n",
    "\n",
    "def check_all_variables(df,dct,y=None):     \n",
    "    targ=list(dct.keys())     \n",
    "    for key, val in df.types.items():\n",
    "        if key in targ:\n",
    "          if dct[key] not in ['real','int','enum']:                      \n",
    "            targ.remove(key)  \n",
    "    for key, val in df.types.items():\n",
    "        if key in targ:            \n",
    "          if dct[key] != val:\n",
    "            print('convert ',key,' ',dct[key],' ',val)\n",
    "            if dct[key]=='enum':\n",
    "                try:\n",
    "                  df[key] = df[key].asfactor() \n",
    "                except:\n",
    "                  targ.remove(key)                 \n",
    "            if dct[key]=='int': \n",
    "                try:                \n",
    "                  df[key] = df[key].asnumeric() \n",
    "                except:\n",
    "                  targ.remove(key)                  \n",
    "            if dct[key]=='real':\n",
    "                try:                \n",
    "                  df[key] = df[key].asnumeric()  \n",
    "                except:\n",
    "                  targ.remove(key)                  \n",
    "    if y is None:\n",
    "      y=df.columns[-1] \n",
    "    if y in targ:\n",
    "      targ.remove(y)\n",
    "    else:\n",
    "      y=targ.pop()            \n",
    "    return targ    \n",
    "    \n",
    "def predictions(mod,data,run_id):\n",
    "    test = h2o.import_file(data)\n",
    "    mod_perf=mod_best.model_performance(test)\n",
    "              \n",
    "    stats_test={}\n",
    "    stats_test=model_performance_stats(mod_perf)\n",
    "\n",
    "    n=run_id+'_test_stats.json'\n",
    "    dict_to_json(stats_test,n) \n",
    "\n",
    "    try:    \n",
    "      cf=mod_perf.confusion_matrix(metrics=[\"f1\",\"f2\",\"f0point5\",\"accuracy\",\"precision\",\"recall\",\"specificity\",\"absolute_mcc\",\"min_per_class_accuracy\",\"mean_per_class_accuracy\"])\n",
    "      cf_df=cf[0].table.as_data_frame()\n",
    "      cf_df.to_csv(run_id+'_test_confusion_matrix.csv')\n",
    "    except:\n",
    "      pass\n",
    "\n",
    "    predictions = mod_best.predict(test)\n",
    "    predictions_df=test.cbind(predictions).as_data_frame() \n",
    "    predictions_df.to_csv(run_id+'_predictions.csv')\n",
    "    return\n",
    "\n",
    "def predictions_test(mod,test,run_id):\n",
    "    mod_perf=mod_best.model_performance(test)          \n",
    "    stats_test={}\n",
    "    stats_test=model_performance_stats(mod_perf)\n",
    "    n=run_id+'_test_stats.json'\n",
    "    dict_to_json(stats_test,n) \n",
    "    try:\n",
    "      cf=mod_perf.confusion_matrix(metrics=[\"f1\",\"f2\",\"f0point5\",\"accuracy\",\"precision\",\"recall\",\"specificity\",\"absolute_mcc\",\"min_per_class_accuracy\",\"mean_per_class_accuracy\"])\n",
    "      cf_df=cf[0].table.as_data_frame()\n",
    "      cf_df.to_csv(run_id+'_test_confusion_matrix.csv')\n",
    "    except:\n",
    "      pass\n",
    "    predictions = mod_best.predict(test)    \n",
    "    predictions_df=test.cbind(predictions).as_data_frame() \n",
    "    predictions_df.to_csv(run_id+'_predictions.csv')\n",
    "    return predictions\n",
    "\n",
    "def check_X(x,df):\n",
    "    for name in x:\n",
    "        if name not in df.columns:\n",
    "          x.remove(name)  \n",
    "    return x    \n",
    "    \n",
    "    \n",
    "def get_stacked_ensemble(lst):\n",
    "    se=None\n",
    "    for model in model_set:\n",
    "      if 'BestOfFamily' in model:\n",
    "        se=model\n",
    "    if se is None:     \n",
    "      for model in model_set:\n",
    "        if 'AllModels'in model:\n",
    "          se=model           \n",
    "    return se       \n",
    "    \n",
    "def get_variables_types(df):\n",
    "    d={}\n",
    "    for key, val in df.types.items():\n",
    "        d[key]=val           \n",
    "    return d    \n",
    "    \n",
    "#  End Functions"
   ]
  },
  {
   "cell_type": "code",
   "execution_count": 5,
   "metadata": {
    "collapsed": true
   },
   "outputs": [],
   "source": [
    "data_path='C:/Users/Leo/Downloads/Summary of Weather.csv'"
   ]
  },
  {
   "cell_type": "code",
   "execution_count": 6,
   "metadata": {
    "collapsed": true
   },
   "outputs": [],
   "source": [
    "data_path = os.path.join(os.path.abspath(os.curdir),data_path)"
   ]
  },
  {
   "cell_type": "code",
   "execution_count": 7,
   "metadata": {
    "collapsed": true
   },
   "outputs": [],
   "source": [
    "all_variables=None"
   ]
  },
  {
   "cell_type": "code",
   "execution_count": 8,
   "metadata": {},
   "outputs": [
    {
     "name": "stdout",
     "output_type": "stream",
     "text": [
      "HihnZMlGR\n"
     ]
    }
   ],
   "source": [
    "run_id=alphabet(9)\n",
    "# run_id to std out\n",
    "print (run_id) "
   ]
  },
  {
   "cell_type": "code",
   "execution_count": 9,
   "metadata": {
    "collapsed": true
   },
   "outputs": [],
   "source": [
    "server_path=os.path.abspath(os.curdir)\n",
    "os.chdir(server_path) \n",
    "run_dir = os.path.join(server_path,run_id)\n",
    "os.mkdir(run_dir)\n",
    "os.chdir(run_dir) "
   ]
  },
  {
   "cell_type": "code",
   "execution_count": 10,
   "metadata": {},
   "outputs": [
    {
     "name": "stdout",
     "output_type": "stream",
     "text": [
      "Checking whether there is an H2O instance running at http://localhost:30866..... not found.\n",
      "Attempting to start a local H2O server...\n",
      "; Java HotSpot(TM) 64-Bit Server VM (build 25.181-b13, mixed mode)\n",
      "  Starting server from C:\\Users\\Leo\\Anaconda3\\lib\\site-packages\\h2o\\backend\\bin\\h2o.jar\n",
      "  Ice root: C:\\Users\\Leo\\AppData\\Local\\Temp\\tmp_dlupvhy\n",
      "  JVM stdout: C:\\Users\\Leo\\AppData\\Local\\Temp\\tmp_dlupvhy\\h2o_Leo_started_from_python.out\n",
      "  JVM stderr: C:\\Users\\Leo\\AppData\\Local\\Temp\\tmp_dlupvhy\\h2o_Leo_started_from_python.err\n",
      "  Server is running at http://127.0.0.1:30866\n",
      "Connecting to H2O server at http://127.0.0.1:30866... successful.\n"
     ]
    },
    {
     "data": {
      "text/html": [
       "<div style=\"overflow:auto\"><table style=\"width:50%\"><tr><td>H2O cluster uptime:</td>\n",
       "<td>03 secs</td></tr>\n",
       "<tr><td>H2O cluster timezone:</td>\n",
       "<td>America/New_York</td></tr>\n",
       "<tr><td>H2O data parsing timezone:</td>\n",
       "<td>UTC</td></tr>\n",
       "<tr><td>H2O cluster version:</td>\n",
       "<td>3.20.0.8</td></tr>\n",
       "<tr><td>H2O cluster version age:</td>\n",
       "<td>1 month and 9 days </td></tr>\n",
       "<tr><td>H2O cluster name:</td>\n",
       "<td>H2O_from_python_Leo_fcmdpx</td></tr>\n",
       "<tr><td>H2O cluster total nodes:</td>\n",
       "<td>1</td></tr>\n",
       "<tr><td>H2O cluster free memory:</td>\n",
       "<td>5.750 Gb</td></tr>\n",
       "<tr><td>H2O cluster total cores:</td>\n",
       "<td>4</td></tr>\n",
       "<tr><td>H2O cluster allowed cores:</td>\n",
       "<td>4</td></tr>\n",
       "<tr><td>H2O cluster status:</td>\n",
       "<td>accepting new members, healthy</td></tr>\n",
       "<tr><td>H2O connection url:</td>\n",
       "<td>http://127.0.0.1:30866</td></tr>\n",
       "<tr><td>H2O connection proxy:</td>\n",
       "<td>None</td></tr>\n",
       "<tr><td>H2O internal security:</td>\n",
       "<td>False</td></tr>\n",
       "<tr><td>H2O API Extensions:</td>\n",
       "<td>Algos, AutoML, Core V3, Core V4</td></tr>\n",
       "<tr><td>Python version:</td>\n",
       "<td>3.6.3 final</td></tr></table></div>"
      ],
      "text/plain": [
       "--------------------------  -------------------------------\n",
       "H2O cluster uptime:         03 secs\n",
       "H2O cluster timezone:       America/New_York\n",
       "H2O data parsing timezone:  UTC\n",
       "H2O cluster version:        3.20.0.8\n",
       "H2O cluster version age:    1 month and 9 days\n",
       "H2O cluster name:           H2O_from_python_Leo_fcmdpx\n",
       "H2O cluster total nodes:    1\n",
       "H2O cluster free memory:    5.750 Gb\n",
       "H2O cluster total cores:    4\n",
       "H2O cluster allowed cores:  4\n",
       "H2O cluster status:         accepting new members, healthy\n",
       "H2O connection url:         http://127.0.0.1:30866\n",
       "H2O connection proxy:\n",
       "H2O internal security:      False\n",
       "H2O API Extensions:         Algos, AutoML, Core V3, Core V4\n",
       "Python version:             3.6.3 final\n",
       "--------------------------  -------------------------------"
      ]
     },
     "metadata": {},
     "output_type": "display_data"
    }
   ],
   "source": [
    "# 65535 Highest port no\n",
    "port_no=random.randint(5555,55555)\n",
    "h2o.init(strict_version_check=False,min_mem_size_GB=min_mem_size,port=port_no)"
   ]
  },
  {
   "cell_type": "code",
   "execution_count": 11,
   "metadata": {},
   "outputs": [
    {
     "name": "stdout",
     "output_type": "stream",
     "text": [
      "{'run_id': 'HihnZMlGR', 'start_time': 1540966342.5212, 'target': None, 'max_models': 9, 'run_time': 333, 'scale': False, 'classification': False, 'balance': False, 'balance_threshold': 0.2, 'project': None, 'end_time': 1540966342.5212, 'execution_time': 0.0, 'nthreads': 1, 'min_mem_size': 6, 'analysis': 0}\n"
     ]
    }
   ],
   "source": [
    "# meta data\n",
    "meta_data = set_meta_data(run_id,analysis,target,run_time,classification,scale,max_models,balance_y,balance_threshold,name,nthreads,min_mem_size)\n",
    "print(meta_data)  "
   ]
  },
  {
   "cell_type": "code",
   "execution_count": 12,
   "metadata": {},
   "outputs": [
    {
     "name": "stdout",
     "output_type": "stream",
     "text": [
      "C:/Users/Leo/Downloads/Summary of Weather.csv\n"
     ]
    }
   ],
   "source": [
    "print(data_path)"
   ]
  },
  {
   "cell_type": "code",
   "execution_count": 13,
   "metadata": {},
   "outputs": [
    {
     "name": "stdout",
     "output_type": "stream",
     "text": [
      "Parse progress: |█████████████████████████████████████████████████████████| 100%\n"
     ]
    }
   ],
   "source": [
    "df = h2o.import_file(data_path)"
   ]
  },
  {
   "cell_type": "code",
   "execution_count": 14,
   "metadata": {},
   "outputs": [
    {
     "data": {
      "text/html": [
       "<table>\n",
       "<thead>\n",
       "<tr><th style=\"text-align: right;\">  STA</th><th style=\"text-align: right;\">  Precip</th><th style=\"text-align: right;\">  SNF</th><th style=\"text-align: right;\">  MEA</th><th style=\"text-align: right;\">  MIN</th><th style=\"text-align: right;\">  MinTemp</th><th style=\"text-align: right;\">  MeanTemp</th><th style=\"text-align: right;\">  Snowfall</th><th style=\"text-align: right;\">  MAX</th><th style=\"text-align: right;\">  YR</th><th style=\"text-align: right;\">  MO</th><th style=\"text-align: right;\">  DA</th><th style=\"text-align: right;\">  PRCP</th><th style=\"text-align: right;\">  MaxTemp</th></tr>\n",
       "</thead>\n",
       "<tbody>\n",
       "<tr><td style=\"text-align: right;\">10001</td><td style=\"text-align: right;\">   1.016</td><td style=\"text-align: right;\">    0</td><td style=\"text-align: right;\">   75</td><td style=\"text-align: right;\">   72</td><td style=\"text-align: right;\">  22.2222</td><td style=\"text-align: right;\">   23.8889</td><td style=\"text-align: right;\">         0</td><td style=\"text-align: right;\">   78</td><td style=\"text-align: right;\">  42</td><td style=\"text-align: right;\">   7</td><td style=\"text-align: right;\">   1</td><td style=\"text-align: right;\">  0.04</td><td style=\"text-align: right;\">  25.5556</td></tr>\n",
       "<tr><td style=\"text-align: right;\">10001</td><td style=\"text-align: right;\">   0    </td><td style=\"text-align: right;\">    0</td><td style=\"text-align: right;\">   78</td><td style=\"text-align: right;\">   71</td><td style=\"text-align: right;\">  21.6667</td><td style=\"text-align: right;\">   25.5556</td><td style=\"text-align: right;\">         0</td><td style=\"text-align: right;\">   84</td><td style=\"text-align: right;\">  42</td><td style=\"text-align: right;\">   7</td><td style=\"text-align: right;\">   2</td><td style=\"text-align: right;\">  0   </td><td style=\"text-align: right;\">  28.8889</td></tr>\n",
       "<tr><td style=\"text-align: right;\">10001</td><td style=\"text-align: right;\">   2.54 </td><td style=\"text-align: right;\">    0</td><td style=\"text-align: right;\">   76</td><td style=\"text-align: right;\">   72</td><td style=\"text-align: right;\">  22.2222</td><td style=\"text-align: right;\">   24.4444</td><td style=\"text-align: right;\">         0</td><td style=\"text-align: right;\">   79</td><td style=\"text-align: right;\">  42</td><td style=\"text-align: right;\">   7</td><td style=\"text-align: right;\">   3</td><td style=\"text-align: right;\">  0.1 </td><td style=\"text-align: right;\">  26.1111</td></tr>\n",
       "<tr><td style=\"text-align: right;\">10001</td><td style=\"text-align: right;\">   2.54 </td><td style=\"text-align: right;\">    0</td><td style=\"text-align: right;\">   76</td><td style=\"text-align: right;\">   72</td><td style=\"text-align: right;\">  22.2222</td><td style=\"text-align: right;\">   24.4444</td><td style=\"text-align: right;\">         0</td><td style=\"text-align: right;\">   80</td><td style=\"text-align: right;\">  42</td><td style=\"text-align: right;\">   7</td><td style=\"text-align: right;\">   4</td><td style=\"text-align: right;\">  0.1 </td><td style=\"text-align: right;\">  26.6667</td></tr>\n",
       "<tr><td style=\"text-align: right;\">10001</td><td style=\"text-align: right;\">   0    </td><td style=\"text-align: right;\">    0</td><td style=\"text-align: right;\">   76</td><td style=\"text-align: right;\">   71</td><td style=\"text-align: right;\">  21.6667</td><td style=\"text-align: right;\">   24.4444</td><td style=\"text-align: right;\">         0</td><td style=\"text-align: right;\">   80</td><td style=\"text-align: right;\">  42</td><td style=\"text-align: right;\">   7</td><td style=\"text-align: right;\">   5</td><td style=\"text-align: right;\">  0   </td><td style=\"text-align: right;\">  26.6667</td></tr>\n",
       "<tr><td style=\"text-align: right;\">10001</td><td style=\"text-align: right;\">   0    </td><td style=\"text-align: right;\">    0</td><td style=\"text-align: right;\">   76</td><td style=\"text-align: right;\">   71</td><td style=\"text-align: right;\">  21.6667</td><td style=\"text-align: right;\">   24.4444</td><td style=\"text-align: right;\">         0</td><td style=\"text-align: right;\">   80</td><td style=\"text-align: right;\">  42</td><td style=\"text-align: right;\">   7</td><td style=\"text-align: right;\">   6</td><td style=\"text-align: right;\">  0   </td><td style=\"text-align: right;\">  26.6667</td></tr>\n",
       "<tr><td style=\"text-align: right;\">10001</td><td style=\"text-align: right;\"> nan    </td><td style=\"text-align: right;\">    0</td><td style=\"text-align: right;\">   78</td><td style=\"text-align: right;\">   73</td><td style=\"text-align: right;\">  22.7778</td><td style=\"text-align: right;\">   25.5556</td><td style=\"text-align: right;\">         0</td><td style=\"text-align: right;\">   83</td><td style=\"text-align: right;\">  42</td><td style=\"text-align: right;\">   7</td><td style=\"text-align: right;\">   7</td><td style=\"text-align: right;\">nan   </td><td style=\"text-align: right;\">  28.3333</td></tr>\n",
       "<tr><td style=\"text-align: right;\">10001</td><td style=\"text-align: right;\">   3.556</td><td style=\"text-align: right;\">    0</td><td style=\"text-align: right;\">   76</td><td style=\"text-align: right;\">   72</td><td style=\"text-align: right;\">  22.2222</td><td style=\"text-align: right;\">   24.4444</td><td style=\"text-align: right;\">         0</td><td style=\"text-align: right;\">   80</td><td style=\"text-align: right;\">  42</td><td style=\"text-align: right;\">   7</td><td style=\"text-align: right;\">   8</td><td style=\"text-align: right;\">  0.14</td><td style=\"text-align: right;\">  26.6667</td></tr>\n",
       "<tr><td style=\"text-align: right;\">10001</td><td style=\"text-align: right;\"> nan    </td><td style=\"text-align: right;\">    0</td><td style=\"text-align: right;\">   77</td><td style=\"text-align: right;\">   73</td><td style=\"text-align: right;\">  22.7778</td><td style=\"text-align: right;\">   25     </td><td style=\"text-align: right;\">         0</td><td style=\"text-align: right;\">   81</td><td style=\"text-align: right;\">  42</td><td style=\"text-align: right;\">   7</td><td style=\"text-align: right;\">   9</td><td style=\"text-align: right;\">nan   </td><td style=\"text-align: right;\">  27.2222</td></tr>\n",
       "<tr><td style=\"text-align: right;\">10001</td><td style=\"text-align: right;\">   3.556</td><td style=\"text-align: right;\">    0</td><td style=\"text-align: right;\">   74</td><td style=\"text-align: right;\">   71</td><td style=\"text-align: right;\">  21.6667</td><td style=\"text-align: right;\">   23.3333</td><td style=\"text-align: right;\">         0</td><td style=\"text-align: right;\">   78</td><td style=\"text-align: right;\">  42</td><td style=\"text-align: right;\">   7</td><td style=\"text-align: right;\">  10</td><td style=\"text-align: right;\">  0.14</td><td style=\"text-align: right;\">  25.5556</td></tr>\n",
       "</tbody>\n",
       "</table>"
      ]
     },
     "metadata": {},
     "output_type": "display_data"
    },
    {
     "data": {
      "text/plain": []
     },
     "execution_count": 14,
     "metadata": {},
     "output_type": "execute_result"
    }
   ],
   "source": [
    "df.head()"
   ]
  },
  {
   "cell_type": "code",
   "execution_count": 15,
   "metadata": {},
   "outputs": [
    {
     "name": "stdout",
     "output_type": "stream",
     "text": [
      "Rows:119040\n",
      "Cols:14\n",
      "\n",
      "\n"
     ]
    },
    {
     "data": {
      "text/html": [
       "<table>\n",
       "<thead>\n",
       "<tr><th>       </th><th>STA               </th><th>Precip            </th><th>SNF                 </th><th>MEA               </th><th>MIN               </th><th>MinTemp         </th><th>MeanTemp          </th><th>Snowfall          </th><th>MAX               </th><th>YR               </th><th>MO                </th><th>DA               </th><th>PRCP              </th><th>MaxTemp           </th></tr>\n",
       "</thead>\n",
       "<tbody>\n",
       "<tr><td>type   </td><td>int               </td><td>real              </td><td>real                </td><td>int               </td><td>int               </td><td>real            </td><td>real              </td><td>real              </td><td>int               </td><td>int              </td><td>int               </td><td>int              </td><td>real              </td><td>real              </td></tr>\n",
       "<tr><td>mins   </td><td>10001.0           </td><td>0.0               </td><td>0.0                 </td><td>-32.0             </td><td>-37.0             </td><td>-38.33333333    </td><td>-35.55555556      </td><td>0.0               </td><td>-28.0             </td><td>40.0             </td><td>1.0               </td><td>1.0              </td><td>0.0               </td><td>-33.33333333      </td></tr>\n",
       "<tr><td>mean   </td><td>29659.435794690835</td><td>3.7539167245104497</td><td>0.009667071193977892</td><td>72.64484317794529 </td><td>64.27380831899599 </td><td>17.7895105285945</td><td>22.411631011521248</td><td>0.2455436083270395</td><td>81.00374474975959 </td><td>43.80528393817209</td><td>6.7260164650537595</td><td>15.79753024193548</td><td>0.1506372378057895</td><td>27.045110887087183</td></tr>\n",
       "<tr><td>maxs   </td><td>82506.0           </td><td>307.34            </td><td>3.4                 </td><td>104.0             </td><td>94.0              </td><td>34.44444444     </td><td>40.0              </td><td>86.36             </td><td>122.0             </td><td>45.0             </td><td>12.0              </td><td>31.0             </td><td>12.1              </td><td>50.0              </td></tr>\n",
       "<tr><td>sigma  </td><td>20953.209401551845</td><td>11.566633187774938</td><td>0.10340945231416457 </td><td>14.211081548214434</td><td>14.481497830536693</td><td>8.33457184977137</td><td>8.297982193882994 </td><td>2.626600088779785 </td><td>14.869361066103625</td><td>1.136718272872706</td><td>3.425560596772453 </td><td>8.79454073402518 </td><td>0.459275437383152 </td><td>8.71781664854926  </td></tr>\n",
       "<tr><td>zeros  </td><td>0                 </td><td>64267             </td><td>115690              </td><td>33                </td><td>28                </td><td>500             </td><td>247               </td><td>115690            </td><td>15                </td><td>0                </td><td>0                 </td><td>0                </td><td>62335             </td><td>181               </td></tr>\n",
       "<tr><td>missing</td><td>0                 </td><td>16753             </td><td>1207                </td><td>498               </td><td>468               </td><td>0               </td><td>0                 </td><td>1207              </td><td>474               </td><td>0                </td><td>0                 </td><td>0                </td><td>18685             </td><td>0                 </td></tr>\n",
       "<tr><td>0      </td><td>10001.0           </td><td>1.016             </td><td>0.0                 </td><td>75.0              </td><td>72.0              </td><td>22.22222222     </td><td>23.88888889       </td><td>0.0               </td><td>78.0              </td><td>42.0             </td><td>7.0               </td><td>1.0              </td><td>0.04              </td><td>25.55555556       </td></tr>\n",
       "<tr><td>1      </td><td>10001.0           </td><td>0.0               </td><td>0.0                 </td><td>78.0              </td><td>71.0              </td><td>21.66666667     </td><td>25.55555556       </td><td>0.0               </td><td>84.0              </td><td>42.0             </td><td>7.0               </td><td>2.0              </td><td>0.0               </td><td>28.88888889       </td></tr>\n",
       "<tr><td>2      </td><td>10001.0           </td><td>2.54              </td><td>0.0                 </td><td>76.0              </td><td>72.0              </td><td>22.22222222     </td><td>24.44444444       </td><td>0.0               </td><td>79.0              </td><td>42.0             </td><td>7.0               </td><td>3.0              </td><td>0.1               </td><td>26.11111111       </td></tr>\n",
       "<tr><td>3      </td><td>10001.0           </td><td>2.54              </td><td>0.0                 </td><td>76.0              </td><td>72.0              </td><td>22.22222222     </td><td>24.44444444       </td><td>0.0               </td><td>80.0              </td><td>42.0             </td><td>7.0               </td><td>4.0              </td><td>0.1               </td><td>26.66666667       </td></tr>\n",
       "<tr><td>4      </td><td>10001.0           </td><td>0.0               </td><td>0.0                 </td><td>76.0              </td><td>71.0              </td><td>21.66666667     </td><td>24.44444444       </td><td>0.0               </td><td>80.0              </td><td>42.0             </td><td>7.0               </td><td>5.0              </td><td>0.0               </td><td>26.66666667       </td></tr>\n",
       "<tr><td>5      </td><td>10001.0           </td><td>0.0               </td><td>0.0                 </td><td>76.0              </td><td>71.0              </td><td>21.66666667     </td><td>24.44444444       </td><td>0.0               </td><td>80.0              </td><td>42.0             </td><td>7.0               </td><td>6.0              </td><td>0.0               </td><td>26.66666667       </td></tr>\n",
       "<tr><td>6      </td><td>10001.0           </td><td>nan               </td><td>0.0                 </td><td>78.0              </td><td>73.0              </td><td>22.77777778     </td><td>25.55555556       </td><td>0.0               </td><td>83.0              </td><td>42.0             </td><td>7.0               </td><td>7.0              </td><td>nan               </td><td>28.33333333       </td></tr>\n",
       "<tr><td>7      </td><td>10001.0           </td><td>3.556             </td><td>0.0                 </td><td>76.0              </td><td>72.0              </td><td>22.22222222     </td><td>24.44444444       </td><td>0.0               </td><td>80.0              </td><td>42.0             </td><td>7.0               </td><td>8.0              </td><td>0.14              </td><td>26.66666667       </td></tr>\n",
       "<tr><td>8      </td><td>10001.0           </td><td>nan               </td><td>0.0                 </td><td>77.0              </td><td>73.0              </td><td>22.77777778     </td><td>25.0              </td><td>0.0               </td><td>81.0              </td><td>42.0             </td><td>7.0               </td><td>9.0              </td><td>nan               </td><td>27.22222222       </td></tr>\n",
       "<tr><td>9      </td><td>10001.0           </td><td>3.556             </td><td>0.0                 </td><td>74.0              </td><td>71.0              </td><td>21.66666667     </td><td>23.33333333       </td><td>0.0               </td><td>78.0              </td><td>42.0             </td><td>7.0               </td><td>10.0             </td><td>0.14              </td><td>25.55555556       </td></tr>\n",
       "</tbody>\n",
       "</table>"
      ]
     },
     "metadata": {},
     "output_type": "display_data"
    }
   ],
   "source": [
    "df.describe()"
   ]
  },
  {
   "cell_type": "markdown",
   "metadata": {},
   "source": [
    "describe()[source]\n",
    "Generate an in-depth description of this H2OFrame.\n",
    "\n",
    "The description is a tabular print of the type, min, max, sigma, number of zeros, and number of missing elements for each H2OVec in this H2OFrame.\n",
    "\n",
    "Returns:\tNone (print to stdout) "
   ]
  },
  {
   "cell_type": "code",
   "execution_count": 16,
   "metadata": {
    "collapsed": true
   },
   "outputs": [],
   "source": [
    "# dependent variable\n",
    "# assign target and inputs for classification or regression\n",
    "if target==None:\n",
    "  target=df.columns[-1]   \n",
    "y = target"
   ]
  },
  {
   "cell_type": "code",
   "execution_count": 17,
   "metadata": {},
   "outputs": [
    {
     "name": "stdout",
     "output_type": "stream",
     "text": [
      "MaxTemp\n"
     ]
    }
   ],
   "source": [
    "print(y)"
   ]
  },
  {
   "cell_type": "code",
   "execution_count": 18,
   "metadata": {
    "scrolled": true
   },
   "outputs": [
    {
     "name": "stdout",
     "output_type": "stream",
     "text": [
      "None\n"
     ]
    }
   ],
   "source": [
    "print(all_variables)"
   ]
  },
  {
   "cell_type": "code",
   "execution_count": 19,
   "metadata": {
    "collapsed": true
   },
   "outputs": [],
   "source": [
    "if all_variables is not None:\n",
    "  ivd=get_all_variables_csv(all_variables)\n",
    "  print(ivd)    \n",
    "  X=check_all_variables(df,ivd,y)\n",
    "  print(X)"
   ]
  },
  {
   "cell_type": "code",
   "execution_count": 20,
   "metadata": {},
   "outputs": [
    {
     "name": "stdout",
     "output_type": "stream",
     "text": [
      "Rows:119040\n",
      "Cols:14\n",
      "\n",
      "\n"
     ]
    },
    {
     "data": {
      "text/html": [
       "<table>\n",
       "<thead>\n",
       "<tr><th>       </th><th>STA               </th><th>Precip            </th><th>SNF                 </th><th>MEA               </th><th>MIN               </th><th>MinTemp         </th><th>MeanTemp          </th><th>Snowfall          </th><th>MAX               </th><th>YR               </th><th>MO                </th><th>DA               </th><th>PRCP              </th><th>MaxTemp           </th></tr>\n",
       "</thead>\n",
       "<tbody>\n",
       "<tr><td>type   </td><td>int               </td><td>real              </td><td>real                </td><td>int               </td><td>int               </td><td>real            </td><td>real              </td><td>real              </td><td>int               </td><td>int              </td><td>int               </td><td>int              </td><td>real              </td><td>real              </td></tr>\n",
       "<tr><td>mins   </td><td>10001.0           </td><td>0.0               </td><td>0.0                 </td><td>-32.0             </td><td>-37.0             </td><td>-38.33333333    </td><td>-35.55555556      </td><td>0.0               </td><td>-28.0             </td><td>40.0             </td><td>1.0               </td><td>1.0              </td><td>0.0               </td><td>-33.33333333      </td></tr>\n",
       "<tr><td>mean   </td><td>29659.435794690835</td><td>3.7539167245104497</td><td>0.009667071193977892</td><td>72.64484317794529 </td><td>64.27380831899599 </td><td>17.7895105285945</td><td>22.411631011521248</td><td>0.2455436083270395</td><td>81.00374474975959 </td><td>43.80528393817209</td><td>6.7260164650537595</td><td>15.79753024193548</td><td>0.1506372378057895</td><td>27.045110887087183</td></tr>\n",
       "<tr><td>maxs   </td><td>82506.0           </td><td>307.34            </td><td>3.4                 </td><td>104.0             </td><td>94.0              </td><td>34.44444444     </td><td>40.0              </td><td>86.36             </td><td>122.0             </td><td>45.0             </td><td>12.0              </td><td>31.0             </td><td>12.1              </td><td>50.0              </td></tr>\n",
       "<tr><td>sigma  </td><td>20953.209401551845</td><td>11.566633187774938</td><td>0.10340945231416457 </td><td>14.211081548214434</td><td>14.481497830536693</td><td>8.33457184977137</td><td>8.297982193882994 </td><td>2.626600088779785 </td><td>14.869361066103625</td><td>1.136718272872706</td><td>3.425560596772453 </td><td>8.79454073402518 </td><td>0.459275437383152 </td><td>8.71781664854926  </td></tr>\n",
       "<tr><td>zeros  </td><td>0                 </td><td>64267             </td><td>115690              </td><td>33                </td><td>28                </td><td>500             </td><td>247               </td><td>115690            </td><td>15                </td><td>0                </td><td>0                 </td><td>0                </td><td>62335             </td><td>181               </td></tr>\n",
       "<tr><td>missing</td><td>0                 </td><td>16753             </td><td>1207                </td><td>498               </td><td>468               </td><td>0               </td><td>0                 </td><td>1207              </td><td>474               </td><td>0                </td><td>0                 </td><td>0                </td><td>18685             </td><td>0                 </td></tr>\n",
       "<tr><td>0      </td><td>10001.0           </td><td>1.016             </td><td>0.0                 </td><td>75.0              </td><td>72.0              </td><td>22.22222222     </td><td>23.88888889       </td><td>0.0               </td><td>78.0              </td><td>42.0             </td><td>7.0               </td><td>1.0              </td><td>0.04              </td><td>25.55555556       </td></tr>\n",
       "<tr><td>1      </td><td>10001.0           </td><td>0.0               </td><td>0.0                 </td><td>78.0              </td><td>71.0              </td><td>21.66666667     </td><td>25.55555556       </td><td>0.0               </td><td>84.0              </td><td>42.0             </td><td>7.0               </td><td>2.0              </td><td>0.0               </td><td>28.88888889       </td></tr>\n",
       "<tr><td>2      </td><td>10001.0           </td><td>2.54              </td><td>0.0                 </td><td>76.0              </td><td>72.0              </td><td>22.22222222     </td><td>24.44444444       </td><td>0.0               </td><td>79.0              </td><td>42.0             </td><td>7.0               </td><td>3.0              </td><td>0.1               </td><td>26.11111111       </td></tr>\n",
       "<tr><td>3      </td><td>10001.0           </td><td>2.54              </td><td>0.0                 </td><td>76.0              </td><td>72.0              </td><td>22.22222222     </td><td>24.44444444       </td><td>0.0               </td><td>80.0              </td><td>42.0             </td><td>7.0               </td><td>4.0              </td><td>0.1               </td><td>26.66666667       </td></tr>\n",
       "<tr><td>4      </td><td>10001.0           </td><td>0.0               </td><td>0.0                 </td><td>76.0              </td><td>71.0              </td><td>21.66666667     </td><td>24.44444444       </td><td>0.0               </td><td>80.0              </td><td>42.0             </td><td>7.0               </td><td>5.0              </td><td>0.0               </td><td>26.66666667       </td></tr>\n",
       "<tr><td>5      </td><td>10001.0           </td><td>0.0               </td><td>0.0                 </td><td>76.0              </td><td>71.0              </td><td>21.66666667     </td><td>24.44444444       </td><td>0.0               </td><td>80.0              </td><td>42.0             </td><td>7.0               </td><td>6.0              </td><td>0.0               </td><td>26.66666667       </td></tr>\n",
       "<tr><td>6      </td><td>10001.0           </td><td>nan               </td><td>0.0                 </td><td>78.0              </td><td>73.0              </td><td>22.77777778     </td><td>25.55555556       </td><td>0.0               </td><td>83.0              </td><td>42.0             </td><td>7.0               </td><td>7.0              </td><td>nan               </td><td>28.33333333       </td></tr>\n",
       "<tr><td>7      </td><td>10001.0           </td><td>3.556             </td><td>0.0                 </td><td>76.0              </td><td>72.0              </td><td>22.22222222     </td><td>24.44444444       </td><td>0.0               </td><td>80.0              </td><td>42.0             </td><td>7.0               </td><td>8.0              </td><td>0.14              </td><td>26.66666667       </td></tr>\n",
       "<tr><td>8      </td><td>10001.0           </td><td>nan               </td><td>0.0                 </td><td>77.0              </td><td>73.0              </td><td>22.77777778     </td><td>25.0              </td><td>0.0               </td><td>81.0              </td><td>42.0             </td><td>7.0               </td><td>9.0              </td><td>nan               </td><td>27.22222222       </td></tr>\n",
       "<tr><td>9      </td><td>10001.0           </td><td>3.556             </td><td>0.0                 </td><td>74.0              </td><td>71.0              </td><td>21.66666667     </td><td>23.33333333       </td><td>0.0               </td><td>78.0              </td><td>42.0             </td><td>7.0               </td><td>10.0             </td><td>0.14              </td><td>25.55555556       </td></tr>\n",
       "</tbody>\n",
       "</table>"
      ]
     },
     "metadata": {},
     "output_type": "display_data"
    }
   ],
   "source": [
    "df.describe()"
   ]
  },
  {
   "cell_type": "code",
   "execution_count": 21,
   "metadata": {
    "collapsed": true
   },
   "outputs": [],
   "source": [
    "# independent variables\n",
    "\n",
    "X = []  \n",
    "if all_variables is None:\n",
    "  X=get_independent_variables(df, target)  \n",
    "else: \n",
    "  ivd=get_all_variables_csv(all_variables)    \n",
    "  X=check_all_variables(df, ivd)\n",
    "\n",
    "\n",
    "X=check_X(X,df)\n",
    "\n",
    "\n",
    "# Add independent variables\n",
    "\n",
    "meta_data['X']=X  \n",
    "\n",
    "\n",
    "# impute missing values\n",
    "\n",
    "_=impute_missing_values(df,X, scale)"
   ]
  },
  {
   "cell_type": "code",
   "execution_count": 22,
   "metadata": {
    "collapsed": true
   },
   "outputs": [],
   "source": [
    "if analysis == 3:\n",
    "  classification=False\n",
    "elif analysis == 2:\n",
    "  classification=True\n",
    "elif analysis == 1:\n",
    "  classification=True"
   ]
  },
  {
   "cell_type": "code",
   "execution_count": 23,
   "metadata": {},
   "outputs": [
    {
     "name": "stdout",
     "output_type": "stream",
     "text": [
      "False\n"
     ]
    }
   ],
   "source": [
    "print(classification)"
   ]
  },
  {
   "cell_type": "code",
   "execution_count": 24,
   "metadata": {
    "collapsed": true
   },
   "outputs": [],
   "source": [
    "# Force target to be factors\n",
    "# Only 'int' or 'string' are allowed for asfactor(), got Target (Total orders):real \n",
    "\n",
    "if classification:\n",
    "    df[y] = df[y].asfactor()"
   ]
  },
  {
   "cell_type": "code",
   "execution_count": 25,
   "metadata": {
    "collapsed": true
   },
   "outputs": [],
   "source": [
    "def check_y(y,df):\n",
    "  ok=False\n",
    "  C = [name for name in df.columns if name == y]\n",
    "  for key, val in df.types.items():\n",
    "    if key in C:\n",
    "      if val in ['real','int','enum']:        \n",
    "        ok=True         \n",
    "  return ok, val   "
   ]
  },
  {
   "cell_type": "code",
   "execution_count": 26,
   "metadata": {
    "collapsed": true
   },
   "outputs": [],
   "source": [
    "ok,val=check_y(y,df)"
   ]
  },
  {
   "cell_type": "code",
   "execution_count": 27,
   "metadata": {},
   "outputs": [
    {
     "name": "stdout",
     "output_type": "stream",
     "text": [
      "real\n"
     ]
    }
   ],
   "source": [
    "print(val)"
   ]
  },
  {
   "cell_type": "code",
   "execution_count": 28,
   "metadata": {},
   "outputs": [
    {
     "name": "stdout",
     "output_type": "stream",
     "text": [
      "True\n"
     ]
    }
   ],
   "source": [
    "print(ok)"
   ]
  },
  {
   "cell_type": "code",
   "execution_count": 29,
   "metadata": {
    "collapsed": true
   },
   "outputs": [],
   "source": [
    "if val=='enum':\n",
    "    print(df[y].levels())"
   ]
  },
  {
   "cell_type": "code",
   "execution_count": 30,
   "metadata": {},
   "outputs": [
    {
     "name": "stdout",
     "output_type": "stream",
     "text": [
      "Rows:119040\n",
      "Cols:14\n",
      "\n",
      "\n"
     ]
    },
    {
     "data": {
      "text/html": [
       "<table>\n",
       "<thead>\n",
       "<tr><th>       </th><th>STA               </th><th>Precip            </th><th>SNF                 </th><th>MEA               </th><th>MIN               </th><th>MinTemp         </th><th>MeanTemp          </th><th>Snowfall           </th><th>MAX               </th><th>YR               </th><th>MO                </th><th>DA               </th><th>PRCP              </th><th>MaxTemp           </th></tr>\n",
       "</thead>\n",
       "<tbody>\n",
       "<tr><td>type   </td><td>int               </td><td>real              </td><td>real                </td><td>real              </td><td>real              </td><td>real            </td><td>real              </td><td>real               </td><td>real              </td><td>int              </td><td>int               </td><td>int              </td><td>real              </td><td>real              </td></tr>\n",
       "<tr><td>mins   </td><td>10001.0           </td><td>0.0               </td><td>0.0                 </td><td>-32.0             </td><td>-37.0             </td><td>-38.33333333    </td><td>-35.55555556      </td><td>0.0                </td><td>-28.0             </td><td>40.0             </td><td>1.0               </td><td>1.0              </td><td>0.0               </td><td>-33.33333333      </td></tr>\n",
       "<tr><td>mean   </td><td>29659.435794690835</td><td>3.7539167245104474</td><td>0.009667071193977915</td><td>72.64484317794533 </td><td>64.273808318996   </td><td>17.7895105285945</td><td>22.411631011521248</td><td>0.24554360832703911</td><td>81.00374474975966 </td><td>43.80528393817209</td><td>6.7260164650537595</td><td>15.79753024193548</td><td>0.1506372378057894</td><td>27.045110887087183</td></tr>\n",
       "<tr><td>maxs   </td><td>82506.0           </td><td>307.34            </td><td>3.4                 </td><td>104.0             </td><td>94.0              </td><td>34.44444444     </td><td>40.0              </td><td>86.36              </td><td>122.0             </td><td>45.0             </td><td>12.0              </td><td>31.0             </td><td>12.1              </td><td>50.0              </td></tr>\n",
       "<tr><td>sigma  </td><td>20953.209401551845</td><td>10.721867249480866</td><td>0.10288385475692832 </td><td>14.181324342925253</td><td>14.453002902974077</td><td>8.33457184977137</td><td>8.297982193882994 </td><td>2.6132499108259792 </td><td>14.839727469916907</td><td>1.136718272872706</td><td>3.425560596772453 </td><td>8.79454073402518 </td><td>0.4216925498868997</td><td>8.71781664854926  </td></tr>\n",
       "<tr><td>zeros  </td><td>0                 </td><td>64267             </td><td>115690              </td><td>33                </td><td>28                </td><td>500             </td><td>247               </td><td>115690             </td><td>15                </td><td>0                </td><td>0                 </td><td>0                </td><td>62335             </td><td>181               </td></tr>\n",
       "<tr><td>missing</td><td>0                 </td><td>0                 </td><td>0                   </td><td>0                 </td><td>0                 </td><td>0               </td><td>0                 </td><td>0                  </td><td>0                 </td><td>0                </td><td>0                 </td><td>0                </td><td>0                 </td><td>0                 </td></tr>\n",
       "<tr><td>0      </td><td>10001.0           </td><td>1.016             </td><td>0.0                 </td><td>75.0              </td><td>72.0              </td><td>22.22222222     </td><td>23.88888889       </td><td>0.0                </td><td>78.0              </td><td>42.0             </td><td>7.0               </td><td>1.0              </td><td>0.04              </td><td>25.55555556       </td></tr>\n",
       "<tr><td>1      </td><td>10001.0           </td><td>0.0               </td><td>0.0                 </td><td>78.0              </td><td>71.0              </td><td>21.66666667     </td><td>25.55555556       </td><td>0.0                </td><td>84.0              </td><td>42.0             </td><td>7.0               </td><td>2.0              </td><td>0.0               </td><td>28.88888889       </td></tr>\n",
       "<tr><td>2      </td><td>10001.0           </td><td>2.54              </td><td>0.0                 </td><td>76.0              </td><td>72.0              </td><td>22.22222222     </td><td>24.44444444       </td><td>0.0                </td><td>79.0              </td><td>42.0             </td><td>7.0               </td><td>3.0              </td><td>0.1               </td><td>26.11111111       </td></tr>\n",
       "<tr><td>3      </td><td>10001.0           </td><td>2.54              </td><td>0.0                 </td><td>76.0              </td><td>72.0              </td><td>22.22222222     </td><td>24.44444444       </td><td>0.0                </td><td>80.0              </td><td>42.0             </td><td>7.0               </td><td>4.0              </td><td>0.1               </td><td>26.66666667       </td></tr>\n",
       "<tr><td>4      </td><td>10001.0           </td><td>0.0               </td><td>0.0                 </td><td>76.0              </td><td>71.0              </td><td>21.66666667     </td><td>24.44444444       </td><td>0.0                </td><td>80.0              </td><td>42.0             </td><td>7.0               </td><td>5.0              </td><td>0.0               </td><td>26.66666667       </td></tr>\n",
       "<tr><td>5      </td><td>10001.0           </td><td>0.0               </td><td>0.0                 </td><td>76.0              </td><td>71.0              </td><td>21.66666667     </td><td>24.44444444       </td><td>0.0                </td><td>80.0              </td><td>42.0             </td><td>7.0               </td><td>6.0              </td><td>0.0               </td><td>26.66666667       </td></tr>\n",
       "<tr><td>6      </td><td>10001.0           </td><td>3.7539167245104497</td><td>0.0                 </td><td>78.0              </td><td>73.0              </td><td>22.77777778     </td><td>25.55555556       </td><td>0.0                </td><td>83.0              </td><td>42.0             </td><td>7.0               </td><td>7.0              </td><td>0.1506372378057895</td><td>28.33333333       </td></tr>\n",
       "<tr><td>7      </td><td>10001.0           </td><td>3.556             </td><td>0.0                 </td><td>76.0              </td><td>72.0              </td><td>22.22222222     </td><td>24.44444444       </td><td>0.0                </td><td>80.0              </td><td>42.0             </td><td>7.0               </td><td>8.0              </td><td>0.14              </td><td>26.66666667       </td></tr>\n",
       "<tr><td>8      </td><td>10001.0           </td><td>3.7539167245104497</td><td>0.0                 </td><td>77.0              </td><td>73.0              </td><td>22.77777778     </td><td>25.0              </td><td>0.0                </td><td>81.0              </td><td>42.0             </td><td>7.0               </td><td>9.0              </td><td>0.1506372378057895</td><td>27.22222222       </td></tr>\n",
       "<tr><td>9      </td><td>10001.0           </td><td>3.556             </td><td>0.0                 </td><td>74.0              </td><td>71.0              </td><td>21.66666667     </td><td>23.33333333       </td><td>0.0                </td><td>78.0              </td><td>42.0             </td><td>7.0               </td><td>10.0             </td><td>0.14              </td><td>25.55555556       </td></tr>\n",
       "</tbody>\n",
       "</table>"
      ]
     },
     "metadata": {},
     "output_type": "display_data"
    }
   ],
   "source": [
    "df.describe()"
   ]
  },
  {
   "cell_type": "code",
   "execution_count": 31,
   "metadata": {},
   "outputs": [
    {
     "data": {
      "text/plain": [
       "{'DA': 'int',\n",
       " 'MAX': 'int',\n",
       " 'MEA': 'int',\n",
       " 'MIN': 'int',\n",
       " 'MO': 'int',\n",
       " 'MaxTemp': 'real',\n",
       " 'MeanTemp': 'real',\n",
       " 'MinTemp': 'real',\n",
       " 'PRCP': 'real',\n",
       " 'Precip': 'real',\n",
       " 'SNF': 'real',\n",
       " 'STA': 'int',\n",
       " 'Snowfall': 'real',\n",
       " 'YR': 'int'}"
      ]
     },
     "execution_count": 31,
     "metadata": {},
     "output_type": "execute_result"
    }
   ],
   "source": [
    "allV=get_variables_types(df)\n",
    "allV"
   ]
  },
  {
   "cell_type": "code",
   "execution_count": 32,
   "metadata": {
    "collapsed": true
   },
   "outputs": [],
   "source": [
    "meta_data['variables']=allV"
   ]
  },
  {
   "cell_type": "code",
   "execution_count": 33,
   "metadata": {
    "collapsed": true
   },
   "outputs": [],
   "source": [
    "# split into training and test for showing how to predict\n",
    "train, test = df.split_frame([0.9])"
   ]
  },
  {
   "cell_type": "code",
   "execution_count": 34,
   "metadata": {
    "collapsed": true
   },
   "outputs": [],
   "source": [
    "# Set up AutoML\n",
    "\n",
    "aml = H2OAutoML(max_runtime_secs=run_time,project_name = name)"
   ]
  },
  {
   "cell_type": "code",
   "execution_count": 35,
   "metadata": {
    "collapsed": true
   },
   "outputs": [],
   "source": [
    "model_start_time = time.time()"
   ]
  },
  {
   "cell_type": "code",
   "execution_count": 36,
   "metadata": {},
   "outputs": [
    {
     "name": "stdout",
     "output_type": "stream",
     "text": [
      "AutoML progress: |████████████████████████████████████████████████████████| 100%\n"
     ]
    }
   ],
   "source": [
    "aml.train(x=X,y=y,training_frame=train)"
   ]
  },
  {
   "cell_type": "code",
   "execution_count": 40,
   "metadata": {
    "collapsed": true
   },
   "outputs": [],
   "source": [
    "meta_data['model_execution_time'] = time.time() - model_start_time"
   ]
  },
  {
   "cell_type": "code",
   "execution_count": 41,
   "metadata": {
    "collapsed": true
   },
   "outputs": [],
   "source": [
    "# get leaderboard\n",
    "aml_leaderboard_df=aml.leaderboard.as_data_frame()"
   ]
  },
  {
   "cell_type": "code",
   "execution_count": 42,
   "metadata": {},
   "outputs": [
    {
     "data": {
      "text/html": [
       "<div>\n",
       "<style>\n",
       "    .dataframe thead tr:only-child th {\n",
       "        text-align: right;\n",
       "    }\n",
       "\n",
       "    .dataframe thead th {\n",
       "        text-align: left;\n",
       "    }\n",
       "\n",
       "    .dataframe tbody tr th {\n",
       "        vertical-align: top;\n",
       "    }\n",
       "</style>\n",
       "<table border=\"1\" class=\"dataframe\">\n",
       "  <thead>\n",
       "    <tr style=\"text-align: right;\">\n",
       "      <th></th>\n",
       "      <th>model_id</th>\n",
       "      <th>mean_residual_deviance</th>\n",
       "      <th>rmse</th>\n",
       "      <th>mse</th>\n",
       "      <th>mae</th>\n",
       "      <th>rmsle</th>\n",
       "    </tr>\n",
       "  </thead>\n",
       "  <tbody>\n",
       "    <tr>\n",
       "      <th>0</th>\n",
       "      <td>GBM_grid_0_AutoML_20181031_021306_model_0</td>\n",
       "      <td>0.012216</td>\n",
       "      <td>0.110524</td>\n",
       "      <td>0.012216</td>\n",
       "      <td>0.023999</td>\n",
       "      <td>NaN</td>\n",
       "    </tr>\n",
       "    <tr>\n",
       "      <th>1</th>\n",
       "      <td>StackedEnsemble_BestOfFamily_0_AutoML_20181031...</td>\n",
       "      <td>0.032583</td>\n",
       "      <td>0.180508</td>\n",
       "      <td>0.032583</td>\n",
       "      <td>0.027420</td>\n",
       "      <td>NaN</td>\n",
       "    </tr>\n",
       "    <tr>\n",
       "      <th>2</th>\n",
       "      <td>StackedEnsemble_AllModels_0_AutoML_20181031_02...</td>\n",
       "      <td>0.038215</td>\n",
       "      <td>0.195487</td>\n",
       "      <td>0.038215</td>\n",
       "      <td>0.030942</td>\n",
       "      <td>NaN</td>\n",
       "    </tr>\n",
       "    <tr>\n",
       "      <th>3</th>\n",
       "      <td>XRT_0_AutoML_20181031_021306</td>\n",
       "      <td>0.089691</td>\n",
       "      <td>0.299484</td>\n",
       "      <td>0.089691</td>\n",
       "      <td>0.042203</td>\n",
       "      <td>NaN</td>\n",
       "    </tr>\n",
       "    <tr>\n",
       "      <th>4</th>\n",
       "      <td>GBM_grid_0_AutoML_20181031_021306_model_1</td>\n",
       "      <td>0.090853</td>\n",
       "      <td>0.301418</td>\n",
       "      <td>0.090853</td>\n",
       "      <td>0.051338</td>\n",
       "      <td>NaN</td>\n",
       "    </tr>\n",
       "    <tr>\n",
       "      <th>5</th>\n",
       "      <td>GBM_grid_0_AutoML_20181031_021306_model_2</td>\n",
       "      <td>0.099071</td>\n",
       "      <td>0.314755</td>\n",
       "      <td>0.099071</td>\n",
       "      <td>0.065219</td>\n",
       "      <td>NaN</td>\n",
       "    </tr>\n",
       "    <tr>\n",
       "      <th>6</th>\n",
       "      <td>DRF_0_AutoML_20181031_021306</td>\n",
       "      <td>0.123796</td>\n",
       "      <td>0.351846</td>\n",
       "      <td>0.123796</td>\n",
       "      <td>0.044293</td>\n",
       "      <td>NaN</td>\n",
       "    </tr>\n",
       "    <tr>\n",
       "      <th>7</th>\n",
       "      <td>GBM_grid_0_AutoML_20181031_021306_model_3</td>\n",
       "      <td>0.126812</td>\n",
       "      <td>0.356107</td>\n",
       "      <td>0.126812</td>\n",
       "      <td>0.059451</td>\n",
       "      <td>NaN</td>\n",
       "    </tr>\n",
       "    <tr>\n",
       "      <th>8</th>\n",
       "      <td>GLM_grid_0_AutoML_20181031_021306_model_0</td>\n",
       "      <td>0.413681</td>\n",
       "      <td>0.643180</td>\n",
       "      <td>0.413681</td>\n",
       "      <td>0.140672</td>\n",
       "      <td>NaN</td>\n",
       "    </tr>\n",
       "  </tbody>\n",
       "</table>\n",
       "</div>"
      ],
      "text/plain": [
       "                                            model_id  mean_residual_deviance  \\\n",
       "0          GBM_grid_0_AutoML_20181031_021306_model_0                0.012216   \n",
       "1  StackedEnsemble_BestOfFamily_0_AutoML_20181031...                0.032583   \n",
       "2  StackedEnsemble_AllModels_0_AutoML_20181031_02...                0.038215   \n",
       "3                       XRT_0_AutoML_20181031_021306                0.089691   \n",
       "4          GBM_grid_0_AutoML_20181031_021306_model_1                0.090853   \n",
       "5          GBM_grid_0_AutoML_20181031_021306_model_2                0.099071   \n",
       "6                       DRF_0_AutoML_20181031_021306                0.123796   \n",
       "7          GBM_grid_0_AutoML_20181031_021306_model_3                0.126812   \n",
       "8          GLM_grid_0_AutoML_20181031_021306_model_0                0.413681   \n",
       "\n",
       "       rmse       mse       mae  rmsle  \n",
       "0  0.110524  0.012216  0.023999    NaN  \n",
       "1  0.180508  0.032583  0.027420    NaN  \n",
       "2  0.195487  0.038215  0.030942    NaN  \n",
       "3  0.299484  0.089691  0.042203    NaN  \n",
       "4  0.301418  0.090853  0.051338    NaN  \n",
       "5  0.314755  0.099071  0.065219    NaN  \n",
       "6  0.351846  0.123796  0.044293    NaN  \n",
       "7  0.356107  0.126812  0.059451    NaN  \n",
       "8  0.643180  0.413681  0.140672    NaN  "
      ]
     },
     "execution_count": 42,
     "metadata": {},
     "output_type": "execute_result"
    }
   ],
   "source": [
    "aml_leaderboard_df"
   ]
  },
  {
   "cell_type": "code",
   "execution_count": 43,
   "metadata": {
    "collapsed": true
   },
   "outputs": [],
   "source": [
    "# STart best model as first model\n",
    "\n",
    "model_set=aml_leaderboard_df['model_id']\n",
    "mod_best=h2o.get_model(model_set[0])"
   ]
  },
  {
   "cell_type": "code",
   "execution_count": 44,
   "metadata": {},
   "outputs": [
    {
     "data": {
      "text/plain": [
       "'GBM_grid_0_AutoML_20181031_021306_model_0'"
      ]
     },
     "execution_count": 44,
     "metadata": {},
     "output_type": "execute_result"
    }
   ],
   "source": [
    "mod_best._id"
   ]
  },
  {
   "cell_type": "code",
   "execution_count": 45,
   "metadata": {
    "collapsed": true
   },
   "outputs": [],
   "source": [
    "# Get stacked ensemble  \n",
    "se=get_stacked_ensemble(model_set)"
   ]
  },
  {
   "cell_type": "code",
   "execution_count": 46,
   "metadata": {},
   "outputs": [
    {
     "name": "stdout",
     "output_type": "stream",
     "text": [
      "StackedEnsemble_BestOfFamily_0_AutoML_20181031_021306\n"
     ]
    }
   ],
   "source": [
    "print(se)"
   ]
  },
  {
   "cell_type": "code",
   "execution_count": 47,
   "metadata": {
    "collapsed": true
   },
   "outputs": [],
   "source": [
    "if se is not None:\n",
    "  mod_best=h2o.get_model(se)"
   ]
  },
  {
   "cell_type": "code",
   "execution_count": 48,
   "metadata": {},
   "outputs": [
    {
     "data": {
      "text/plain": [
       "['__class__',\n",
       " '__delattr__',\n",
       " '__dict__',\n",
       " '__dir__',\n",
       " '__doc__',\n",
       " '__eq__',\n",
       " '__format__',\n",
       " '__ge__',\n",
       " '__getattr__',\n",
       " '__getattribute__',\n",
       " '__gt__',\n",
       " '__hash__',\n",
       " '__init__',\n",
       " '__init_subclass__',\n",
       " '__le__',\n",
       " '__lt__',\n",
       " '__module__',\n",
       " '__ne__',\n",
       " '__new__',\n",
       " '__reduce__',\n",
       " '__reduce_ex__',\n",
       " '__repr__',\n",
       " '__setattr__',\n",
       " '__sizeof__',\n",
       " '__str__',\n",
       " '__subclasshook__',\n",
       " '__weakref__',\n",
       " '_bc',\n",
       " '_bcin',\n",
       " '_check_targets',\n",
       " '_compute_algo',\n",
       " '_estimator_type',\n",
       " '_future',\n",
       " '_get_metrics',\n",
       " '_have_mojo',\n",
       " '_have_pojo',\n",
       " '_id',\n",
       " '_is_xvalidated',\n",
       " '_job',\n",
       " '_keyify_if_h2oframe',\n",
       " '_make_model',\n",
       " '_metrics_class',\n",
       " '_model_json',\n",
       " '_parms',\n",
       " '_plot',\n",
       " '_requires_training_frame',\n",
       " '_resolve_model',\n",
       " '_verify_training_frame_params',\n",
       " '_xval_keys',\n",
       " 'actual_params',\n",
       " 'aic',\n",
       " 'algo',\n",
       " 'auc',\n",
       " 'base_models',\n",
       " 'biases',\n",
       " 'catoffsets',\n",
       " 'coef',\n",
       " 'coef_norm',\n",
       " 'cross_validation_fold_assignment',\n",
       " 'cross_validation_holdout_predictions',\n",
       " 'cross_validation_metrics_summary',\n",
       " 'cross_validation_models',\n",
       " 'cross_validation_predictions',\n",
       " 'deepfeatures',\n",
       " 'default_params',\n",
       " 'download_mojo',\n",
       " 'download_pojo',\n",
       " 'fit',\n",
       " 'full_parameters',\n",
       " 'get_params',\n",
       " 'get_xval_models',\n",
       " 'gini',\n",
       " 'have_mojo',\n",
       " 'have_pojo',\n",
       " 'is_cross_validated',\n",
       " 'join',\n",
       " 'keep_levelone_frame',\n",
       " 'levelone_frame_id',\n",
       " 'logloss',\n",
       " 'mae',\n",
       " 'mean_residual_deviance',\n",
       " 'metalearner',\n",
       " 'metalearner_algorithm',\n",
       " 'metalearner_fold_assignment',\n",
       " 'metalearner_fold_column',\n",
       " 'metalearner_nfolds',\n",
       " 'metalearner_params',\n",
       " 'mixin',\n",
       " 'model_id',\n",
       " 'model_performance',\n",
       " 'mse',\n",
       " 'normmul',\n",
       " 'normsub',\n",
       " 'null_degrees_of_freedom',\n",
       " 'null_deviance',\n",
       " 'params',\n",
       " 'parms',\n",
       " 'partial_plot',\n",
       " 'plot',\n",
       " 'pprint_coef',\n",
       " 'predict',\n",
       " 'predict_leaf_node_assignment',\n",
       " 'r2',\n",
       " 'residual_degrees_of_freedom',\n",
       " 'residual_deviance',\n",
       " 'respmul',\n",
       " 'response_column',\n",
       " 'respsub',\n",
       " 'rmse',\n",
       " 'rmsle',\n",
       " 'rotation',\n",
       " 'save_model_details',\n",
       " 'save_mojo',\n",
       " 'score_history',\n",
       " 'scoring_history',\n",
       " 'seed',\n",
       " 'set_params',\n",
       " 'show',\n",
       " 'staged_predict_proba',\n",
       " 'start',\n",
       " 'std_coef_plot',\n",
       " 'summary',\n",
       " 'train',\n",
       " 'training_frame',\n",
       " 'type',\n",
       " 'validation_frame',\n",
       " 'varimp',\n",
       " 'varimp_plot',\n",
       " 'weights',\n",
       " 'xval_keys',\n",
       " 'xvals']"
      ]
     },
     "execution_count": 48,
     "metadata": {},
     "output_type": "execute_result"
    }
   ],
   "source": [
    "dir(mod_best)"
   ]
  },
  {
   "cell_type": "code",
   "execution_count": 49,
   "metadata": {},
   "outputs": [
    {
     "data": {
      "text/plain": [
       "'StackedEnsemble_BestOfFamily_0_AutoML_20181031_021306'"
      ]
     },
     "execution_count": 49,
     "metadata": {},
     "output_type": "execute_result"
    }
   ],
   "source": [
    "mod_best._id"
   ]
  },
  {
   "cell_type": "code",
   "execution_count": 50,
   "metadata": {},
   "outputs": [
    {
     "data": {
      "text/plain": [
       "<function h2o.model.model_base.ModelBase._get_metrics>"
      ]
     },
     "execution_count": 50,
     "metadata": {},
     "output_type": "execute_result"
    }
   ],
   "source": [
    "mod_best._get_metrics"
   ]
  },
  {
   "cell_type": "code",
   "execution_count": 51,
   "metadata": {},
   "outputs": [
    {
     "data": {
      "text/plain": [
       "h2o.estimators.stackedensemble.H2OStackedEnsembleEstimator"
      ]
     },
     "execution_count": 51,
     "metadata": {},
     "output_type": "execute_result"
    }
   ],
   "source": [
    "type(mod_best)"
   ]
  },
  {
   "cell_type": "code",
   "execution_count": 52,
   "metadata": {},
   "outputs": [
    {
     "name": "stdout",
     "output_type": "stream",
     "text": [
      "Model Details\n",
      "=============\n",
      "H2OStackedEnsembleEstimator :  Stacked Ensemble\n",
      "Model Key:  StackedEnsemble_BestOfFamily_0_AutoML_20181031_021306\n",
      "No model summary for this model\n",
      "\n",
      "\n",
      "ModelMetricsRegressionGLM: stackedensemble\n",
      "** Reported on train data. **\n",
      "\n",
      "MSE: 0.002963464005625805\n",
      "RMSE: 0.05443770757136825\n",
      "MAE: 0.016037717059560523\n",
      "RMSLE: NaN\n",
      "R^2: 0.9999609586156382\n",
      "Mean Residual Deviance: 0.002963464005625805\n",
      "Null degrees of freedom: 85765\n",
      "Residual degrees of freedom: 85762\n",
      "Null deviance: 6510129.137606689\n",
      "Residual deviance: 254.16445390650276\n",
      "AIC: -255874.52111248107\n",
      "\n",
      "ModelMetricsRegressionGLM: stackedensemble\n",
      "** Reported on validation data. **\n",
      "\n",
      "MSE: 0.08112006600243214\n",
      "RMSE: 0.28481584577131963\n",
      "MAE: 0.02606349505844524\n",
      "RMSLE: NaN\n",
      "R^2: 0.9989352010588533\n",
      "Mean Residual Deviance: 0.08112006600243214\n",
      "Null degrees of freedom: 21454\n",
      "Residual degrees of freedom: 21451\n",
      "Null deviance: 1634527.7640473982\n",
      "Residual deviance: 1740.4310160821815\n",
      "AIC: 7005.448683206883\n",
      "\n",
      "ModelMetricsRegressionGLM: stackedensemble\n",
      "** Reported on cross-validation data. **\n",
      "\n",
      "MSE: 0.03258318788598245\n",
      "RMSE: 0.1805081380048624\n",
      "MAE: 0.02741950903166522\n",
      "RMSLE: NaN\n",
      "R^2: 0.9995707412812925\n",
      "Mean Residual Deviance: 0.03258318788598245\n",
      "Null degrees of freedom: 85765\n",
      "Residual degrees of freedom: 85762\n",
      "Null deviance: 6510204.469789822\n",
      "Residual deviance: 2794.5296922291705\n",
      "AIC: -50255.88876357187\n",
      "<bound method ModelBase.coef_norm of >\n"
     ]
    }
   ],
   "source": [
    "mods=mod_best.coef_norm\n",
    "print(mods)"
   ]
  },
  {
   "cell_type": "code",
   "execution_count": 53,
   "metadata": {
    "collapsed": true
   },
   "outputs": [],
   "source": [
    "bm=stackedensemble_df(aml_leaderboard_df)"
   ]
  },
  {
   "cell_type": "code",
   "execution_count": 54,
   "metadata": {},
   "outputs": [
    {
     "data": {
      "text/plain": [
       "['GBM_grid_0_AutoML_20181031_021306_model_0',\n",
       " 'GLM_grid_0_AutoML_20181031_021306_model_0',\n",
       " 'DRF_0_AutoML_20181031_021306',\n",
       " 'XRT_0_AutoML_20181031_021306']"
      ]
     },
     "execution_count": 54,
     "metadata": {},
     "output_type": "execute_result"
    }
   ],
   "source": [
    "bm"
   ]
  },
  {
   "cell_type": "code",
   "execution_count": 55,
   "metadata": {},
   "outputs": [
    {
     "data": {
      "text/html": [
       "<div>\n",
       "<style>\n",
       "    .dataframe thead tr:only-child th {\n",
       "        text-align: right;\n",
       "    }\n",
       "\n",
       "    .dataframe thead th {\n",
       "        text-align: left;\n",
       "    }\n",
       "\n",
       "    .dataframe tbody tr th {\n",
       "        vertical-align: top;\n",
       "    }\n",
       "</style>\n",
       "<table border=\"1\" class=\"dataframe\">\n",
       "  <thead>\n",
       "    <tr style=\"text-align: right;\">\n",
       "      <th></th>\n",
       "      <th>model_id</th>\n",
       "      <th>mean_residual_deviance</th>\n",
       "      <th>rmse</th>\n",
       "      <th>mse</th>\n",
       "      <th>mae</th>\n",
       "      <th>rmsle</th>\n",
       "    </tr>\n",
       "  </thead>\n",
       "  <tbody>\n",
       "    <tr>\n",
       "      <th>0</th>\n",
       "      <td>GBM_grid_0_AutoML_20181031_021306_model_0</td>\n",
       "      <td>0.012216</td>\n",
       "      <td>0.110524</td>\n",
       "      <td>0.012216</td>\n",
       "      <td>0.023999</td>\n",
       "      <td>NaN</td>\n",
       "    </tr>\n",
       "    <tr>\n",
       "      <th>1</th>\n",
       "      <td>StackedEnsemble_BestOfFamily_0_AutoML_20181031...</td>\n",
       "      <td>0.032583</td>\n",
       "      <td>0.180508</td>\n",
       "      <td>0.032583</td>\n",
       "      <td>0.027420</td>\n",
       "      <td>NaN</td>\n",
       "    </tr>\n",
       "    <tr>\n",
       "      <th>2</th>\n",
       "      <td>StackedEnsemble_AllModels_0_AutoML_20181031_02...</td>\n",
       "      <td>0.038215</td>\n",
       "      <td>0.195487</td>\n",
       "      <td>0.038215</td>\n",
       "      <td>0.030942</td>\n",
       "      <td>NaN</td>\n",
       "    </tr>\n",
       "    <tr>\n",
       "      <th>3</th>\n",
       "      <td>XRT_0_AutoML_20181031_021306</td>\n",
       "      <td>0.089691</td>\n",
       "      <td>0.299484</td>\n",
       "      <td>0.089691</td>\n",
       "      <td>0.042203</td>\n",
       "      <td>NaN</td>\n",
       "    </tr>\n",
       "    <tr>\n",
       "      <th>4</th>\n",
       "      <td>GBM_grid_0_AutoML_20181031_021306_model_1</td>\n",
       "      <td>0.090853</td>\n",
       "      <td>0.301418</td>\n",
       "      <td>0.090853</td>\n",
       "      <td>0.051338</td>\n",
       "      <td>NaN</td>\n",
       "    </tr>\n",
       "    <tr>\n",
       "      <th>5</th>\n",
       "      <td>GBM_grid_0_AutoML_20181031_021306_model_2</td>\n",
       "      <td>0.099071</td>\n",
       "      <td>0.314755</td>\n",
       "      <td>0.099071</td>\n",
       "      <td>0.065219</td>\n",
       "      <td>NaN</td>\n",
       "    </tr>\n",
       "    <tr>\n",
       "      <th>6</th>\n",
       "      <td>DRF_0_AutoML_20181031_021306</td>\n",
       "      <td>0.123796</td>\n",
       "      <td>0.351846</td>\n",
       "      <td>0.123796</td>\n",
       "      <td>0.044293</td>\n",
       "      <td>NaN</td>\n",
       "    </tr>\n",
       "    <tr>\n",
       "      <th>7</th>\n",
       "      <td>GBM_grid_0_AutoML_20181031_021306_model_3</td>\n",
       "      <td>0.126812</td>\n",
       "      <td>0.356107</td>\n",
       "      <td>0.126812</td>\n",
       "      <td>0.059451</td>\n",
       "      <td>NaN</td>\n",
       "    </tr>\n",
       "    <tr>\n",
       "      <th>8</th>\n",
       "      <td>GLM_grid_0_AutoML_20181031_021306_model_0</td>\n",
       "      <td>0.413681</td>\n",
       "      <td>0.643180</td>\n",
       "      <td>0.413681</td>\n",
       "      <td>0.140672</td>\n",
       "      <td>NaN</td>\n",
       "    </tr>\n",
       "  </tbody>\n",
       "</table>\n",
       "</div>"
      ],
      "text/plain": [
       "                                            model_id  mean_residual_deviance  \\\n",
       "0          GBM_grid_0_AutoML_20181031_021306_model_0                0.012216   \n",
       "1  StackedEnsemble_BestOfFamily_0_AutoML_20181031...                0.032583   \n",
       "2  StackedEnsemble_AllModels_0_AutoML_20181031_02...                0.038215   \n",
       "3                       XRT_0_AutoML_20181031_021306                0.089691   \n",
       "4          GBM_grid_0_AutoML_20181031_021306_model_1                0.090853   \n",
       "5          GBM_grid_0_AutoML_20181031_021306_model_2                0.099071   \n",
       "6                       DRF_0_AutoML_20181031_021306                0.123796   \n",
       "7          GBM_grid_0_AutoML_20181031_021306_model_3                0.126812   \n",
       "8          GLM_grid_0_AutoML_20181031_021306_model_0                0.413681   \n",
       "\n",
       "       rmse       mse       mae  rmsle  \n",
       "0  0.110524  0.012216  0.023999    NaN  \n",
       "1  0.180508  0.032583  0.027420    NaN  \n",
       "2  0.195487  0.038215  0.030942    NaN  \n",
       "3  0.299484  0.089691  0.042203    NaN  \n",
       "4  0.301418  0.090853  0.051338    NaN  \n",
       "5  0.314755  0.099071  0.065219    NaN  \n",
       "6  0.351846  0.123796  0.044293    NaN  \n",
       "7  0.356107  0.126812  0.059451    NaN  \n",
       "8  0.643180  0.413681  0.140672    NaN  "
      ]
     },
     "execution_count": 55,
     "metadata": {},
     "output_type": "execute_result"
    }
   ],
   "source": [
    "aml_leaderboard_df"
   ]
  },
  {
   "cell_type": "code",
   "execution_count": 56,
   "metadata": {
    "collapsed": true
   },
   "outputs": [],
   "source": [
    "#  Get best_models and coef_norm()\n",
    "best_models={}\n",
    "best_models=stackedensemble(mod_best)\n",
    "bm=[]\n",
    "if best_models is not None: \n",
    "  if 'Intercept' in best_models.keys():\n",
    "    del best_models['Intercept']\n",
    "  bm=list(best_models.keys())\n",
    "else:\n",
    "  best_models={}\n",
    "  bm=stackedensemble_df(aml_leaderboard_df)   \n",
    "  for b in bm:   \n",
    "    best_models[b]=None\n",
    "\n",
    "if mod_best.model_id not in bm:\n",
    "    bm.append(mod_best.model_id)"
   ]
  },
  {
   "cell_type": "code",
   "execution_count": 57,
   "metadata": {},
   "outputs": [
    {
     "data": {
      "text/plain": [
       "['GBM_grid_0_AutoML_20181031_021306_model_0',\n",
       " 'XRT_0_AutoML_20181031_021306',\n",
       " 'DRF_0_AutoML_20181031_021306',\n",
       " 'GLM_grid_0_AutoML_20181031_021306_model_0',\n",
       " 'StackedEnsemble_BestOfFamily_0_AutoML_20181031_021306']"
      ]
     },
     "execution_count": 57,
     "metadata": {},
     "output_type": "execute_result"
    }
   ],
   "source": [
    "bm"
   ]
  },
  {
   "cell_type": "code",
   "execution_count": 58,
   "metadata": {
    "collapsed": true
   },
   "outputs": [],
   "source": [
    "# Best of Family leaderboard\n",
    "\n",
    "aml_leaderboard_df=aml_leaderboard_df.loc[aml_leaderboard_df['model_id'].isin(bm)]\n"
   ]
  },
  {
   "cell_type": "code",
   "execution_count": 59,
   "metadata": {},
   "outputs": [
    {
     "data": {
      "text/html": [
       "<div>\n",
       "<style>\n",
       "    .dataframe thead tr:only-child th {\n",
       "        text-align: right;\n",
       "    }\n",
       "\n",
       "    .dataframe thead th {\n",
       "        text-align: left;\n",
       "    }\n",
       "\n",
       "    .dataframe tbody tr th {\n",
       "        vertical-align: top;\n",
       "    }\n",
       "</style>\n",
       "<table border=\"1\" class=\"dataframe\">\n",
       "  <thead>\n",
       "    <tr style=\"text-align: right;\">\n",
       "      <th></th>\n",
       "      <th>model_id</th>\n",
       "      <th>mean_residual_deviance</th>\n",
       "      <th>rmse</th>\n",
       "      <th>mse</th>\n",
       "      <th>mae</th>\n",
       "      <th>rmsle</th>\n",
       "    </tr>\n",
       "  </thead>\n",
       "  <tbody>\n",
       "    <tr>\n",
       "      <th>0</th>\n",
       "      <td>GBM_grid_0_AutoML_20181031_021306_model_0</td>\n",
       "      <td>0.012216</td>\n",
       "      <td>0.110524</td>\n",
       "      <td>0.012216</td>\n",
       "      <td>0.023999</td>\n",
       "      <td>NaN</td>\n",
       "    </tr>\n",
       "    <tr>\n",
       "      <th>1</th>\n",
       "      <td>StackedEnsemble_BestOfFamily_0_AutoML_20181031...</td>\n",
       "      <td>0.032583</td>\n",
       "      <td>0.180508</td>\n",
       "      <td>0.032583</td>\n",
       "      <td>0.027420</td>\n",
       "      <td>NaN</td>\n",
       "    </tr>\n",
       "    <tr>\n",
       "      <th>3</th>\n",
       "      <td>XRT_0_AutoML_20181031_021306</td>\n",
       "      <td>0.089691</td>\n",
       "      <td>0.299484</td>\n",
       "      <td>0.089691</td>\n",
       "      <td>0.042203</td>\n",
       "      <td>NaN</td>\n",
       "    </tr>\n",
       "    <tr>\n",
       "      <th>6</th>\n",
       "      <td>DRF_0_AutoML_20181031_021306</td>\n",
       "      <td>0.123796</td>\n",
       "      <td>0.351846</td>\n",
       "      <td>0.123796</td>\n",
       "      <td>0.044293</td>\n",
       "      <td>NaN</td>\n",
       "    </tr>\n",
       "    <tr>\n",
       "      <th>8</th>\n",
       "      <td>GLM_grid_0_AutoML_20181031_021306_model_0</td>\n",
       "      <td>0.413681</td>\n",
       "      <td>0.643180</td>\n",
       "      <td>0.413681</td>\n",
       "      <td>0.140672</td>\n",
       "      <td>NaN</td>\n",
       "    </tr>\n",
       "  </tbody>\n",
       "</table>\n",
       "</div>"
      ],
      "text/plain": [
       "                                            model_id  mean_residual_deviance  \\\n",
       "0          GBM_grid_0_AutoML_20181031_021306_model_0                0.012216   \n",
       "1  StackedEnsemble_BestOfFamily_0_AutoML_20181031...                0.032583   \n",
       "3                       XRT_0_AutoML_20181031_021306                0.089691   \n",
       "6                       DRF_0_AutoML_20181031_021306                0.123796   \n",
       "8          GLM_grid_0_AutoML_20181031_021306_model_0                0.413681   \n",
       "\n",
       "       rmse       mse       mae  rmsle  \n",
       "0  0.110524  0.012216  0.023999    NaN  \n",
       "1  0.180508  0.032583  0.027420    NaN  \n",
       "3  0.299484  0.089691  0.042203    NaN  \n",
       "6  0.351846  0.123796  0.044293    NaN  \n",
       "8  0.643180  0.413681  0.140672    NaN  "
      ]
     },
     "execution_count": 59,
     "metadata": {},
     "output_type": "execute_result"
    }
   ],
   "source": [
    "aml_leaderboard_df"
   ]
  },
  {
   "cell_type": "code",
   "execution_count": 60,
   "metadata": {
    "collapsed": true
   },
   "outputs": [],
   "source": [
    "# save leaderboard\n",
    "leaderboard_stats=run_id+'_leaderboard.csv'\n",
    "aml_leaderboard_df.to_csv(leaderboard_stats)"
   ]
  },
  {
   "cell_type": "code",
   "execution_count": 61,
   "metadata": {},
   "outputs": [
    {
     "name": "stdout",
     "output_type": "stream",
     "text": [
      "GBM_grid_0_AutoML_20181031_021306_model_0\n"
     ]
    }
   ],
   "source": [
    "top=aml_leaderboard_df.iloc[0]['model_id']\n",
    "print(top)"
   ]
  },
  {
   "cell_type": "code",
   "execution_count": 62,
   "metadata": {},
   "outputs": [
    {
     "name": "stdout",
     "output_type": "stream",
     "text": [
      "GBM_grid_0_AutoML_20181031_021306_model_0\n",
      "gbm\n"
     ]
    }
   ],
   "source": [
    "mod_best=h2o.get_model(top)\n",
    "print(mod_best._id)\n",
    "print(mod_best.algo)"
   ]
  },
  {
   "cell_type": "code",
   "execution_count": 63,
   "metadata": {
    "collapsed": true
   },
   "outputs": [],
   "source": [
    "meta_data['mod_best']=mod_best._id\n",
    "meta_data['mod_best_algo']=mod_best.algo"
   ]
  },
  {
   "cell_type": "code",
   "execution_count": 64,
   "metadata": {
    "collapsed": true
   },
   "outputs": [],
   "source": [
    "meta_data['models']=bm"
   ]
  },
  {
   "cell_type": "code",
   "execution_count": 65,
   "metadata": {
    "collapsed": true
   },
   "outputs": [],
   "source": [
    "models_path=os.path.join(run_dir,'models')\n",
    "for mod in bm:\n",
    "  try:   \n",
    "    m=h2o.get_model(mod) \n",
    "    h2o.save_model(m, path = models_path)\n",
    "  except:    \n",
    "    pass    "
   ]
  },
  {
   "cell_type": "code",
   "execution_count": 66,
   "metadata": {},
   "outputs": [
    {
     "name": "stdout",
     "output_type": "stream",
     "text": [
      "C:\\Users\\Leo\\Desktop\\CSYE_7245-master\\BDIA Assignemnt 2\\HihnZMlGR\\models\n"
     ]
    }
   ],
   "source": [
    "print(models_path)"
   ]
  },
  {
   "cell_type": "code",
   "execution_count": 67,
   "metadata": {},
   "outputs": [
    {
     "name": "stdout",
     "output_type": "stream",
     "text": [
      "{'algo': 'gbm', 'model_id': 'GBM_grid_0_AutoML_20181031_021306_model_0', 'varimp': [('MeanTemp', 12960830.0, 1.0, 0.4111310543933829), ('MAX', 12641755.0, 0.9753815920739644, 0.4010096623852655), ('MEA', 4165875.25, 0.32142040671777966, 0.13214591071743073), ('MinTemp', 1556738.0, 0.12011098054677054, 0.049381354076416875), ('MIN', 176828.15625, 0.013643274099729725, 0.005609173665999813), ('STA', 15087.1533203125, 0.0011640576506529675, 0.00047858024928763864), ('YR', 2765.450927734375, 0.00021336989434583858, 8.772298963820932e-05), ('DA', 1930.7884521484375, 0.0001489710498593406, 6.124662480275992e-05), ('Precip', 1725.3968505859375, 0.00013312394735413838, 5.473138884071611e-05), ('Snowfall', 571.26171875, 4.4076013553915914e-05, 1.8121017925878485e-05), ('PRCP', 538.1204223632812, 4.151897851937578e-05, 1.7069741416007183e-05), ('MO', 135.66700744628906, 1.046746292068402e-05, 4.30349906740446e-06), ('SNF', 33.707923889160156, 2.600753492574176e-06, 1.069250525619294e-06)]}\n"
     ]
    }
   ],
   "source": [
    "# GBM\n",
    " \n",
    "mod,mod_id=get_model_by_algo(\"GBM\",best_models)\n",
    "if mod is not None:\n",
    "    try:     \n",
    "        sh_df=mod.scoring_history()\n",
    "        sh_df.to_csv(run_id+'_gbm_scoring_history.csv') \n",
    "    except:\n",
    "        pass   \n",
    "    try:     \n",
    "        stats_gbm={}\n",
    "        stats_gbm=gbm_stats(mod)\n",
    "        n=run_id+'_gbm_stats.json'\n",
    "        dict_to_json(stats_gbm,n)\n",
    "        print(stats_gbm)\n",
    "    except:\n",
    "        pass        "
   ]
  },
  {
   "cell_type": "code",
   "execution_count": 68,
   "metadata": {
    "collapsed": true
   },
   "outputs": [],
   "source": [
    "# DeepLearning\n",
    "\n",
    "mod,mod_id=get_model_by_algo(\"Dee\",best_models)\n"
   ]
  },
  {
   "cell_type": "code",
   "execution_count": 69,
   "metadata": {
    "collapsed": true
   },
   "outputs": [],
   "source": [
    "if mod is not None:\n",
    "    try:    \n",
    "        sh_df=mod.scoring_history()\n",
    "        sh_df.to_csv(run_id+'_dl_scoring_history.csv') \n",
    "    except:\n",
    "        pass \n",
    "    try:\n",
    "        stats_dl={}\n",
    "        stats_dl=dl_stats(mod)\n",
    "        n=run_id+'_dl_stats.json'\n",
    "        dict_to_json(stats_dl,n)\n",
    "        print(stats_dl)\n",
    "    except:\n",
    "        pass    \n",
    "    try:\n",
    "        cf=mod.confusion_matrix()    \n",
    "        cf_df.to_csv(run_id+'_dl_confusion_matrix.csv')\n",
    "    except:\n",
    "        pass       "
   ]
  },
  {
   "cell_type": "code",
   "execution_count": 70,
   "metadata": {
    "collapsed": true
   },
   "outputs": [],
   "source": [
    "# DRF\n",
    "\n",
    "mod,mod_id=get_model_by_algo(\"DRF\",best_models)\n",
    "if mod is not None:\n",
    "    try:     \n",
    "         sh_df=mod.scoring_history()\n",
    "         sh_df.to_csv(run_id+'_drf_scoring_history.csv') \n",
    "    except:\n",
    "         pass  \n",
    "    try: \n",
    "         stats_drf={}\n",
    "         stats_drf=drf_stats(mod)\n",
    "         n=run_id+'_drf_stats.json'\n",
    "         dict_to_json(stats_drf,n)\n",
    "         print(stats_drf)\n",
    "    except:\n",
    "         pass     "
   ]
  },
  {
   "cell_type": "code",
   "execution_count": 71,
   "metadata": {
    "collapsed": true
   },
   "outputs": [],
   "source": [
    "# XRT\n",
    "\n",
    "mod,mod_id=get_model_by_algo(\"XRT\",best_models)\n",
    "if mod is not None:\n",
    "    try:     \n",
    "         sh_df=mod.scoring_history()\n",
    "         sh_df.to_csv(run_id+'_xrt_scoring_history.csv')\n",
    "    except:\n",
    "         pass     \n",
    "    try:        \n",
    "         stats_xrt={}\n",
    "         stats_xrt=xrt_stats(mod)\n",
    "         n=run_id+'_xrt_stats.json'\n",
    "         dict_to_json(stats_xrt,n)\n",
    "         print(stats_xrt)\n",
    "    except:\n",
    "         pass     "
   ]
  },
  {
   "cell_type": "code",
   "execution_count": 72,
   "metadata": {},
   "outputs": [
    {
     "name": "stdout",
     "output_type": "stream",
     "text": [
      "{'algo': 'glm', 'model_id': 'GLM_grid_0_AutoML_20181031_021306_model_0', 'coef': {'Intercept': 0.4449032065300713, 'STA': 4.2951654874544894e-07, 'Precip': -0.023057872680400736, 'SNF': 0.41609085105795807, 'MEA': -0.1453981880045432, 'MIN': -0.2562749712706765, 'MinTemp': 0.1321976188218823, 'MeanTemp': 0.9365418568031056, 'Snowfall': -0.017311085255573424, 'MAX': 0.3634889005053677, 'YR': 0.019000828083392384, 'MO': 0.0002094895163720759, 'DA': 0.00019591443222679173, 'PRCP': 0.5714085573567832}, 'coef_norm': {'Intercept': 27.060626199956506, 'STA': 0.008993203371429793, 'Precip': -0.24933408449782, 'SNF': 0.04276584522792883, 'MEA': -2.059229202286777, 'MIN': -3.6987773169564733, 'MinTemp': 1.100968858724858, 'MeanTemp': 7.76480508946561, 'Snowfall': -0.04519255602106722, 'MAX': 5.387794669831835, 'YR': 0.021578153756971367, 'MO': 0.0007188263098997643, 'DA': 0.0017257924545968902, 'PRCP': 0.24302347670379926}}\n"
     ]
    }
   ],
   "source": [
    "# GLM\n",
    "\n",
    "mod,mod_id=get_model_by_algo(\"GLM\",best_models)\n",
    "if mod is not None:\n",
    "    try:     \n",
    "         stats_glm={}\n",
    "         stats_glm=glm_stats(mod)\n",
    "         n=run_id+'_glm_stats.json'\n",
    "         dict_to_json(stats_glm,n)\n",
    "         print(stats_glm)\n",
    "    except:\n",
    "         pass     "
   ]
  },
  {
   "cell_type": "code",
   "execution_count": 73,
   "metadata": {},
   "outputs": [
    {
     "name": "stdout",
     "output_type": "stream",
     "text": [
      "gbm prediction progress: |████████████████████████████████████████████████| 100%\n"
     ]
    }
   ],
   "source": [
    "predictions_df=predictions_test(mod_best,test,run_id)"
   ]
  },
  {
   "cell_type": "code",
   "execution_count": 74,
   "metadata": {},
   "outputs": [
    {
     "data": {
      "text/html": [
       "<table>\n",
       "<thead>\n",
       "<tr><th style=\"text-align: right;\">  predict</th></tr>\n",
       "</thead>\n",
       "<tbody>\n",
       "<tr><td style=\"text-align: right;\">  26.6692</td></tr>\n",
       "<tr><td style=\"text-align: right;\">  28.3342</td></tr>\n",
       "<tr><td style=\"text-align: right;\">  24.4773</td></tr>\n",
       "<tr><td style=\"text-align: right;\">  26.1288</td></tr>\n",
       "<tr><td style=\"text-align: right;\">  27.2271</td></tr>\n",
       "<tr><td style=\"text-align: right;\">  31.1841</td></tr>\n",
       "<tr><td style=\"text-align: right;\">  29.4333</td></tr>\n",
       "<tr><td style=\"text-align: right;\">  27.7843</td></tr>\n",
       "<tr><td style=\"text-align: right;\">  30.5531</td></tr>\n",
       "<tr><td style=\"text-align: right;\">  32.2314</td></tr>\n",
       "</tbody>\n",
       "</table>"
      ]
     },
     "metadata": {},
     "output_type": "display_data"
    },
    {
     "data": {
      "text/plain": []
     },
     "execution_count": 74,
     "metadata": {},
     "output_type": "execute_result"
    }
   ],
   "source": [
    "predictions_df.head()"
   ]
  },
  {
   "cell_type": "code",
   "execution_count": 75,
   "metadata": {},
   "outputs": [
    {
     "name": "stdout",
     "output_type": "stream",
     "text": [
      "Rows:11819\n",
      "Cols:1\n",
      "\n",
      "\n"
     ]
    },
    {
     "data": {
      "text/html": [
       "<table>\n",
       "<thead>\n",
       "<tr><th>       </th><th>predict           </th></tr>\n",
       "</thead>\n",
       "<tbody>\n",
       "<tr><td>type   </td><td>real              </td></tr>\n",
       "<tr><td>mins   </td><td>-32.1074788343809 </td></tr>\n",
       "<tr><td>mean   </td><td>26.94578164409437 </td></tr>\n",
       "<tr><td>maxs   </td><td>49.23777763383592 </td></tr>\n",
       "<tr><td>sigma  </td><td>8.738052301575625 </td></tr>\n",
       "<tr><td>zeros  </td><td>0                 </td></tr>\n",
       "<tr><td>missing</td><td>0                 </td></tr>\n",
       "<tr><td>0      </td><td>26.669206596956524</td></tr>\n",
       "<tr><td>1      </td><td>28.33424540729936 </td></tr>\n",
       "<tr><td>2      </td><td>24.477291748878468</td></tr>\n",
       "<tr><td>3      </td><td>26.12884091865389 </td></tr>\n",
       "<tr><td>4      </td><td>27.227092910509196</td></tr>\n",
       "<tr><td>5      </td><td>31.18411551401427 </td></tr>\n",
       "<tr><td>6      </td><td>29.433334507503556</td></tr>\n",
       "<tr><td>7      </td><td>27.784277900360944</td></tr>\n",
       "<tr><td>8      </td><td>30.55314239148208 </td></tr>\n",
       "<tr><td>9      </td><td>32.2314053737996  </td></tr>\n",
       "</tbody>\n",
       "</table>"
      ]
     },
     "metadata": {},
     "output_type": "display_data"
    }
   ],
   "source": [
    "predictions_df.describe()"
   ]
  },
  {
   "cell_type": "code",
   "execution_count": 76,
   "metadata": {
    "collapsed": true
   },
   "outputs": [],
   "source": [
    "# Update and save meta data\n",
    "\n",
    "meta_data['end_time'] = time.time()\n",
    "meta_data['execution_time'] = meta_data['end_time'] - meta_data['start_time']\n",
    "  \n",
    "n=run_id+'_meta_data.json'\n",
    "dict_to_json(meta_data,n)    \n"
   ]
  },
  {
   "cell_type": "code",
   "execution_count": 77,
   "metadata": {
    "scrolled": true
   },
   "outputs": [
    {
     "data": {
      "text/plain": [
       "{'X': ['STA',\n",
       "  'MEA',\n",
       "  'MIN',\n",
       "  'MAX',\n",
       "  'YR',\n",
       "  'MO',\n",
       "  'DA',\n",
       "  'Precip',\n",
       "  'SNF',\n",
       "  'MinTemp',\n",
       "  'MeanTemp',\n",
       "  'Snowfall',\n",
       "  'PRCP'],\n",
       " 'analysis': 0,\n",
       " 'balance': False,\n",
       " 'balance_threshold': 0.2,\n",
       " 'classification': False,\n",
       " 'end_time': 1540966764.9921188,\n",
       " 'execution_time': 422.4709188938141,\n",
       " 'max_models': 9,\n",
       " 'min_mem_size': 6,\n",
       " 'mod_best': 'GBM_grid_0_AutoML_20181031_021306_model_0',\n",
       " 'mod_best_algo': 'gbm',\n",
       " 'model_execution_time': 365.7024784088135,\n",
       " 'models': ['GBM_grid_0_AutoML_20181031_021306_model_0',\n",
       "  'XRT_0_AutoML_20181031_021306',\n",
       "  'DRF_0_AutoML_20181031_021306',\n",
       "  'GLM_grid_0_AutoML_20181031_021306_model_0',\n",
       "  'StackedEnsemble_BestOfFamily_0_AutoML_20181031_021306'],\n",
       " 'nthreads': 1,\n",
       " 'project': None,\n",
       " 'run_id': 'HihnZMlGR',\n",
       " 'run_time': 333,\n",
       " 'scale': False,\n",
       " 'start_time': 1540966342.5212,\n",
       " 'target': None,\n",
       " 'variables': {'DA': 'int',\n",
       "  'MAX': 'int',\n",
       "  'MEA': 'int',\n",
       "  'MIN': 'int',\n",
       "  'MO': 'int',\n",
       "  'MaxTemp': 'real',\n",
       "  'MeanTemp': 'real',\n",
       "  'MinTemp': 'real',\n",
       "  'PRCP': 'real',\n",
       "  'Precip': 'real',\n",
       "  'SNF': 'real',\n",
       "  'STA': 'int',\n",
       "  'Snowfall': 'real',\n",
       "  'YR': 'int'}}"
      ]
     },
     "execution_count": 77,
     "metadata": {},
     "output_type": "execute_result"
    }
   ],
   "source": [
    "meta_data\n"
   ]
  },
  {
   "cell_type": "code",
   "execution_count": 78,
   "metadata": {},
   "outputs": [
    {
     "data": {
      "image/png": "[encoded data removed]",
      "text/plain": [
       "<matplotlib.figure.Figure at 0x151d7f1d6d8>"
      ]
     },
     "metadata": {},
     "output_type": "display_data"
    }
   ],
   "source": [
    "mod_best.varimp_plot()"
   ]
  },
  {
   "cell_type": "code",
   "execution_count": 79,
   "metadata": {},
   "outputs": [
    {
     "name": "stdout",
     "output_type": "stream",
     "text": [
      "PartialDependencePlot progress: |█████████████████████████████████████████| 100%\n"
     ]
    },
    {
     "data": {
      "image/png": "[encoded data removed]",
      "text/plain": [
       "<matplotlib.figure.Figure at 0x151d7f00978>"
      ]
     },
     "metadata": {},
     "output_type": "display_data"
    }
   ],
   "source": [
    "aml.leader.partial_plot(data=df, cols=df.columns)\n",
    "plt.show()"
   ]
  },
  {
   "cell_type": "code",
   "execution_count": 75,
   "metadata": {
    "collapsed": true
   },
   "outputs": [],
   "source": [
    "# Clean up\n",
    "os.chdir(server_path)"
   ]
  },
  {
   "cell_type": "code",
   "execution_count": 76,
   "metadata": {
    "scrolled": true
   },
   "outputs": [
    {
     "name": "stdout",
     "output_type": "stream",
     "text": [
      "H2O session _sid_9c13 closed.\n"
     ]
    }
   ],
   "source": [
    "h2o.cluster().shutdown()"
   ]
  }
 ],
 "metadata": {
  "kernelspec": {
   "display_name": "Python 3",
   "language": "python",
   "name": "python3"
  },
  "language_info": {
   "codemirror_mode": {
    "name": "ipython",
    "version": 3
   },
   "file_extension": ".py",
   "mimetype": "text/x-python",
   "name": "python",
   "nbconvert_exporter": "python",
   "pygments_lexer": "ipython3",
   "version": "3.6.3"
  }
 },
 "nbformat": 4,
 "nbformat_minor": 2
}
