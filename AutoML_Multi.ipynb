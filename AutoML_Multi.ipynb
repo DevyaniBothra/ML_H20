{
 "cells": [
  {
   "cell_type": "markdown",
   "metadata": {},
   "source": [
    "Assignment 2 - Big Data with H2O\n",
    "\n",
    "**Multiclass Classification** "
   ]
  },
  {
   "cell_type": "code",
   "execution_count": 1,
   "metadata": {
    "collapsed": true
   },
   "outputs": [],
   "source": [
    "import h2o\n",
    "from h2o.automl import H2OAutoML\n",
    "import random, os, sys\n",
    "from datetime import datetime\n",
    "import pandas as pd\n",
    "import logging\n",
    "import csv\n",
    "import optparse\n",
    "import time\n",
    "import json\n",
    "from distutils.util import strtobool\n",
    "import matplotlib.pyplot as plt"
   ]
  },
  {
   "cell_type": "markdown",
   "metadata": {},
   "source": [
    "Set up some parameters for the analysis.  "
   ]
  },
  {
   "cell_type": "code",
   "execution_count": 2,
   "metadata": {
    "collapsed": true
   },
   "outputs": [],
   "source": [
    "data_path=None\n",
    "all_variables=None\n",
    "test_path=None\n",
    "target=None\n",
    "nthreads=1 \n",
    "min_mem_size=6 \n",
    "run_time=333\n",
    "classification=False\n",
    "scale=False\n",
    "max_models=9    \n",
    "model_path=None\n",
    "balance_y=False \n",
    "balance_threshold=0.2\n",
    "name=None \n",
    "server_path=None  \n",
    "analysis=0 "
   ]
  },
  {
   "cell_type": "markdown",
   "metadata": {},
   "source": [
    "The next sections contains helper functions for automating analysis.             "
   ]
  },
  {
   "cell_type": "code",
   "execution_count": 3,
   "metadata": {
    "collapsed": true
   },
   "outputs": [],
   "source": [
    "# Functions\n",
    "\n",
    "def alphabet(n):\n",
    "  alpha='0123456789abcdefghijklmnopqrstuvwxyzABCDEFGHIJKLMNOPQRSTUVWXYZ'    \n",
    "  str=''\n",
    "  r=len(alpha)-1   \n",
    "  while len(str)<n:\n",
    "    i=random.randint(0,r)\n",
    "    str+=alpha[i]   \n",
    "  return str\n",
    "  \n",
    "  \n",
    "def set_meta_data(run_id,analysis,target,run_time,classification,scale,model,balance,balance_threshold,name,nthreads,min_mem_size):\n",
    "  m_data={}\n",
    "  m_data['run_id'] =run_id\n",
    "  m_data['start_time'] = time.time()\n",
    "  m_data['target']=target\n",
    "  m_data['max_models']=model\n",
    "  m_data['run_time']=run_time\n",
    "  m_data['scale']=scale\n",
    "  m_data['classification']=classification\n",
    "  m_data['scale']=False\n",
    "  m_data['balance']=balance\n",
    "  m_data['balance_threshold']=balance_threshold\n",
    "  m_data['project'] =name\n",
    "  m_data['end_time'] = time.time()\n",
    "  m_data['execution_time'] = 0.0\n",
    "  m_data['nthreads'] = nthreads\n",
    "  m_data['min_mem_size'] = min_mem_size\n",
    "  m_data['analysis'] = analysis\n",
    "  return m_data\n",
    "\n",
    "\n",
    "def dict_to_json(dct,n):\n",
    "  j = json.dumps(dct, indent=4)\n",
    "  f = open(n, 'w')\n",
    "  print(j, file=f)\n",
    "  f.close()\n",
    "  \n",
    "  \n",
    "def stackedensemble(mod):\n",
    "    coef_norm=None\n",
    "    try:\n",
    "      metalearner = h2o.get_model(mod.metalearner()['name'])\n",
    "      coef_norm=metalearner.coef_norm()\n",
    "    except:\n",
    "      pass        \n",
    "    return coef_norm\n",
    "\n",
    "def stackedensemble_df(df):\n",
    "    bm_algo={ 'GBM': None,'GLM': None,'DRF': None,'XRT': None,'Dee': None}\n",
    "    for index, row in df.iterrows():\n",
    "      if len(row['model_id'])>3:\n",
    "        key=row['model_id'][0:3]\n",
    "        if key in bm_algo:\n",
    "          if bm_algo[key] is None:\n",
    "                bm_algo[key]=row['model_id']\n",
    "    bm=list(bm_algo.values()) \n",
    "    bm=list(filter(None.__ne__, bm))             \n",
    "    return bm\n",
    "\n",
    "def se_stats(modl):\n",
    "    d={}\n",
    "    d['algo']=modl.algo\n",
    "    d['model_id']=modl.model_id   \n",
    "    d['auc']=modl.auc()   \n",
    "    d['roc']=modl.roc()\n",
    "    d['mse']=modl.mse()   \n",
    "    d['null_degrees_of_freedom']=modl.null_degrees_of_freedom()\n",
    "    d['null_deviance']=modl.null_deviance()\n",
    "    d['residual_degrees_of_freedom']=modl.residual_degrees_of_freedom()   \n",
    "    d['residual_deviance']=modl.residual_deviance()\n",
    "    d['rmse']=modl.rmse()\n",
    "    return d\n",
    "\n",
    "def get_model_by_algo(algo,models_dict):\n",
    "    mod=None\n",
    "    mod_id=None    \n",
    "    for m in list(models_dict.keys()):\n",
    "        if m[0:3]==algo:\n",
    "            mod_id=m\n",
    "            mod=h2o.get_model(m)      \n",
    "    return mod,mod_id     \n",
    "    \n",
    "    \n",
    "def gbm_stats(modl):\n",
    "    d={}\n",
    "    d['algo']=modl.algo\n",
    "    d['model_id']=modl.model_id   \n",
    "    d['varimp']=modl.varimp()  \n",
    "    return d\n",
    "    \n",
    "    \n",
    "def dl_stats(modl):\n",
    "    d={}\n",
    "    d['algo']=modl.algo\n",
    "    d['model_id']=modl.model_id   \n",
    "    d['varimp']=modl.varimp()  \n",
    "    return d\n",
    "    \n",
    "    \n",
    "def drf_stats(modl):\n",
    "    d={}\n",
    "    d['algo']=modl.algo\n",
    "    d['model_id']=modl.model_id   \n",
    "    d['varimp']=modl.varimp()  \n",
    "    d['roc']=modl.roc()      \n",
    "    return d\n",
    "    \n",
    "def xrt_stats(modl):\n",
    "    d={}\n",
    "    d['algo']=modl.algo\n",
    "    d['model_id']=modl.model_id   \n",
    "    d['varimp']=modl.varimp()  \n",
    "    d['roc']=modl.roc()      \n",
    "    return d\n",
    "    \n",
    "    \n",
    "def glm_stats(modl):\n",
    "    d={}\n",
    "    d['algo']=modl.algo\n",
    "    d['model_id']=modl.model_id   \n",
    "    d['coef']=modl.coef()  \n",
    "    d['coef_norm']=modl.coef_norm()      \n",
    "    return d\n",
    "    \n",
    "def model_performance_stats(perf):\n",
    "    d={}\n",
    "    try:    \n",
    "      d['mse']=perf.mse()\n",
    "    except:\n",
    "      pass      \n",
    "    try:    \n",
    "      d['rmse']=perf.rmse() \n",
    "    except:\n",
    "      pass      \n",
    "    try:    \n",
    "      d['null_degrees_of_freedom']=perf.null_degrees_of_freedom()\n",
    "    except:\n",
    "      pass      \n",
    "    try:    \n",
    "      d['residual_degrees_of_freedom']=perf.residual_degrees_of_freedom()\n",
    "    except:\n",
    "      pass      \n",
    "    try:    \n",
    "      d['residual_deviance']=perf.residual_deviance() \n",
    "    except:\n",
    "      pass      \n",
    "    try:    \n",
    "      d['null_deviance']=perf.null_deviance() \n",
    "    except:\n",
    "      pass      \n",
    "    try:    \n",
    "      d['aic']=perf.aic() \n",
    "    except:\n",
    "      pass      \n",
    "    try:\n",
    "      d['logloss']=perf.logloss() \n",
    "    except:\n",
    "      pass    \n",
    "    try:\n",
    "      d['auc']=perf.auc()\n",
    "    except:\n",
    "      pass  \n",
    "    try:\n",
    "      d['gini']=perf.gini()\n",
    "    except:\n",
    "      pass    \n",
    "    return d\n",
    "    \n",
    "def impute_missing_values(df, x, scal=False):\n",
    "    # determine column types\n",
    "    ints, reals, enums = [], [], []\n",
    "    for key, val in df.types.items():\n",
    "        if key in x:\n",
    "            if val == 'enum':\n",
    "                enums.append(key)\n",
    "            elif val == 'int':\n",
    "                ints.append(key)            \n",
    "            else: \n",
    "                reals.append(key)    \n",
    "    _ = df[reals].impute(method='mean')\n",
    "    _ = df[ints].impute(method='median')\n",
    "    if scal:\n",
    "        df[reals] = df[reals].scale()\n",
    "        df[ints] = df[ints].scale()    \n",
    "    return\n",
    "\n",
    "\n",
    "def get_independent_variables(df, targ):\n",
    "    C = [name for name in df.columns if name != targ]\n",
    "    # determine column types\n",
    "    ints, reals, enums = [], [], []\n",
    "    for key, val in df.types.items():\n",
    "        if key in C:\n",
    "            if val == 'enum':\n",
    "                enums.append(key)\n",
    "            elif val == 'int':\n",
    "                ints.append(key)            \n",
    "            else: \n",
    "                reals.append(key)    \n",
    "    x=ints+enums+reals\n",
    "    return x\n",
    "    \n",
    "def get_all_variables_csv(i):\n",
    "    ivd={}\n",
    "    try:\n",
    "      iv = pd.read_csv(i,header=None)\n",
    "    except:\n",
    "      sys.exit(1)    \n",
    "    col=iv.values.tolist()[0]\n",
    "    dt=iv.values.tolist()[1]\n",
    "    i=0\n",
    "    for c in col:\n",
    "      ivd[c.strip()]=dt[i].strip()\n",
    "      i+=1        \n",
    "    return ivd\n",
    "    \n",
    "    \n",
    "\n",
    "def check_all_variables(df,dct,y=None):     \n",
    "    targ=list(dct.keys())     \n",
    "    for key, val in df.types.items():\n",
    "        if key in targ:\n",
    "          if dct[key] not in ['real','int','enum']:                      \n",
    "            targ.remove(key)  \n",
    "    for key, val in df.types.items():\n",
    "        if key in targ:            \n",
    "          if dct[key] != val:\n",
    "            print('convert ',key,' ',dct[key],' ',val)\n",
    "            if dct[key]=='enum':\n",
    "                try:\n",
    "                  df[key] = df[key].asfactor() \n",
    "                except:\n",
    "                  targ.remove(key)                 \n",
    "            if dct[key]=='int': \n",
    "                try:                \n",
    "                  df[key] = df[key].asnumeric() \n",
    "                except:\n",
    "                  targ.remove(key)                  \n",
    "            if dct[key]=='real':\n",
    "                try:                \n",
    "                  df[key] = df[key].asnumeric()  \n",
    "                except:\n",
    "                  targ.remove(key)                  \n",
    "    if y is None:\n",
    "      y=df.columns[-1] \n",
    "    if y in targ:\n",
    "      targ.remove(y)\n",
    "    else:\n",
    "      y=targ.pop()            \n",
    "    return targ    \n",
    "    \n",
    "def predictions(mod,data,run_id):\n",
    "    test = h2o.import_file(data)\n",
    "    mod_perf=mod_best.model_performance(test)\n",
    "              \n",
    "    stats_test={}\n",
    "    stats_test=model_performance_stats(mod_perf)\n",
    "\n",
    "    n=run_id+'_test_stats.json'\n",
    "    dict_to_json(stats_test,n) \n",
    "\n",
    "    try:    \n",
    "      cf=mod_perf.confusion_matrix(metrics=[\"f1\",\"f2\",\"f0point5\",\"accuracy\",\"precision\",\"recall\",\"specificity\",\"absolute_mcc\",\"min_per_class_accuracy\",\"mean_per_class_accuracy\"])\n",
    "      cf_df=cf[0].table.as_data_frame()\n",
    "      cf_df.to_csv(run_id+'_test_confusion_matrix.csv')\n",
    "    except:\n",
    "      pass\n",
    "\n",
    "    predictions = mod_best.predict(test)\n",
    "    predictions_df=test.cbind(predictions).as_data_frame() \n",
    "    predictions_df.to_csv(run_id+'_predictions.csv')\n",
    "    return\n",
    "\n",
    "def predictions_test(mod,test,run_id):\n",
    "    mod_perf=mod_best.model_performance(test)          \n",
    "    stats_test={}\n",
    "    stats_test=model_performance_stats(mod_perf)\n",
    "    n=run_id+'_test_stats.json'\n",
    "    dict_to_json(stats_test,n) \n",
    "    try:\n",
    "      cf=mod_perf.confusion_matrix(metrics=[\"f1\",\"f2\",\"f0point5\",\"accuracy\",\"precision\",\"recall\",\"specificity\",\"absolute_mcc\",\"min_per_class_accuracy\",\"mean_per_class_accuracy\"])\n",
    "      cf_df=cf[0].table.as_data_frame()\n",
    "      cf_df.to_csv(run_id+'_test_confusion_matrix.csv')\n",
    "    except:\n",
    "      pass\n",
    "    predictions = mod_best.predict(test)    \n",
    "    predictions_df=test.cbind(predictions).as_data_frame() \n",
    "    predictions_df.to_csv(run_id+'_predictions.csv')\n",
    "    return predictions\n",
    "\n",
    "def check_X(x,df):\n",
    "    for name in x:\n",
    "        if name not in df.columns:\n",
    "          x.remove(name)  \n",
    "    return x    \n",
    "    \n",
    "    \n",
    "def get_stacked_ensemble(lst):\n",
    "    se=None\n",
    "    for model in model_set:\n",
    "      if 'BestOfFamily' in model:\n",
    "        se=model\n",
    "    if se is None:     \n",
    "      for model in model_set:\n",
    "        if 'AllModels'in model:\n",
    "          se=model           \n",
    "    return se       \n",
    "    \n",
    "def get_variables_types(df):\n",
    "    d={}\n",
    "    for key, val in df.types.items():\n",
    "        d[key]=val           \n",
    "    return d    \n",
    "    \n",
    "#  End Functions"
   ]
  },
  {
   "cell_type": "code",
   "execution_count": 4,
   "metadata": {
    "collapsed": true
   },
   "outputs": [],
   "source": [
    "data_path='C:/Fall 2018 semester/Big Data Systems Intelligence and Analytics/kicks_multi.csv'"
   ]
  },
  {
   "cell_type": "code",
   "execution_count": 5,
   "metadata": {
    "collapsed": true
   },
   "outputs": [],
   "source": [
    "data_path = os.path.join(os.path.abspath(os.curdir),data_path)"
   ]
  },
  {
   "cell_type": "code",
   "execution_count": 6,
   "metadata": {
    "collapsed": true
   },
   "outputs": [],
   "source": [
    "all_variables=None"
   ]
  },
  {
   "cell_type": "code",
   "execution_count": 7,
   "metadata": {},
   "outputs": [
    {
     "name": "stdout",
     "output_type": "stream",
     "text": [
      "R97iMyBYd\n"
     ]
    }
   ],
   "source": [
    "run_id=alphabet(9)\n",
    "# run_id to std out\n",
    "print (run_id) "
   ]
  },
  {
   "cell_type": "code",
   "execution_count": 8,
   "metadata": {
    "collapsed": true
   },
   "outputs": [],
   "source": [
    "server_path=os.path.abspath(os.curdir)\n",
    "os.chdir(server_path) \n",
    "run_dir = os.path.join(server_path,run_id)\n",
    "os.mkdir(run_dir)\n",
    "os.chdir(run_dir) "
   ]
  },
  {
   "cell_type": "code",
   "execution_count": 9,
   "metadata": {},
   "outputs": [
    {
     "name": "stdout",
     "output_type": "stream",
     "text": [
      "Checking whether there is an H2O instance running at http://localhost:46244..... not found.\n",
      "Attempting to start a local H2O server...\n",
      "; Java HotSpot(TM) 64-Bit Server VM (build 25.181-b13, mixed mode)\n",
      "  Starting server from C:\\Users\\Leo\\Anaconda3\\lib\\site-packages\\h2o\\backend\\bin\\h2o.jar\n",
      "  Ice root: C:\\Users\\Leo\\AppData\\Local\\Temp\\tmpobxl3zk6\n",
      "  JVM stdout: C:\\Users\\Leo\\AppData\\Local\\Temp\\tmpobxl3zk6\\h2o_Leo_started_from_python.out\n",
      "  JVM stderr: C:\\Users\\Leo\\AppData\\Local\\Temp\\tmpobxl3zk6\\h2o_Leo_started_from_python.err\n",
      "  Server is running at http://127.0.0.1:46244\n",
      "Connecting to H2O server at http://127.0.0.1:46244... successful.\n"
     ]
    },
    {
     "data": {
      "text/html": [
       "<div style=\"overflow:auto\"><table style=\"width:50%\"><tr><td>H2O cluster uptime:</td>\n",
       "<td>12 secs</td></tr>\n",
       "<tr><td>H2O cluster timezone:</td>\n",
       "<td>America/New_York</td></tr>\n",
       "<tr><td>H2O data parsing timezone:</td>\n",
       "<td>UTC</td></tr>\n",
       "<tr><td>H2O cluster version:</td>\n",
       "<td>3.20.0.8</td></tr>\n",
       "<tr><td>H2O cluster version age:</td>\n",
       "<td>1 month and 9 days </td></tr>\n",
       "<tr><td>H2O cluster name:</td>\n",
       "<td>H2O_from_python_Leo_dy0p69</td></tr>\n",
       "<tr><td>H2O cluster total nodes:</td>\n",
       "<td>1</td></tr>\n",
       "<tr><td>H2O cluster free memory:</td>\n",
       "<td>5.750 Gb</td></tr>\n",
       "<tr><td>H2O cluster total cores:</td>\n",
       "<td>4</td></tr>\n",
       "<tr><td>H2O cluster allowed cores:</td>\n",
       "<td>4</td></tr>\n",
       "<tr><td>H2O cluster status:</td>\n",
       "<td>accepting new members, healthy</td></tr>\n",
       "<tr><td>H2O connection url:</td>\n",
       "<td>http://127.0.0.1:46244</td></tr>\n",
       "<tr><td>H2O connection proxy:</td>\n",
       "<td>None</td></tr>\n",
       "<tr><td>H2O internal security:</td>\n",
       "<td>False</td></tr>\n",
       "<tr><td>H2O API Extensions:</td>\n",
       "<td>Algos, AutoML, Core V3, Core V4</td></tr>\n",
       "<tr><td>Python version:</td>\n",
       "<td>3.6.3 final</td></tr></table></div>"
      ],
      "text/plain": [
       "--------------------------  -------------------------------\n",
       "H2O cluster uptime:         12 secs\n",
       "H2O cluster timezone:       America/New_York\n",
       "H2O data parsing timezone:  UTC\n",
       "H2O cluster version:        3.20.0.8\n",
       "H2O cluster version age:    1 month and 9 days\n",
       "H2O cluster name:           H2O_from_python_Leo_dy0p69\n",
       "H2O cluster total nodes:    1\n",
       "H2O cluster free memory:    5.750 Gb\n",
       "H2O cluster total cores:    4\n",
       "H2O cluster allowed cores:  4\n",
       "H2O cluster status:         accepting new members, healthy\n",
       "H2O connection url:         http://127.0.0.1:46244\n",
       "H2O connection proxy:\n",
       "H2O internal security:      False\n",
       "H2O API Extensions:         Algos, AutoML, Core V3, Core V4\n",
       "Python version:             3.6.3 final\n",
       "--------------------------  -------------------------------"
      ]
     },
     "metadata": {},
     "output_type": "display_data"
    }
   ],
   "source": [
    "# 65535 Highest port no\n",
    "port_no=random.randint(5555,55555)\n",
    "h2o.init(strict_version_check=False,min_mem_size_GB=min_mem_size,port=port_no)"
   ]
  },
  {
   "cell_type": "code",
   "execution_count": 10,
   "metadata": {},
   "outputs": [
    {
     "name": "stdout",
     "output_type": "stream",
     "text": [
      "{'run_id': 'R97iMyBYd', 'start_time': 1540965849.587282, 'target': None, 'max_models': 9, 'run_time': 333, 'scale': False, 'classification': False, 'balance': False, 'balance_threshold': 0.2, 'project': None, 'end_time': 1540965849.587282, 'execution_time': 0.0, 'nthreads': 1, 'min_mem_size': 6, 'analysis': 0}\n"
     ]
    }
   ],
   "source": [
    "# meta data\n",
    "meta_data = set_meta_data(run_id,analysis,target,run_time,classification,scale,max_models,balance_y,balance_threshold,name,nthreads,min_mem_size)\n",
    "print(meta_data)  "
   ]
  },
  {
   "cell_type": "code",
   "execution_count": 11,
   "metadata": {},
   "outputs": [
    {
     "name": "stdout",
     "output_type": "stream",
     "text": [
      "C:/Fall 2018 semester/Big Data Systems Intelligence and Analytics/kicks_multi.csv\n"
     ]
    }
   ],
   "source": [
    "print(data_path)"
   ]
  },
  {
   "cell_type": "code",
   "execution_count": 12,
   "metadata": {},
   "outputs": [
    {
     "name": "stdout",
     "output_type": "stream",
     "text": [
      "Parse progress: |█████████████████████████████████████████████████████████| 100%\n"
     ]
    }
   ],
   "source": [
    "df = h2o.import_file(data_path)"
   ]
  },
  {
   "cell_type": "code",
   "execution_count": 13,
   "metadata": {},
   "outputs": [
    {
     "data": {
      "text/html": [
       "<table>\n",
       "<thead>\n",
       "<tr><th style=\"text-align: right;\">  C1</th><th style=\"text-align: right;\">   goal</th><th style=\"text-align: right;\">  state</th><th style=\"text-align: right;\">  backers</th><th style=\"text-align: right;\">  country_is_us</th><th style=\"text-align: right;\">  Goal_1000</th><th style=\"text-align: right;\">  Goal_500</th><th style=\"text-align: right;\">  Goal_10</th><th style=\"text-align: right;\">  main_category</th></tr>\n",
       "</thead>\n",
       "<tbody>\n",
       "<tr><td style=\"text-align: right;\">2842</td><td style=\"text-align: right;\">8.51739</td><td style=\"text-align: right;\">      3</td><td style=\"text-align: right;\">        0</td><td style=\"text-align: right;\">              1</td><td style=\"text-align: right;\">          5</td><td style=\"text-align: right;\">        10</td><td style=\"text-align: right;\">      500</td><td style=\"text-align: right;\">              1</td></tr>\n",
       "<tr><td style=\"text-align: right;\"> 267</td><td style=\"text-align: right;\">9.21044</td><td style=\"text-align: right;\">      1</td><td style=\"text-align: right;\">       65</td><td style=\"text-align: right;\">              1</td><td style=\"text-align: right;\">         10</td><td style=\"text-align: right;\">        20</td><td style=\"text-align: right;\">     1000</td><td style=\"text-align: right;\">              4</td></tr>\n",
       "<tr><td style=\"text-align: right;\">4803</td><td style=\"text-align: right;\">8.69968</td><td style=\"text-align: right;\">      1</td><td style=\"text-align: right;\">       10</td><td style=\"text-align: right;\">              1</td><td style=\"text-align: right;\">          6</td><td style=\"text-align: right;\">        12</td><td style=\"text-align: right;\">      600</td><td style=\"text-align: right;\">              1</td></tr>\n",
       "<tr><td style=\"text-align: right;\">4224</td><td style=\"text-align: right;\">8.1608 </td><td style=\"text-align: right;\">      1</td><td style=\"text-align: right;\">      104</td><td style=\"text-align: right;\">              1</td><td style=\"text-align: right;\">          3</td><td style=\"text-align: right;\">         7</td><td style=\"text-align: right;\">      350</td><td style=\"text-align: right;\">              4</td></tr>\n",
       "<tr><td style=\"text-align: right;\"> 357</td><td style=\"text-align: right;\">7.6014 </td><td style=\"text-align: right;\">      0</td><td style=\"text-align: right;\">        4</td><td style=\"text-align: right;\">              1</td><td style=\"text-align: right;\">          2</td><td style=\"text-align: right;\">         4</td><td style=\"text-align: right;\">      200</td><td style=\"text-align: right;\">              4</td></tr>\n",
       "<tr><td style=\"text-align: right;\">7776</td><td style=\"text-align: right;\">6.21661</td><td style=\"text-align: right;\">      1</td><td style=\"text-align: right;\">        8</td><td style=\"text-align: right;\">              1</td><td style=\"text-align: right;\">          0</td><td style=\"text-align: right;\">         1</td><td style=\"text-align: right;\">       50</td><td style=\"text-align: right;\">              1</td></tr>\n",
       "<tr><td style=\"text-align: right;\">4182</td><td style=\"text-align: right;\">7.75191</td><td style=\"text-align: right;\">      1</td><td style=\"text-align: right;\">       58</td><td style=\"text-align: right;\">              1</td><td style=\"text-align: right;\">          2</td><td style=\"text-align: right;\">         4</td><td style=\"text-align: right;\">      232</td><td style=\"text-align: right;\">              4</td></tr>\n",
       "<tr><td style=\"text-align: right;\">6094</td><td style=\"text-align: right;\">8.51739</td><td style=\"text-align: right;\">      0</td><td style=\"text-align: right;\">       37</td><td style=\"text-align: right;\">              1</td><td style=\"text-align: right;\">          5</td><td style=\"text-align: right;\">        10</td><td style=\"text-align: right;\">      500</td><td style=\"text-align: right;\">              4</td></tr>\n",
       "<tr><td style=\"text-align: right;\">2763</td><td style=\"text-align: right;\">7.03527</td><td style=\"text-align: right;\">      1</td><td style=\"text-align: right;\">       31</td><td style=\"text-align: right;\">              1</td><td style=\"text-align: right;\">          1</td><td style=\"text-align: right;\">         2</td><td style=\"text-align: right;\">      113</td><td style=\"text-align: right;\">              2</td></tr>\n",
       "<tr><td style=\"text-align: right;\">7124</td><td style=\"text-align: right;\">8.51739</td><td style=\"text-align: right;\">      0</td><td style=\"text-align: right;\">        6</td><td style=\"text-align: right;\">              1</td><td style=\"text-align: right;\">          5</td><td style=\"text-align: right;\">        10</td><td style=\"text-align: right;\">      500</td><td style=\"text-align: right;\">              1</td></tr>\n",
       "</tbody>\n",
       "</table>"
      ]
     },
     "metadata": {},
     "output_type": "display_data"
    },
    {
     "data": {
      "text/plain": []
     },
     "execution_count": 13,
     "metadata": {},
     "output_type": "execute_result"
    }
   ],
   "source": [
    "df.head()"
   ]
  },
  {
   "cell_type": "code",
   "execution_count": 14,
   "metadata": {},
   "outputs": [
    {
     "name": "stdout",
     "output_type": "stream",
     "text": [
      "Rows:4847\n",
      "Cols:9\n",
      "\n",
      "\n"
     ]
    },
    {
     "data": {
      "text/html": [
       "<table>\n",
       "<thead>\n",
       "<tr><th>       </th><th>C1                </th><th>goal              </th><th>state             </th><th>backers          </th><th>country_is_us     </th><th>Goal_1000         </th><th>Goal_500         </th><th>Goal_10           </th><th>main_category     </th></tr>\n",
       "</thead>\n",
       "<tbody>\n",
       "<tr><td>type   </td><td>int               </td><td>real              </td><td>int               </td><td>int              </td><td>int               </td><td>int               </td><td>int              </td><td>int               </td><td>int               </td></tr>\n",
       "<tr><td>mins   </td><td>0.0               </td><td>0.6471032420585384</td><td>0.0               </td><td>0.0              </td><td>0.0               </td><td>0.0               </td><td>0.0              </td><td>0.0               </td><td>1.0               </td></tr>\n",
       "<tr><td>mean   </td><td>5012.6201774293395</td><td>8.643194705725616 </td><td>0.7169383123581599</td><td>95.96265731380235</td><td>0.811429750361048 </td><td>28.674025170208377</td><td>57.64699814318135</td><td>2890.4759645141316</td><td>2.2450809464508095</td></tr>\n",
       "<tr><td>maxs   </td><td>9998.0            </td><td>16.118095750958314</td><td>5.0               </td><td>36863.0          </td><td>1.0               </td><td>10000.0           </td><td>20000.0          </td><td>1000000.0         </td><td>4.0               </td></tr>\n",
       "<tr><td>sigma  </td><td>2876.166826033127 </td><td>1.6166638291551194</td><td>0.9736138505350319</td><td>786.1895789915652</td><td>0.3912072154194023</td><td>219.79654934403067</td><td>439.5739967282338</td><td>21978.76920221964 </td><td>1.29665934157925  </td></tr>\n",
       "<tr><td>zeros  </td><td>1                 </td><td>0                 </td><td>2478              </td><td>642              </td><td>914               </td><td>542               </td><td>220              </td><td>12                </td><td>0                 </td></tr>\n",
       "<tr><td>missing</td><td>0                 </td><td>0                 </td><td>0                 </td><td>0                </td><td>0                 </td><td>0                 </td><td>0                </td><td>0                 </td><td>832               </td></tr>\n",
       "<tr><td>0      </td><td>2842.0            </td><td>8.517393171418904 </td><td>3.0               </td><td>0.0              </td><td>1.0               </td><td>5.0               </td><td>10.0             </td><td>500.0             </td><td>1.0               </td></tr>\n",
       "<tr><td>1      </td><td>267.0             </td><td>9.210440366976515 </td><td>1.0               </td><td>65.0             </td><td>1.0               </td><td>10.0              </td><td>20.0             </td><td>1000.0            </td><td>4.0               </td></tr>\n",
       "<tr><td>2      </td><td>4803.0            </td><td>8.699681400989514 </td><td>1.0               </td><td>10.0             </td><td>1.0               </td><td>6.0               </td><td>12.0             </td><td>600.0             </td><td>1.0               </td></tr>\n",
       "<tr><td>3      </td><td>4224.0            </td><td>8.160803920954665 </td><td>1.0               </td><td>104.0            </td><td>1.0               </td><td>3.0               </td><td>7.0              </td><td>350.0             </td><td>4.0               </td></tr>\n",
       "<tr><td>4      </td><td>357.0             </td><td>7.601402334583733 </td><td>0.0               </td><td>4.0              </td><td>1.0               </td><td>2.0               </td><td>4.0              </td><td>200.0             </td><td>4.0               </td></tr>\n",
       "<tr><td>5      </td><td>7776.0            </td><td>6.2166061010848646</td><td>1.0               </td><td>8.0              </td><td>1.0               </td><td>0.0               </td><td>1.0              </td><td>50.0              </td><td>1.0               </td></tr>\n",
       "<tr><td>6      </td><td>4182.0            </td><td>7.75190533307861  </td><td>1.0               </td><td>58.0             </td><td>1.0               </td><td>2.0               </td><td>4.0              </td><td>232.0             </td><td>4.0               </td></tr>\n",
       "<tr><td>7      </td><td>6094.0            </td><td>8.517393171418904 </td><td>0.0               </td><td>37.0             </td><td>1.0               </td><td>5.0               </td><td>10.0             </td><td>500.0             </td><td>4.0               </td></tr>\n",
       "<tr><td>8      </td><td>2763.0            </td><td>7.035268599281097 </td><td>1.0               </td><td>31.0             </td><td>1.0               </td><td>1.0               </td><td>2.0              </td><td>113.0             </td><td>2.0               </td></tr>\n",
       "<tr><td>9      </td><td>7124.0            </td><td>8.517393171418904 </td><td>0.0               </td><td>6.0              </td><td>1.0               </td><td>5.0               </td><td>10.0             </td><td>500.0             </td><td>1.0               </td></tr>\n",
       "</tbody>\n",
       "</table>"
      ]
     },
     "metadata": {},
     "output_type": "display_data"
    }
   ],
   "source": [
    "df.describe()"
   ]
  },
  {
   "cell_type": "markdown",
   "metadata": {},
   "source": [
    "describe()[source]\n",
    "Generate an in-depth description of this H2OFrame.\n",
    "\n",
    "The description is a tabular print of the type, min, max, sigma, number of zeros, and number of missing elements for each H2OVec in this H2OFrame.\n",
    "\n",
    "Returns:\tNone (print to stdout) "
   ]
  },
  {
   "cell_type": "code",
   "execution_count": 15,
   "metadata": {
    "collapsed": true
   },
   "outputs": [],
   "source": [
    "# dependent variable\n",
    "# assign target and inputs for classification or regression\n",
    "if target==None:\n",
    "  target=df.columns[-1]   \n",
    "y = target"
   ]
  },
  {
   "cell_type": "code",
   "execution_count": 16,
   "metadata": {},
   "outputs": [
    {
     "name": "stdout",
     "output_type": "stream",
     "text": [
      "main_category\n"
     ]
    }
   ],
   "source": [
    "print(y)"
   ]
  },
  {
   "cell_type": "code",
   "execution_count": 17,
   "metadata": {
    "scrolled": true
   },
   "outputs": [
    {
     "name": "stdout",
     "output_type": "stream",
     "text": [
      "None\n"
     ]
    }
   ],
   "source": [
    "print(all_variables)"
   ]
  },
  {
   "cell_type": "code",
   "execution_count": 18,
   "metadata": {
    "collapsed": true
   },
   "outputs": [],
   "source": [
    "if all_variables is not None:\n",
    "  ivd=get_all_variables_csv(all_variables)\n",
    "  print(ivd)    \n",
    "  X=check_all_variables(df,ivd,y)\n",
    "  print(X)"
   ]
  },
  {
   "cell_type": "code",
   "execution_count": 19,
   "metadata": {},
   "outputs": [
    {
     "name": "stdout",
     "output_type": "stream",
     "text": [
      "Rows:4847\n",
      "Cols:9\n",
      "\n",
      "\n"
     ]
    },
    {
     "data": {
      "text/html": [
       "<table>\n",
       "<thead>\n",
       "<tr><th>       </th><th>C1                </th><th>goal              </th><th>state             </th><th>backers          </th><th>country_is_us     </th><th>Goal_1000         </th><th>Goal_500         </th><th>Goal_10           </th><th>main_category     </th></tr>\n",
       "</thead>\n",
       "<tbody>\n",
       "<tr><td>type   </td><td>int               </td><td>real              </td><td>int               </td><td>int              </td><td>int               </td><td>int               </td><td>int              </td><td>int               </td><td>int               </td></tr>\n",
       "<tr><td>mins   </td><td>0.0               </td><td>0.6471032420585384</td><td>0.0               </td><td>0.0              </td><td>0.0               </td><td>0.0               </td><td>0.0              </td><td>0.0               </td><td>1.0               </td></tr>\n",
       "<tr><td>mean   </td><td>5012.6201774293395</td><td>8.643194705725616 </td><td>0.7169383123581599</td><td>95.96265731380235</td><td>0.811429750361048 </td><td>28.674025170208377</td><td>57.64699814318135</td><td>2890.4759645141316</td><td>2.2450809464508095</td></tr>\n",
       "<tr><td>maxs   </td><td>9998.0            </td><td>16.118095750958314</td><td>5.0               </td><td>36863.0          </td><td>1.0               </td><td>10000.0           </td><td>20000.0          </td><td>1000000.0         </td><td>4.0               </td></tr>\n",
       "<tr><td>sigma  </td><td>2876.166826033127 </td><td>1.6166638291551194</td><td>0.9736138505350319</td><td>786.1895789915652</td><td>0.3912072154194023</td><td>219.79654934403067</td><td>439.5739967282338</td><td>21978.76920221964 </td><td>1.29665934157925  </td></tr>\n",
       "<tr><td>zeros  </td><td>1                 </td><td>0                 </td><td>2478              </td><td>642              </td><td>914               </td><td>542               </td><td>220              </td><td>12                </td><td>0                 </td></tr>\n",
       "<tr><td>missing</td><td>0                 </td><td>0                 </td><td>0                 </td><td>0                </td><td>0                 </td><td>0                 </td><td>0                </td><td>0                 </td><td>832               </td></tr>\n",
       "<tr><td>0      </td><td>2842.0            </td><td>8.517393171418904 </td><td>3.0               </td><td>0.0              </td><td>1.0               </td><td>5.0               </td><td>10.0             </td><td>500.0             </td><td>1.0               </td></tr>\n",
       "<tr><td>1      </td><td>267.0             </td><td>9.210440366976515 </td><td>1.0               </td><td>65.0             </td><td>1.0               </td><td>10.0              </td><td>20.0             </td><td>1000.0            </td><td>4.0               </td></tr>\n",
       "<tr><td>2      </td><td>4803.0            </td><td>8.699681400989514 </td><td>1.0               </td><td>10.0             </td><td>1.0               </td><td>6.0               </td><td>12.0             </td><td>600.0             </td><td>1.0               </td></tr>\n",
       "<tr><td>3      </td><td>4224.0            </td><td>8.160803920954665 </td><td>1.0               </td><td>104.0            </td><td>1.0               </td><td>3.0               </td><td>7.0              </td><td>350.0             </td><td>4.0               </td></tr>\n",
       "<tr><td>4      </td><td>357.0             </td><td>7.601402334583733 </td><td>0.0               </td><td>4.0              </td><td>1.0               </td><td>2.0               </td><td>4.0              </td><td>200.0             </td><td>4.0               </td></tr>\n",
       "<tr><td>5      </td><td>7776.0            </td><td>6.2166061010848646</td><td>1.0               </td><td>8.0              </td><td>1.0               </td><td>0.0               </td><td>1.0              </td><td>50.0              </td><td>1.0               </td></tr>\n",
       "<tr><td>6      </td><td>4182.0            </td><td>7.75190533307861  </td><td>1.0               </td><td>58.0             </td><td>1.0               </td><td>2.0               </td><td>4.0              </td><td>232.0             </td><td>4.0               </td></tr>\n",
       "<tr><td>7      </td><td>6094.0            </td><td>8.517393171418904 </td><td>0.0               </td><td>37.0             </td><td>1.0               </td><td>5.0               </td><td>10.0             </td><td>500.0             </td><td>4.0               </td></tr>\n",
       "<tr><td>8      </td><td>2763.0            </td><td>7.035268599281097 </td><td>1.0               </td><td>31.0             </td><td>1.0               </td><td>1.0               </td><td>2.0              </td><td>113.0             </td><td>2.0               </td></tr>\n",
       "<tr><td>9      </td><td>7124.0            </td><td>8.517393171418904 </td><td>0.0               </td><td>6.0              </td><td>1.0               </td><td>5.0               </td><td>10.0             </td><td>500.0             </td><td>1.0               </td></tr>\n",
       "</tbody>\n",
       "</table>"
      ]
     },
     "metadata": {},
     "output_type": "display_data"
    }
   ],
   "source": [
    "df.describe()"
   ]
  },
  {
   "cell_type": "code",
   "execution_count": 20,
   "metadata": {
    "collapsed": true
   },
   "outputs": [],
   "source": [
    "# independent variables\n",
    "\n",
    "X = []  \n",
    "if all_variables is None:\n",
    "  X=get_independent_variables(df, target)  \n",
    "else: \n",
    "  ivd=get_all_variables_csv(all_variables)    \n",
    "  X=check_all_variables(df, ivd)\n",
    "\n",
    "\n",
    "X=check_X(X,df)\n",
    "\n",
    "\n",
    "# Add independent variables\n",
    "\n",
    "meta_data['X']=X  \n",
    "\n",
    "\n",
    "# impute missing values\n",
    "\n",
    "_=impute_missing_values(df,X, scale)"
   ]
  },
  {
   "cell_type": "code",
   "execution_count": 21,
   "metadata": {
    "collapsed": true
   },
   "outputs": [],
   "source": [
    "if analysis == 3:\n",
    "  classification=False\n",
    "elif analysis == 2:\n",
    "  classification=True\n",
    "elif analysis == 1:\n",
    "  classification=True"
   ]
  },
  {
   "cell_type": "code",
   "execution_count": 22,
   "metadata": {},
   "outputs": [
    {
     "name": "stdout",
     "output_type": "stream",
     "text": [
      "False\n"
     ]
    }
   ],
   "source": [
    "print(classification)"
   ]
  },
  {
   "cell_type": "code",
   "execution_count": 23,
   "metadata": {
    "collapsed": true
   },
   "outputs": [],
   "source": [
    "# Force target to be factors\n",
    "# Only 'int' or 'string' are allowed for asfactor(), got Target (Total orders):real \n",
    "\n",
    "if classification:\n",
    "    df[y] = df[y].asfactor()"
   ]
  },
  {
   "cell_type": "code",
   "execution_count": 24,
   "metadata": {
    "collapsed": true
   },
   "outputs": [],
   "source": [
    "def check_y(y,df):\n",
    "  ok=False\n",
    "  C = [name for name in df.columns if name == y]\n",
    "  for key, val in df.types.items():\n",
    "    if key in C:\n",
    "      if val in ['real','int','enum']:        \n",
    "        ok=True         \n",
    "  return ok, val   "
   ]
  },
  {
   "cell_type": "code",
   "execution_count": 25,
   "metadata": {
    "collapsed": true
   },
   "outputs": [],
   "source": [
    "ok,val=check_y(y,df)"
   ]
  },
  {
   "cell_type": "code",
   "execution_count": 26,
   "metadata": {},
   "outputs": [
    {
     "name": "stdout",
     "output_type": "stream",
     "text": [
      "int\n"
     ]
    }
   ],
   "source": [
    "print(val)"
   ]
  },
  {
   "cell_type": "code",
   "execution_count": 27,
   "metadata": {},
   "outputs": [
    {
     "name": "stdout",
     "output_type": "stream",
     "text": [
      "True\n"
     ]
    }
   ],
   "source": [
    "print(ok)"
   ]
  },
  {
   "cell_type": "code",
   "execution_count": 28,
   "metadata": {
    "collapsed": true
   },
   "outputs": [],
   "source": [
    "if val=='enum':\n",
    "    print(df[y].levels())"
   ]
  },
  {
   "cell_type": "code",
   "execution_count": 29,
   "metadata": {},
   "outputs": [
    {
     "name": "stdout",
     "output_type": "stream",
     "text": [
      "Rows:4847\n",
      "Cols:9\n",
      "\n",
      "\n"
     ]
    },
    {
     "data": {
      "text/html": [
       "<table>\n",
       "<thead>\n",
       "<tr><th>       </th><th>C1                </th><th>goal              </th><th>state             </th><th>backers          </th><th>country_is_us     </th><th>Goal_1000         </th><th>Goal_500         </th><th>Goal_10           </th><th>main_category     </th></tr>\n",
       "</thead>\n",
       "<tbody>\n",
       "<tr><td>type   </td><td>int               </td><td>real              </td><td>int               </td><td>int              </td><td>int               </td><td>int               </td><td>int              </td><td>int               </td><td>int               </td></tr>\n",
       "<tr><td>mins   </td><td>0.0               </td><td>0.6471032420585384</td><td>0.0               </td><td>0.0              </td><td>0.0               </td><td>0.0               </td><td>0.0              </td><td>0.0               </td><td>1.0               </td></tr>\n",
       "<tr><td>mean   </td><td>5012.6201774293395</td><td>8.643194705725616 </td><td>0.7169383123581599</td><td>95.96265731380235</td><td>0.811429750361048 </td><td>28.674025170208377</td><td>57.64699814318135</td><td>2890.4759645141316</td><td>2.2450809464508095</td></tr>\n",
       "<tr><td>maxs   </td><td>9998.0            </td><td>16.118095750958314</td><td>5.0               </td><td>36863.0          </td><td>1.0               </td><td>10000.0           </td><td>20000.0          </td><td>1000000.0         </td><td>4.0               </td></tr>\n",
       "<tr><td>sigma  </td><td>2876.166826033127 </td><td>1.6166638291551194</td><td>0.9736138505350319</td><td>786.1895789915652</td><td>0.3912072154194023</td><td>219.79654934403067</td><td>439.5739967282338</td><td>21978.76920221964 </td><td>1.29665934157925  </td></tr>\n",
       "<tr><td>zeros  </td><td>1                 </td><td>0                 </td><td>2478              </td><td>642              </td><td>914               </td><td>542               </td><td>220              </td><td>12                </td><td>0                 </td></tr>\n",
       "<tr><td>missing</td><td>0                 </td><td>0                 </td><td>0                 </td><td>0                </td><td>0                 </td><td>0                 </td><td>0                </td><td>0                 </td><td>832               </td></tr>\n",
       "<tr><td>0      </td><td>2842.0            </td><td>8.517393171418904 </td><td>3.0               </td><td>0.0              </td><td>1.0               </td><td>5.0               </td><td>10.0             </td><td>500.0             </td><td>1.0               </td></tr>\n",
       "<tr><td>1      </td><td>267.0             </td><td>9.210440366976515 </td><td>1.0               </td><td>65.0             </td><td>1.0               </td><td>10.0              </td><td>20.0             </td><td>1000.0            </td><td>4.0               </td></tr>\n",
       "<tr><td>2      </td><td>4803.0            </td><td>8.699681400989514 </td><td>1.0               </td><td>10.0             </td><td>1.0               </td><td>6.0               </td><td>12.0             </td><td>600.0             </td><td>1.0               </td></tr>\n",
       "<tr><td>3      </td><td>4224.0            </td><td>8.160803920954665 </td><td>1.0               </td><td>104.0            </td><td>1.0               </td><td>3.0               </td><td>7.0              </td><td>350.0             </td><td>4.0               </td></tr>\n",
       "<tr><td>4      </td><td>357.0             </td><td>7.601402334583733 </td><td>0.0               </td><td>4.0              </td><td>1.0               </td><td>2.0               </td><td>4.0              </td><td>200.0             </td><td>4.0               </td></tr>\n",
       "<tr><td>5      </td><td>7776.0            </td><td>6.2166061010848646</td><td>1.0               </td><td>8.0              </td><td>1.0               </td><td>0.0               </td><td>1.0              </td><td>50.0              </td><td>1.0               </td></tr>\n",
       "<tr><td>6      </td><td>4182.0            </td><td>7.75190533307861  </td><td>1.0               </td><td>58.0             </td><td>1.0               </td><td>2.0               </td><td>4.0              </td><td>232.0             </td><td>4.0               </td></tr>\n",
       "<tr><td>7      </td><td>6094.0            </td><td>8.517393171418904 </td><td>0.0               </td><td>37.0             </td><td>1.0               </td><td>5.0               </td><td>10.0             </td><td>500.0             </td><td>4.0               </td></tr>\n",
       "<tr><td>8      </td><td>2763.0            </td><td>7.035268599281097 </td><td>1.0               </td><td>31.0             </td><td>1.0               </td><td>1.0               </td><td>2.0              </td><td>113.0             </td><td>2.0               </td></tr>\n",
       "<tr><td>9      </td><td>7124.0            </td><td>8.517393171418904 </td><td>0.0               </td><td>6.0              </td><td>1.0               </td><td>5.0               </td><td>10.0             </td><td>500.0             </td><td>1.0               </td></tr>\n",
       "</tbody>\n",
       "</table>"
      ]
     },
     "metadata": {},
     "output_type": "display_data"
    }
   ],
   "source": [
    "df.describe()"
   ]
  },
  {
   "cell_type": "code",
   "execution_count": 30,
   "metadata": {},
   "outputs": [
    {
     "data": {
      "text/plain": [
       "{'C1': 'int',\n",
       " 'Goal_10': 'int',\n",
       " 'Goal_1000': 'int',\n",
       " 'Goal_500': 'int',\n",
       " 'backers': 'int',\n",
       " 'country_is_us': 'int',\n",
       " 'goal': 'real',\n",
       " 'main_category': 'int',\n",
       " 'state': 'int'}"
      ]
     },
     "execution_count": 30,
     "metadata": {},
     "output_type": "execute_result"
    }
   ],
   "source": [
    "allV=get_variables_types(df)\n",
    "allV"
   ]
  },
  {
   "cell_type": "code",
   "execution_count": 31,
   "metadata": {
    "collapsed": true
   },
   "outputs": [],
   "source": [
    "meta_data['variables']=allV"
   ]
  },
  {
   "cell_type": "code",
   "execution_count": 32,
   "metadata": {
    "collapsed": true
   },
   "outputs": [],
   "source": [
    "# split into training and test for showing how to predict\n",
    "train, test = df.split_frame([0.9])"
   ]
  },
  {
   "cell_type": "code",
   "execution_count": 33,
   "metadata": {
    "collapsed": true
   },
   "outputs": [],
   "source": [
    "# Set up AutoML\n",
    "\n",
    "aml = H2OAutoML(max_runtime_secs=run_time,project_name = name)"
   ]
  },
  {
   "cell_type": "code",
   "execution_count": 34,
   "metadata": {
    "collapsed": true
   },
   "outputs": [],
   "source": [
    "model_start_time = time.time()"
   ]
  },
  {
   "cell_type": "code",
   "execution_count": 35,
   "metadata": {},
   "outputs": [
    {
     "name": "stdout",
     "output_type": "stream",
     "text": [
      "AutoML progress: |████████████████████████████████████████████████████████| 100%\n"
     ]
    }
   ],
   "source": [
    "aml.train(x=X,y=y,training_frame=train)"
   ]
  },
  {
   "cell_type": "code",
   "execution_count": 74,
   "metadata": {
    "collapsed": true
   },
   "outputs": [],
   "source": [
    "meta_data['model_execution_time'] = time.time() - model_start_time"
   ]
  },
  {
   "cell_type": "code",
   "execution_count": 75,
   "metadata": {
    "collapsed": true
   },
   "outputs": [],
   "source": [
    "# get leaderboard\n",
    "aml_leaderboard_df=aml.leaderboard.as_data_frame()"
   ]
  },
  {
   "cell_type": "code",
   "execution_count": 76,
   "metadata": {},
   "outputs": [
    {
     "data": {
      "text/html": [
       "<div>\n",
       "<style>\n",
       "    .dataframe thead tr:only-child th {\n",
       "        text-align: right;\n",
       "    }\n",
       "\n",
       "    .dataframe thead th {\n",
       "        text-align: left;\n",
       "    }\n",
       "\n",
       "    .dataframe tbody tr th {\n",
       "        vertical-align: top;\n",
       "    }\n",
       "</style>\n",
       "<table border=\"1\" class=\"dataframe\">\n",
       "  <thead>\n",
       "    <tr style=\"text-align: right;\">\n",
       "      <th></th>\n",
       "      <th>model_id</th>\n",
       "      <th>mean_residual_deviance</th>\n",
       "      <th>rmse</th>\n",
       "      <th>mse</th>\n",
       "      <th>mae</th>\n",
       "      <th>rmsle</th>\n",
       "    </tr>\n",
       "  </thead>\n",
       "  <tbody>\n",
       "    <tr>\n",
       "      <th>0</th>\n",
       "      <td>StackedEnsemble_BestOfFamily_0_AutoML_20181031_020417</td>\n",
       "      <td>1.581358</td>\n",
       "      <td>1.257520</td>\n",
       "      <td>1.581358</td>\n",
       "      <td>1.118499</td>\n",
       "      <td>0.388043</td>\n",
       "    </tr>\n",
       "    <tr>\n",
       "      <th>1</th>\n",
       "      <td>GBM_grid_0_AutoML_20181031_020417_model_17</td>\n",
       "      <td>1.583663</td>\n",
       "      <td>1.258437</td>\n",
       "      <td>1.583663</td>\n",
       "      <td>1.124253</td>\n",
       "      <td>0.388676</td>\n",
       "    </tr>\n",
       "    <tr>\n",
       "      <th>2</th>\n",
       "      <td>GBM_grid_0_AutoML_20181031_020417_model_16</td>\n",
       "      <td>1.584871</td>\n",
       "      <td>1.258917</td>\n",
       "      <td>1.584871</td>\n",
       "      <td>1.116991</td>\n",
       "      <td>0.388398</td>\n",
       "    </tr>\n",
       "    <tr>\n",
       "      <th>3</th>\n",
       "      <td>GBM_grid_0_AutoML_20181031_020417_model_4</td>\n",
       "      <td>1.585802</td>\n",
       "      <td>1.259286</td>\n",
       "      <td>1.585802</td>\n",
       "      <td>1.115401</td>\n",
       "      <td>0.388457</td>\n",
       "    </tr>\n",
       "    <tr>\n",
       "      <th>4</th>\n",
       "      <td>StackedEnsemble_AllModels_0_AutoML_20181031_020417</td>\n",
       "      <td>1.588741</td>\n",
       "      <td>1.260453</td>\n",
       "      <td>1.588741</td>\n",
       "      <td>1.123354</td>\n",
       "      <td>0.388958</td>\n",
       "    </tr>\n",
       "    <tr>\n",
       "      <th>5</th>\n",
       "      <td>GBM_grid_0_AutoML_20181031_020417_model_31</td>\n",
       "      <td>1.590106</td>\n",
       "      <td>1.260994</td>\n",
       "      <td>1.590106</td>\n",
       "      <td>1.126381</td>\n",
       "      <td>0.389260</td>\n",
       "    </tr>\n",
       "    <tr>\n",
       "      <th>6</th>\n",
       "      <td>GBM_grid_0_AutoML_20181031_020417_model_20</td>\n",
       "      <td>1.595450</td>\n",
       "      <td>1.263111</td>\n",
       "      <td>1.595450</td>\n",
       "      <td>1.122631</td>\n",
       "      <td>0.390178</td>\n",
       "    </tr>\n",
       "    <tr>\n",
       "      <th>7</th>\n",
       "      <td>GLM_grid_0_AutoML_20181031_020417_model_0</td>\n",
       "      <td>1.624539</td>\n",
       "      <td>1.274574</td>\n",
       "      <td>1.624539</td>\n",
       "      <td>1.137238</td>\n",
       "      <td>0.393186</td>\n",
       "    </tr>\n",
       "    <tr>\n",
       "      <th>8</th>\n",
       "      <td>DeepLearning_0_AutoML_20181031_020417</td>\n",
       "      <td>1.625561</td>\n",
       "      <td>1.274975</td>\n",
       "      <td>1.625561</td>\n",
       "      <td>1.111266</td>\n",
       "      <td>NaN</td>\n",
       "    </tr>\n",
       "    <tr>\n",
       "      <th>9</th>\n",
       "      <td>GBM_grid_0_AutoML_20181031_020417_model_1</td>\n",
       "      <td>1.625830</td>\n",
       "      <td>1.275080</td>\n",
       "      <td>1.625830</td>\n",
       "      <td>1.119050</td>\n",
       "      <td>0.392730</td>\n",
       "    </tr>\n",
       "    <tr>\n",
       "      <th>10</th>\n",
       "      <td>GBM_grid_0_AutoML_20181031_020417_model_22</td>\n",
       "      <td>1.632642</td>\n",
       "      <td>1.277749</td>\n",
       "      <td>1.632642</td>\n",
       "      <td>1.126704</td>\n",
       "      <td>0.394613</td>\n",
       "    </tr>\n",
       "    <tr>\n",
       "      <th>11</th>\n",
       "      <td>GBM_grid_0_AutoML_20181031_020417_model_0</td>\n",
       "      <td>1.638273</td>\n",
       "      <td>1.279951</td>\n",
       "      <td>1.638273</td>\n",
       "      <td>1.129398</td>\n",
       "      <td>0.395339</td>\n",
       "    </tr>\n",
       "    <tr>\n",
       "      <th>12</th>\n",
       "      <td>GBM_grid_0_AutoML_20181031_020417_model_15</td>\n",
       "      <td>1.645395</td>\n",
       "      <td>1.282729</td>\n",
       "      <td>1.645395</td>\n",
       "      <td>1.154341</td>\n",
       "      <td>0.396554</td>\n",
       "    </tr>\n",
       "    <tr>\n",
       "      <th>13</th>\n",
       "      <td>GBM_grid_0_AutoML_20181031_020417_model_2</td>\n",
       "      <td>1.645404</td>\n",
       "      <td>1.282733</td>\n",
       "      <td>1.645404</td>\n",
       "      <td>1.124504</td>\n",
       "      <td>0.395382</td>\n",
       "    </tr>\n",
       "    <tr>\n",
       "      <th>14</th>\n",
       "      <td>GBM_grid_0_AutoML_20181031_020417_model_5</td>\n",
       "      <td>1.648379</td>\n",
       "      <td>1.283892</td>\n",
       "      <td>1.648379</td>\n",
       "      <td>1.155383</td>\n",
       "      <td>0.397021</td>\n",
       "    </tr>\n",
       "    <tr>\n",
       "      <th>15</th>\n",
       "      <td>GBM_grid_0_AutoML_20181031_020417_model_9</td>\n",
       "      <td>1.649780</td>\n",
       "      <td>1.284437</td>\n",
       "      <td>1.649780</td>\n",
       "      <td>1.156139</td>\n",
       "      <td>0.397222</td>\n",
       "    </tr>\n",
       "    <tr>\n",
       "      <th>16</th>\n",
       "      <td>GBM_grid_0_AutoML_20181031_020417_model_18</td>\n",
       "      <td>1.653194</td>\n",
       "      <td>1.285766</td>\n",
       "      <td>1.653194</td>\n",
       "      <td>1.157740</td>\n",
       "      <td>0.397604</td>\n",
       "    </tr>\n",
       "    <tr>\n",
       "      <th>17</th>\n",
       "      <td>GBM_grid_0_AutoML_20181031_020417_model_29</td>\n",
       "      <td>1.657139</td>\n",
       "      <td>1.287299</td>\n",
       "      <td>1.657139</td>\n",
       "      <td>1.159433</td>\n",
       "      <td>0.398097</td>\n",
       "    </tr>\n",
       "    <tr>\n",
       "      <th>18</th>\n",
       "      <td>DeepLearning_grid_0_AutoML_20181031_020417_model_0</td>\n",
       "      <td>1.657416</td>\n",
       "      <td>1.287407</td>\n",
       "      <td>1.657416</td>\n",
       "      <td>1.140595</td>\n",
       "      <td>NaN</td>\n",
       "    </tr>\n",
       "    <tr>\n",
       "      <th>19</th>\n",
       "      <td>GBM_grid_0_AutoML_20181031_020417_model_3</td>\n",
       "      <td>1.660872</td>\n",
       "      <td>1.288748</td>\n",
       "      <td>1.660872</td>\n",
       "      <td>1.124769</td>\n",
       "      <td>0.397075</td>\n",
       "    </tr>\n",
       "    <tr>\n",
       "      <th>20</th>\n",
       "      <td>GBM_grid_0_AutoML_20181031_020417_model_14</td>\n",
       "      <td>1.666556</td>\n",
       "      <td>1.290952</td>\n",
       "      <td>1.666556</td>\n",
       "      <td>1.162247</td>\n",
       "      <td>0.399199</td>\n",
       "    </tr>\n",
       "    <tr>\n",
       "      <th>21</th>\n",
       "      <td>GBM_grid_0_AutoML_20181031_020417_model_26</td>\n",
       "      <td>1.673976</td>\n",
       "      <td>1.293822</td>\n",
       "      <td>1.673976</td>\n",
       "      <td>1.131179</td>\n",
       "      <td>0.398187</td>\n",
       "    </tr>\n",
       "    <tr>\n",
       "      <th>22</th>\n",
       "      <td>GBM_grid_0_AutoML_20181031_020417_model_8</td>\n",
       "      <td>1.675591</td>\n",
       "      <td>1.294446</td>\n",
       "      <td>1.675591</td>\n",
       "      <td>1.131625</td>\n",
       "      <td>0.398570</td>\n",
       "    </tr>\n",
       "    <tr>\n",
       "      <th>23</th>\n",
       "      <td>GBM_grid_0_AutoML_20181031_020417_model_27</td>\n",
       "      <td>1.683778</td>\n",
       "      <td>1.297605</td>\n",
       "      <td>1.683778</td>\n",
       "      <td>1.168742</td>\n",
       "      <td>0.401316</td>\n",
       "    </tr>\n",
       "    <tr>\n",
       "      <th>24</th>\n",
       "      <td>GBM_grid_0_AutoML_20181031_020417_model_10</td>\n",
       "      <td>1.683871</td>\n",
       "      <td>1.297641</td>\n",
       "      <td>1.683871</td>\n",
       "      <td>1.168821</td>\n",
       "      <td>0.401338</td>\n",
       "    </tr>\n",
       "    <tr>\n",
       "      <th>25</th>\n",
       "      <td>GBM_grid_0_AutoML_20181031_020417_model_19</td>\n",
       "      <td>1.684033</td>\n",
       "      <td>1.297703</td>\n",
       "      <td>1.684033</td>\n",
       "      <td>1.168886</td>\n",
       "      <td>0.401380</td>\n",
       "    </tr>\n",
       "    <tr>\n",
       "      <th>26</th>\n",
       "      <td>GBM_grid_0_AutoML_20181031_020417_model_11</td>\n",
       "      <td>1.684737</td>\n",
       "      <td>1.297974</td>\n",
       "      <td>1.684737</td>\n",
       "      <td>1.169218</td>\n",
       "      <td>0.401452</td>\n",
       "    </tr>\n",
       "    <tr>\n",
       "      <th>27</th>\n",
       "      <td>GBM_grid_0_AutoML_20181031_020417_model_25</td>\n",
       "      <td>1.686071</td>\n",
       "      <td>1.298488</td>\n",
       "      <td>1.686071</td>\n",
       "      <td>1.169584</td>\n",
       "      <td>0.401594</td>\n",
       "    </tr>\n",
       "    <tr>\n",
       "      <th>28</th>\n",
       "      <td>GBM_grid_0_AutoML_20181031_020417_model_7</td>\n",
       "      <td>1.706921</td>\n",
       "      <td>1.306492</td>\n",
       "      <td>1.706921</td>\n",
       "      <td>1.130463</td>\n",
       "      <td>0.402858</td>\n",
       "    </tr>\n",
       "    <tr>\n",
       "      <th>29</th>\n",
       "      <td>GBM_grid_0_AutoML_20181031_020417_model_6</td>\n",
       "      <td>1.738231</td>\n",
       "      <td>1.318420</td>\n",
       "      <td>1.738231</td>\n",
       "      <td>1.137142</td>\n",
       "      <td>0.407012</td>\n",
       "    </tr>\n",
       "    <tr>\n",
       "      <th>30</th>\n",
       "      <td>DeepLearning_grid_0_AutoML_20181031_020417_model_1</td>\n",
       "      <td>1.744005</td>\n",
       "      <td>1.320608</td>\n",
       "      <td>1.744005</td>\n",
       "      <td>1.126856</td>\n",
       "      <td>NaN</td>\n",
       "    </tr>\n",
       "    <tr>\n",
       "      <th>31</th>\n",
       "      <td>XRT_0_AutoML_20181031_020417</td>\n",
       "      <td>1.781633</td>\n",
       "      <td>1.334778</td>\n",
       "      <td>1.781633</td>\n",
       "      <td>1.156203</td>\n",
       "      <td>0.410419</td>\n",
       "    </tr>\n",
       "    <tr>\n",
       "      <th>32</th>\n",
       "      <td>GBM_grid_0_AutoML_20181031_020417_model_12</td>\n",
       "      <td>1.803021</td>\n",
       "      <td>1.342766</td>\n",
       "      <td>1.803021</td>\n",
       "      <td>1.147046</td>\n",
       "      <td>0.413100</td>\n",
       "    </tr>\n",
       "    <tr>\n",
       "      <th>33</th>\n",
       "      <td>DRF_0_AutoML_20181031_020417</td>\n",
       "      <td>1.809034</td>\n",
       "      <td>1.345003</td>\n",
       "      <td>1.809034</td>\n",
       "      <td>1.157787</td>\n",
       "      <td>0.412910</td>\n",
       "    </tr>\n",
       "    <tr>\n",
       "      <th>34</th>\n",
       "      <td>GBM_grid_0_AutoML_20181031_020417_model_30</td>\n",
       "      <td>1.810654</td>\n",
       "      <td>1.345606</td>\n",
       "      <td>1.810654</td>\n",
       "      <td>1.149144</td>\n",
       "      <td>0.415609</td>\n",
       "    </tr>\n",
       "    <tr>\n",
       "      <th>35</th>\n",
       "      <td>GBM_grid_0_AutoML_20181031_020417_model_24</td>\n",
       "      <td>1.988972</td>\n",
       "      <td>1.410309</td>\n",
       "      <td>1.988972</td>\n",
       "      <td>1.195749</td>\n",
       "      <td>0.447434</td>\n",
       "    </tr>\n",
       "    <tr>\n",
       "      <th>36</th>\n",
       "      <td>GBM_grid_0_AutoML_20181031_020417_model_28</td>\n",
       "      <td>2.105580</td>\n",
       "      <td>1.451062</td>\n",
       "      <td>2.105580</td>\n",
       "      <td>1.217773</td>\n",
       "      <td>0.457704</td>\n",
       "    </tr>\n",
       "    <tr>\n",
       "      <th>37</th>\n",
       "      <td>GBM_grid_0_AutoML_20181031_020417_model_23</td>\n",
       "      <td>2.222382</td>\n",
       "      <td>1.490765</td>\n",
       "      <td>2.222382</td>\n",
       "      <td>1.229429</td>\n",
       "      <td>0.476392</td>\n",
       "    </tr>\n",
       "    <tr>\n",
       "      <th>38</th>\n",
       "      <td>DeepLearning_grid_0_AutoML_20181031_020417_model_2</td>\n",
       "      <td>2.396654</td>\n",
       "      <td>1.548113</td>\n",
       "      <td>2.396654</td>\n",
       "      <td>1.165505</td>\n",
       "      <td>NaN</td>\n",
       "    </tr>\n",
       "    <tr>\n",
       "      <th>39</th>\n",
       "      <td>GBM_grid_0_AutoML_20181031_020417_model_13</td>\n",
       "      <td>2.422162</td>\n",
       "      <td>1.556330</td>\n",
       "      <td>2.422162</td>\n",
       "      <td>1.281029</td>\n",
       "      <td>NaN</td>\n",
       "    </tr>\n",
       "    <tr>\n",
       "      <th>40</th>\n",
       "      <td>GBM_grid_0_AutoML_20181031_020417_model_21</td>\n",
       "      <td>3.488534</td>\n",
       "      <td>1.867762</td>\n",
       "      <td>3.488534</td>\n",
       "      <td>1.499776</td>\n",
       "      <td>NaN</td>\n",
       "    </tr>\n",
       "  </tbody>\n",
       "</table>\n",
       "</div>"
      ],
      "text/plain": [
       "                                                 model_id  \\\n",
       "0   StackedEnsemble_BestOfFamily_0_AutoML_20181031_020417   \n",
       "1              GBM_grid_0_AutoML_20181031_020417_model_17   \n",
       "2              GBM_grid_0_AutoML_20181031_020417_model_16   \n",
       "3               GBM_grid_0_AutoML_20181031_020417_model_4   \n",
       "4      StackedEnsemble_AllModels_0_AutoML_20181031_020417   \n",
       "5              GBM_grid_0_AutoML_20181031_020417_model_31   \n",
       "6              GBM_grid_0_AutoML_20181031_020417_model_20   \n",
       "7               GLM_grid_0_AutoML_20181031_020417_model_0   \n",
       "8                   DeepLearning_0_AutoML_20181031_020417   \n",
       "9               GBM_grid_0_AutoML_20181031_020417_model_1   \n",
       "10             GBM_grid_0_AutoML_20181031_020417_model_22   \n",
       "11              GBM_grid_0_AutoML_20181031_020417_model_0   \n",
       "12             GBM_grid_0_AutoML_20181031_020417_model_15   \n",
       "13              GBM_grid_0_AutoML_20181031_020417_model_2   \n",
       "14              GBM_grid_0_AutoML_20181031_020417_model_5   \n",
       "15              GBM_grid_0_AutoML_20181031_020417_model_9   \n",
       "16             GBM_grid_0_AutoML_20181031_020417_model_18   \n",
       "17             GBM_grid_0_AutoML_20181031_020417_model_29   \n",
       "18     DeepLearning_grid_0_AutoML_20181031_020417_model_0   \n",
       "19              GBM_grid_0_AutoML_20181031_020417_model_3   \n",
       "20             GBM_grid_0_AutoML_20181031_020417_model_14   \n",
       "21             GBM_grid_0_AutoML_20181031_020417_model_26   \n",
       "22              GBM_grid_0_AutoML_20181031_020417_model_8   \n",
       "23             GBM_grid_0_AutoML_20181031_020417_model_27   \n",
       "24             GBM_grid_0_AutoML_20181031_020417_model_10   \n",
       "25             GBM_grid_0_AutoML_20181031_020417_model_19   \n",
       "26             GBM_grid_0_AutoML_20181031_020417_model_11   \n",
       "27             GBM_grid_0_AutoML_20181031_020417_model_25   \n",
       "28              GBM_grid_0_AutoML_20181031_020417_model_7   \n",
       "29              GBM_grid_0_AutoML_20181031_020417_model_6   \n",
       "30     DeepLearning_grid_0_AutoML_20181031_020417_model_1   \n",
       "31                           XRT_0_AutoML_20181031_020417   \n",
       "32             GBM_grid_0_AutoML_20181031_020417_model_12   \n",
       "33                           DRF_0_AutoML_20181031_020417   \n",
       "34             GBM_grid_0_AutoML_20181031_020417_model_30   \n",
       "35             GBM_grid_0_AutoML_20181031_020417_model_24   \n",
       "36             GBM_grid_0_AutoML_20181031_020417_model_28   \n",
       "37             GBM_grid_0_AutoML_20181031_020417_model_23   \n",
       "38     DeepLearning_grid_0_AutoML_20181031_020417_model_2   \n",
       "39             GBM_grid_0_AutoML_20181031_020417_model_13   \n",
       "40             GBM_grid_0_AutoML_20181031_020417_model_21   \n",
       "\n",
       "    mean_residual_deviance      rmse       mse       mae     rmsle  \n",
       "0                 1.581358  1.257520  1.581358  1.118499  0.388043  \n",
       "1                 1.583663  1.258437  1.583663  1.124253  0.388676  \n",
       "2                 1.584871  1.258917  1.584871  1.116991  0.388398  \n",
       "3                 1.585802  1.259286  1.585802  1.115401  0.388457  \n",
       "4                 1.588741  1.260453  1.588741  1.123354  0.388958  \n",
       "5                 1.590106  1.260994  1.590106  1.126381  0.389260  \n",
       "6                 1.595450  1.263111  1.595450  1.122631  0.390178  \n",
       "7                 1.624539  1.274574  1.624539  1.137238  0.393186  \n",
       "8                 1.625561  1.274975  1.625561  1.111266       NaN  \n",
       "9                 1.625830  1.275080  1.625830  1.119050  0.392730  \n",
       "10                1.632642  1.277749  1.632642  1.126704  0.394613  \n",
       "11                1.638273  1.279951  1.638273  1.129398  0.395339  \n",
       "12                1.645395  1.282729  1.645395  1.154341  0.396554  \n",
       "13                1.645404  1.282733  1.645404  1.124504  0.395382  \n",
       "14                1.648379  1.283892  1.648379  1.155383  0.397021  \n",
       "15                1.649780  1.284437  1.649780  1.156139  0.397222  \n",
       "16                1.653194  1.285766  1.653194  1.157740  0.397604  \n",
       "17                1.657139  1.287299  1.657139  1.159433  0.398097  \n",
       "18                1.657416  1.287407  1.657416  1.140595       NaN  \n",
       "19                1.660872  1.288748  1.660872  1.124769  0.397075  \n",
       "20                1.666556  1.290952  1.666556  1.162247  0.399199  \n",
       "21                1.673976  1.293822  1.673976  1.131179  0.398187  \n",
       "22                1.675591  1.294446  1.675591  1.131625  0.398570  \n",
       "23                1.683778  1.297605  1.683778  1.168742  0.401316  \n",
       "24                1.683871  1.297641  1.683871  1.168821  0.401338  \n",
       "25                1.684033  1.297703  1.684033  1.168886  0.401380  \n",
       "26                1.684737  1.297974  1.684737  1.169218  0.401452  \n",
       "27                1.686071  1.298488  1.686071  1.169584  0.401594  \n",
       "28                1.706921  1.306492  1.706921  1.130463  0.402858  \n",
       "29                1.738231  1.318420  1.738231  1.137142  0.407012  \n",
       "30                1.744005  1.320608  1.744005  1.126856       NaN  \n",
       "31                1.781633  1.334778  1.781633  1.156203  0.410419  \n",
       "32                1.803021  1.342766  1.803021  1.147046  0.413100  \n",
       "33                1.809034  1.345003  1.809034  1.157787  0.412910  \n",
       "34                1.810654  1.345606  1.810654  1.149144  0.415609  \n",
       "35                1.988972  1.410309  1.988972  1.195749  0.447434  \n",
       "36                2.105580  1.451062  2.105580  1.217773  0.457704  \n",
       "37                2.222382  1.490765  2.222382  1.229429  0.476392  \n",
       "38                2.396654  1.548113  2.396654  1.165505       NaN  \n",
       "39                2.422162  1.556330  2.422162  1.281029       NaN  \n",
       "40                3.488534  1.867762  3.488534  1.499776       NaN  "
      ]
     },
     "execution_count": 76,
     "metadata": {},
     "output_type": "execute_result"
    }
   ],
   "source": [
    "aml_leaderboard_df"
   ]
  },
  {
   "cell_type": "code",
   "execution_count": 77,
   "metadata": {
    "collapsed": true
   },
   "outputs": [],
   "source": [
    "# STart best model as first model\n",
    "\n",
    "model_set=aml_leaderboard_df['model_id']\n",
    "mod_best=h2o.get_model(model_set[0])"
   ]
  },
  {
   "cell_type": "code",
   "execution_count": 78,
   "metadata": {},
   "outputs": [
    {
     "data": {
      "text/plain": [
       "'StackedEnsemble_BestOfFamily_0_AutoML_20181031_020417'"
      ]
     },
     "execution_count": 78,
     "metadata": {},
     "output_type": "execute_result"
    }
   ],
   "source": [
    "mod_best._id"
   ]
  },
  {
   "cell_type": "code",
   "execution_count": 79,
   "metadata": {
    "collapsed": true
   },
   "outputs": [],
   "source": [
    "# Get stacked ensemble  \n",
    "se=get_stacked_ensemble(model_set)"
   ]
  },
  {
   "cell_type": "code",
   "execution_count": 80,
   "metadata": {},
   "outputs": [
    {
     "name": "stdout",
     "output_type": "stream",
     "text": [
      "StackedEnsemble_BestOfFamily_0_AutoML_20181031_020417\n"
     ]
    }
   ],
   "source": [
    "print(se)"
   ]
  },
  {
   "cell_type": "code",
   "execution_count": 81,
   "metadata": {
    "collapsed": true
   },
   "outputs": [],
   "source": [
    "if se is not None:\n",
    "  mod_best=h2o.get_model(se)"
   ]
  },
  {
   "cell_type": "code",
   "execution_count": 82,
   "metadata": {},
   "outputs": [
    {
     "data": {
      "text/plain": [
       "'StackedEnsemble_BestOfFamily_0_AutoML_20181031_020417'"
      ]
     },
     "execution_count": 82,
     "metadata": {},
     "output_type": "execute_result"
    }
   ],
   "source": [
    "mod_best._id"
   ]
  },
  {
   "cell_type": "code",
   "execution_count": 83,
   "metadata": {},
   "outputs": [
    {
     "data": {
      "text/plain": [
       "<function h2o.model.model_base.ModelBase._get_metrics>"
      ]
     },
     "execution_count": 83,
     "metadata": {},
     "output_type": "execute_result"
    }
   ],
   "source": [
    "mod_best._get_metrics"
   ]
  },
  {
   "cell_type": "code",
   "execution_count": 84,
   "metadata": {},
   "outputs": [
    {
     "data": {
      "text/plain": [
       "h2o.estimators.stackedensemble.H2OStackedEnsembleEstimator"
      ]
     },
     "execution_count": 84,
     "metadata": {},
     "output_type": "execute_result"
    }
   ],
   "source": [
    "type(mod_best)"
   ]
  },
  {
   "cell_type": "code",
   "execution_count": 85,
   "metadata": {},
   "outputs": [
    {
     "name": "stdout",
     "output_type": "stream",
     "text": [
      "Model Details\n",
      "=============\n",
      "H2OStackedEnsembleEstimator :  Stacked Ensemble\n",
      "Model Key:  StackedEnsemble_BestOfFamily_0_AutoML_20181031_020417\n",
      "No model summary for this model\n",
      "\n",
      "\n",
      "ModelMetricsRegressionGLM: stackedensemble\n",
      "** Reported on train data. **\n",
      "\n",
      "MSE: 1.517209981904263\n",
      "RMSE: 1.2317507791368605\n",
      "MAE: 1.0916770448006423\n",
      "RMSLE: 0.37948950579139884\n",
      "R^2: 0.10189423659378538\n",
      "Mean Residual Deviance: 1.517209981904263\n",
      "Null degrees of freedom: 2904\n",
      "Residual degrees of freedom: 2901\n",
      "Null deviance: 4907.545611015491\n",
      "Residual deviance: 4407.494997431884\n",
      "AIC: 9465.04926238999\n",
      "\n",
      "ModelMetricsRegressionGLM: stackedensemble\n",
      "** Reported on validation data. **\n",
      "\n",
      "MSE: 1.5503515598015798\n",
      "RMSE: 1.2451311416078146\n",
      "MAE: 1.1003685768719615\n",
      "RMSLE: 0.38642859747463054\n",
      "R^2: 0.06660656392155828\n",
      "Mean Residual Deviance: 1.5503515598015798\n",
      "Null degrees of freedom: 679\n",
      "Residual degrees of freedom: 676\n",
      "Null deviance: 1130.6278776280433\n",
      "Residual deviance: 1054.2390606650742\n",
      "AIC: 2237.923973390358\n",
      "\n",
      "ModelMetricsRegressionGLM: stackedensemble\n",
      "** Reported on cross-validation data. **\n",
      "\n",
      "MSE: 1.5813576618937206\n",
      "RMSE: 1.257520441938707\n",
      "MAE: 1.1184986943313944\n",
      "RMSLE: 0.3880434924209861\n",
      "R^2: 0.06392230008216238\n",
      "Mean Residual Deviance: 1.5813576618937206\n",
      "Null degrees of freedom: 2904\n",
      "Residual degrees of freedom: 2901\n",
      "Null deviance: 5350.640748229114\n",
      "Residual deviance: 4593.844007801258\n",
      "AIC: 9585.347194180027\n",
      "<bound method ModelBase.coef_norm of >\n"
     ]
    }
   ],
   "source": [
    "mods=mod_best.coef_norm\n",
    "print(mods)"
   ]
  },
  {
   "cell_type": "code",
   "execution_count": 86,
   "metadata": {
    "collapsed": true
   },
   "outputs": [],
   "source": [
    "bm=stackedensemble_df(aml_leaderboard_df)"
   ]
  },
  {
   "cell_type": "code",
   "execution_count": 87,
   "metadata": {},
   "outputs": [
    {
     "data": {
      "text/plain": [
       "['GBM_grid_0_AutoML_20181031_020417_model_17',\n",
       " 'GLM_grid_0_AutoML_20181031_020417_model_0',\n",
       " 'DRF_0_AutoML_20181031_020417',\n",
       " 'XRT_0_AutoML_20181031_020417',\n",
       " 'DeepLearning_0_AutoML_20181031_020417']"
      ]
     },
     "execution_count": 87,
     "metadata": {},
     "output_type": "execute_result"
    }
   ],
   "source": [
    "bm"
   ]
  },
  {
   "cell_type": "code",
   "execution_count": 88,
   "metadata": {},
   "outputs": [
    {
     "data": {
      "text/html": [
       "<div>\n",
       "<style>\n",
       "    .dataframe thead tr:only-child th {\n",
       "        text-align: right;\n",
       "    }\n",
       "\n",
       "    .dataframe thead th {\n",
       "        text-align: left;\n",
       "    }\n",
       "\n",
       "    .dataframe tbody tr th {\n",
       "        vertical-align: top;\n",
       "    }\n",
       "</style>\n",
       "<table border=\"1\" class=\"dataframe\">\n",
       "  <thead>\n",
       "    <tr style=\"text-align: right;\">\n",
       "      <th></th>\n",
       "      <th>model_id</th>\n",
       "      <th>mean_residual_deviance</th>\n",
       "      <th>rmse</th>\n",
       "      <th>mse</th>\n",
       "      <th>mae</th>\n",
       "      <th>rmsle</th>\n",
       "    </tr>\n",
       "  </thead>\n",
       "  <tbody>\n",
       "    <tr>\n",
       "      <th>0</th>\n",
       "      <td>StackedEnsemble_BestOfFamily_0_AutoML_20181031_020417</td>\n",
       "      <td>1.581358</td>\n",
       "      <td>1.257520</td>\n",
       "      <td>1.581358</td>\n",
       "      <td>1.118499</td>\n",
       "      <td>0.388043</td>\n",
       "    </tr>\n",
       "    <tr>\n",
       "      <th>1</th>\n",
       "      <td>GBM_grid_0_AutoML_20181031_020417_model_17</td>\n",
       "      <td>1.583663</td>\n",
       "      <td>1.258437</td>\n",
       "      <td>1.583663</td>\n",
       "      <td>1.124253</td>\n",
       "      <td>0.388676</td>\n",
       "    </tr>\n",
       "    <tr>\n",
       "      <th>2</th>\n",
       "      <td>GBM_grid_0_AutoML_20181031_020417_model_16</td>\n",
       "      <td>1.584871</td>\n",
       "      <td>1.258917</td>\n",
       "      <td>1.584871</td>\n",
       "      <td>1.116991</td>\n",
       "      <td>0.388398</td>\n",
       "    </tr>\n",
       "    <tr>\n",
       "      <th>3</th>\n",
       "      <td>GBM_grid_0_AutoML_20181031_020417_model_4</td>\n",
       "      <td>1.585802</td>\n",
       "      <td>1.259286</td>\n",
       "      <td>1.585802</td>\n",
       "      <td>1.115401</td>\n",
       "      <td>0.388457</td>\n",
       "    </tr>\n",
       "    <tr>\n",
       "      <th>4</th>\n",
       "      <td>StackedEnsemble_AllModels_0_AutoML_20181031_020417</td>\n",
       "      <td>1.588741</td>\n",
       "      <td>1.260453</td>\n",
       "      <td>1.588741</td>\n",
       "      <td>1.123354</td>\n",
       "      <td>0.388958</td>\n",
       "    </tr>\n",
       "    <tr>\n",
       "      <th>5</th>\n",
       "      <td>GBM_grid_0_AutoML_20181031_020417_model_31</td>\n",
       "      <td>1.590106</td>\n",
       "      <td>1.260994</td>\n",
       "      <td>1.590106</td>\n",
       "      <td>1.126381</td>\n",
       "      <td>0.389260</td>\n",
       "    </tr>\n",
       "    <tr>\n",
       "      <th>6</th>\n",
       "      <td>GBM_grid_0_AutoML_20181031_020417_model_20</td>\n",
       "      <td>1.595450</td>\n",
       "      <td>1.263111</td>\n",
       "      <td>1.595450</td>\n",
       "      <td>1.122631</td>\n",
       "      <td>0.390178</td>\n",
       "    </tr>\n",
       "    <tr>\n",
       "      <th>7</th>\n",
       "      <td>GLM_grid_0_AutoML_20181031_020417_model_0</td>\n",
       "      <td>1.624539</td>\n",
       "      <td>1.274574</td>\n",
       "      <td>1.624539</td>\n",
       "      <td>1.137238</td>\n",
       "      <td>0.393186</td>\n",
       "    </tr>\n",
       "    <tr>\n",
       "      <th>8</th>\n",
       "      <td>DeepLearning_0_AutoML_20181031_020417</td>\n",
       "      <td>1.625561</td>\n",
       "      <td>1.274975</td>\n",
       "      <td>1.625561</td>\n",
       "      <td>1.111266</td>\n",
       "      <td>NaN</td>\n",
       "    </tr>\n",
       "    <tr>\n",
       "      <th>9</th>\n",
       "      <td>GBM_grid_0_AutoML_20181031_020417_model_1</td>\n",
       "      <td>1.625830</td>\n",
       "      <td>1.275080</td>\n",
       "      <td>1.625830</td>\n",
       "      <td>1.119050</td>\n",
       "      <td>0.392730</td>\n",
       "    </tr>\n",
       "    <tr>\n",
       "      <th>10</th>\n",
       "      <td>GBM_grid_0_AutoML_20181031_020417_model_22</td>\n",
       "      <td>1.632642</td>\n",
       "      <td>1.277749</td>\n",
       "      <td>1.632642</td>\n",
       "      <td>1.126704</td>\n",
       "      <td>0.394613</td>\n",
       "    </tr>\n",
       "    <tr>\n",
       "      <th>11</th>\n",
       "      <td>GBM_grid_0_AutoML_20181031_020417_model_0</td>\n",
       "      <td>1.638273</td>\n",
       "      <td>1.279951</td>\n",
       "      <td>1.638273</td>\n",
       "      <td>1.129398</td>\n",
       "      <td>0.395339</td>\n",
       "    </tr>\n",
       "    <tr>\n",
       "      <th>12</th>\n",
       "      <td>GBM_grid_0_AutoML_20181031_020417_model_15</td>\n",
       "      <td>1.645395</td>\n",
       "      <td>1.282729</td>\n",
       "      <td>1.645395</td>\n",
       "      <td>1.154341</td>\n",
       "      <td>0.396554</td>\n",
       "    </tr>\n",
       "    <tr>\n",
       "      <th>13</th>\n",
       "      <td>GBM_grid_0_AutoML_20181031_020417_model_2</td>\n",
       "      <td>1.645404</td>\n",
       "      <td>1.282733</td>\n",
       "      <td>1.645404</td>\n",
       "      <td>1.124504</td>\n",
       "      <td>0.395382</td>\n",
       "    </tr>\n",
       "    <tr>\n",
       "      <th>14</th>\n",
       "      <td>GBM_grid_0_AutoML_20181031_020417_model_5</td>\n",
       "      <td>1.648379</td>\n",
       "      <td>1.283892</td>\n",
       "      <td>1.648379</td>\n",
       "      <td>1.155383</td>\n",
       "      <td>0.397021</td>\n",
       "    </tr>\n",
       "    <tr>\n",
       "      <th>15</th>\n",
       "      <td>GBM_grid_0_AutoML_20181031_020417_model_9</td>\n",
       "      <td>1.649780</td>\n",
       "      <td>1.284437</td>\n",
       "      <td>1.649780</td>\n",
       "      <td>1.156139</td>\n",
       "      <td>0.397222</td>\n",
       "    </tr>\n",
       "    <tr>\n",
       "      <th>16</th>\n",
       "      <td>GBM_grid_0_AutoML_20181031_020417_model_18</td>\n",
       "      <td>1.653194</td>\n",
       "      <td>1.285766</td>\n",
       "      <td>1.653194</td>\n",
       "      <td>1.157740</td>\n",
       "      <td>0.397604</td>\n",
       "    </tr>\n",
       "    <tr>\n",
       "      <th>17</th>\n",
       "      <td>GBM_grid_0_AutoML_20181031_020417_model_29</td>\n",
       "      <td>1.657139</td>\n",
       "      <td>1.287299</td>\n",
       "      <td>1.657139</td>\n",
       "      <td>1.159433</td>\n",
       "      <td>0.398097</td>\n",
       "    </tr>\n",
       "    <tr>\n",
       "      <th>18</th>\n",
       "      <td>DeepLearning_grid_0_AutoML_20181031_020417_model_0</td>\n",
       "      <td>1.657416</td>\n",
       "      <td>1.287407</td>\n",
       "      <td>1.657416</td>\n",
       "      <td>1.140595</td>\n",
       "      <td>NaN</td>\n",
       "    </tr>\n",
       "    <tr>\n",
       "      <th>19</th>\n",
       "      <td>GBM_grid_0_AutoML_20181031_020417_model_3</td>\n",
       "      <td>1.660872</td>\n",
       "      <td>1.288748</td>\n",
       "      <td>1.660872</td>\n",
       "      <td>1.124769</td>\n",
       "      <td>0.397075</td>\n",
       "    </tr>\n",
       "    <tr>\n",
       "      <th>20</th>\n",
       "      <td>GBM_grid_0_AutoML_20181031_020417_model_14</td>\n",
       "      <td>1.666556</td>\n",
       "      <td>1.290952</td>\n",
       "      <td>1.666556</td>\n",
       "      <td>1.162247</td>\n",
       "      <td>0.399199</td>\n",
       "    </tr>\n",
       "    <tr>\n",
       "      <th>21</th>\n",
       "      <td>GBM_grid_0_AutoML_20181031_020417_model_26</td>\n",
       "      <td>1.673976</td>\n",
       "      <td>1.293822</td>\n",
       "      <td>1.673976</td>\n",
       "      <td>1.131179</td>\n",
       "      <td>0.398187</td>\n",
       "    </tr>\n",
       "    <tr>\n",
       "      <th>22</th>\n",
       "      <td>GBM_grid_0_AutoML_20181031_020417_model_8</td>\n",
       "      <td>1.675591</td>\n",
       "      <td>1.294446</td>\n",
       "      <td>1.675591</td>\n",
       "      <td>1.131625</td>\n",
       "      <td>0.398570</td>\n",
       "    </tr>\n",
       "    <tr>\n",
       "      <th>23</th>\n",
       "      <td>GBM_grid_0_AutoML_20181031_020417_model_27</td>\n",
       "      <td>1.683778</td>\n",
       "      <td>1.297605</td>\n",
       "      <td>1.683778</td>\n",
       "      <td>1.168742</td>\n",
       "      <td>0.401316</td>\n",
       "    </tr>\n",
       "    <tr>\n",
       "      <th>24</th>\n",
       "      <td>GBM_grid_0_AutoML_20181031_020417_model_10</td>\n",
       "      <td>1.683871</td>\n",
       "      <td>1.297641</td>\n",
       "      <td>1.683871</td>\n",
       "      <td>1.168821</td>\n",
       "      <td>0.401338</td>\n",
       "    </tr>\n",
       "    <tr>\n",
       "      <th>25</th>\n",
       "      <td>GBM_grid_0_AutoML_20181031_020417_model_19</td>\n",
       "      <td>1.684033</td>\n",
       "      <td>1.297703</td>\n",
       "      <td>1.684033</td>\n",
       "      <td>1.168886</td>\n",
       "      <td>0.401380</td>\n",
       "    </tr>\n",
       "    <tr>\n",
       "      <th>26</th>\n",
       "      <td>GBM_grid_0_AutoML_20181031_020417_model_11</td>\n",
       "      <td>1.684737</td>\n",
       "      <td>1.297974</td>\n",
       "      <td>1.684737</td>\n",
       "      <td>1.169218</td>\n",
       "      <td>0.401452</td>\n",
       "    </tr>\n",
       "    <tr>\n",
       "      <th>27</th>\n",
       "      <td>GBM_grid_0_AutoML_20181031_020417_model_25</td>\n",
       "      <td>1.686071</td>\n",
       "      <td>1.298488</td>\n",
       "      <td>1.686071</td>\n",
       "      <td>1.169584</td>\n",
       "      <td>0.401594</td>\n",
       "    </tr>\n",
       "    <tr>\n",
       "      <th>28</th>\n",
       "      <td>GBM_grid_0_AutoML_20181031_020417_model_7</td>\n",
       "      <td>1.706921</td>\n",
       "      <td>1.306492</td>\n",
       "      <td>1.706921</td>\n",
       "      <td>1.130463</td>\n",
       "      <td>0.402858</td>\n",
       "    </tr>\n",
       "    <tr>\n",
       "      <th>29</th>\n",
       "      <td>GBM_grid_0_AutoML_20181031_020417_model_6</td>\n",
       "      <td>1.738231</td>\n",
       "      <td>1.318420</td>\n",
       "      <td>1.738231</td>\n",
       "      <td>1.137142</td>\n",
       "      <td>0.407012</td>\n",
       "    </tr>\n",
       "    <tr>\n",
       "      <th>30</th>\n",
       "      <td>DeepLearning_grid_0_AutoML_20181031_020417_model_1</td>\n",
       "      <td>1.744005</td>\n",
       "      <td>1.320608</td>\n",
       "      <td>1.744005</td>\n",
       "      <td>1.126856</td>\n",
       "      <td>NaN</td>\n",
       "    </tr>\n",
       "    <tr>\n",
       "      <th>31</th>\n",
       "      <td>XRT_0_AutoML_20181031_020417</td>\n",
       "      <td>1.781633</td>\n",
       "      <td>1.334778</td>\n",
       "      <td>1.781633</td>\n",
       "      <td>1.156203</td>\n",
       "      <td>0.410419</td>\n",
       "    </tr>\n",
       "    <tr>\n",
       "      <th>32</th>\n",
       "      <td>GBM_grid_0_AutoML_20181031_020417_model_12</td>\n",
       "      <td>1.803021</td>\n",
       "      <td>1.342766</td>\n",
       "      <td>1.803021</td>\n",
       "      <td>1.147046</td>\n",
       "      <td>0.413100</td>\n",
       "    </tr>\n",
       "    <tr>\n",
       "      <th>33</th>\n",
       "      <td>DRF_0_AutoML_20181031_020417</td>\n",
       "      <td>1.809034</td>\n",
       "      <td>1.345003</td>\n",
       "      <td>1.809034</td>\n",
       "      <td>1.157787</td>\n",
       "      <td>0.412910</td>\n",
       "    </tr>\n",
       "    <tr>\n",
       "      <th>34</th>\n",
       "      <td>GBM_grid_0_AutoML_20181031_020417_model_30</td>\n",
       "      <td>1.810654</td>\n",
       "      <td>1.345606</td>\n",
       "      <td>1.810654</td>\n",
       "      <td>1.149144</td>\n",
       "      <td>0.415609</td>\n",
       "    </tr>\n",
       "    <tr>\n",
       "      <th>35</th>\n",
       "      <td>GBM_grid_0_AutoML_20181031_020417_model_24</td>\n",
       "      <td>1.988972</td>\n",
       "      <td>1.410309</td>\n",
       "      <td>1.988972</td>\n",
       "      <td>1.195749</td>\n",
       "      <td>0.447434</td>\n",
       "    </tr>\n",
       "    <tr>\n",
       "      <th>36</th>\n",
       "      <td>GBM_grid_0_AutoML_20181031_020417_model_28</td>\n",
       "      <td>2.105580</td>\n",
       "      <td>1.451062</td>\n",
       "      <td>2.105580</td>\n",
       "      <td>1.217773</td>\n",
       "      <td>0.457704</td>\n",
       "    </tr>\n",
       "    <tr>\n",
       "      <th>37</th>\n",
       "      <td>GBM_grid_0_AutoML_20181031_020417_model_23</td>\n",
       "      <td>2.222382</td>\n",
       "      <td>1.490765</td>\n",
       "      <td>2.222382</td>\n",
       "      <td>1.229429</td>\n",
       "      <td>0.476392</td>\n",
       "    </tr>\n",
       "    <tr>\n",
       "      <th>38</th>\n",
       "      <td>DeepLearning_grid_0_AutoML_20181031_020417_model_2</td>\n",
       "      <td>2.396654</td>\n",
       "      <td>1.548113</td>\n",
       "      <td>2.396654</td>\n",
       "      <td>1.165505</td>\n",
       "      <td>NaN</td>\n",
       "    </tr>\n",
       "    <tr>\n",
       "      <th>39</th>\n",
       "      <td>GBM_grid_0_AutoML_20181031_020417_model_13</td>\n",
       "      <td>2.422162</td>\n",
       "      <td>1.556330</td>\n",
       "      <td>2.422162</td>\n",
       "      <td>1.281029</td>\n",
       "      <td>NaN</td>\n",
       "    </tr>\n",
       "    <tr>\n",
       "      <th>40</th>\n",
       "      <td>GBM_grid_0_AutoML_20181031_020417_model_21</td>\n",
       "      <td>3.488534</td>\n",
       "      <td>1.867762</td>\n",
       "      <td>3.488534</td>\n",
       "      <td>1.499776</td>\n",
       "      <td>NaN</td>\n",
       "    </tr>\n",
       "  </tbody>\n",
       "</table>\n",
       "</div>"
      ],
      "text/plain": [
       "                                                 model_id  \\\n",
       "0   StackedEnsemble_BestOfFamily_0_AutoML_20181031_020417   \n",
       "1              GBM_grid_0_AutoML_20181031_020417_model_17   \n",
       "2              GBM_grid_0_AutoML_20181031_020417_model_16   \n",
       "3               GBM_grid_0_AutoML_20181031_020417_model_4   \n",
       "4      StackedEnsemble_AllModels_0_AutoML_20181031_020417   \n",
       "5              GBM_grid_0_AutoML_20181031_020417_model_31   \n",
       "6              GBM_grid_0_AutoML_20181031_020417_model_20   \n",
       "7               GLM_grid_0_AutoML_20181031_020417_model_0   \n",
       "8                   DeepLearning_0_AutoML_20181031_020417   \n",
       "9               GBM_grid_0_AutoML_20181031_020417_model_1   \n",
       "10             GBM_grid_0_AutoML_20181031_020417_model_22   \n",
       "11              GBM_grid_0_AutoML_20181031_020417_model_0   \n",
       "12             GBM_grid_0_AutoML_20181031_020417_model_15   \n",
       "13              GBM_grid_0_AutoML_20181031_020417_model_2   \n",
       "14              GBM_grid_0_AutoML_20181031_020417_model_5   \n",
       "15              GBM_grid_0_AutoML_20181031_020417_model_9   \n",
       "16             GBM_grid_0_AutoML_20181031_020417_model_18   \n",
       "17             GBM_grid_0_AutoML_20181031_020417_model_29   \n",
       "18     DeepLearning_grid_0_AutoML_20181031_020417_model_0   \n",
       "19              GBM_grid_0_AutoML_20181031_020417_model_3   \n",
       "20             GBM_grid_0_AutoML_20181031_020417_model_14   \n",
       "21             GBM_grid_0_AutoML_20181031_020417_model_26   \n",
       "22              GBM_grid_0_AutoML_20181031_020417_model_8   \n",
       "23             GBM_grid_0_AutoML_20181031_020417_model_27   \n",
       "24             GBM_grid_0_AutoML_20181031_020417_model_10   \n",
       "25             GBM_grid_0_AutoML_20181031_020417_model_19   \n",
       "26             GBM_grid_0_AutoML_20181031_020417_model_11   \n",
       "27             GBM_grid_0_AutoML_20181031_020417_model_25   \n",
       "28              GBM_grid_0_AutoML_20181031_020417_model_7   \n",
       "29              GBM_grid_0_AutoML_20181031_020417_model_6   \n",
       "30     DeepLearning_grid_0_AutoML_20181031_020417_model_1   \n",
       "31                           XRT_0_AutoML_20181031_020417   \n",
       "32             GBM_grid_0_AutoML_20181031_020417_model_12   \n",
       "33                           DRF_0_AutoML_20181031_020417   \n",
       "34             GBM_grid_0_AutoML_20181031_020417_model_30   \n",
       "35             GBM_grid_0_AutoML_20181031_020417_model_24   \n",
       "36             GBM_grid_0_AutoML_20181031_020417_model_28   \n",
       "37             GBM_grid_0_AutoML_20181031_020417_model_23   \n",
       "38     DeepLearning_grid_0_AutoML_20181031_020417_model_2   \n",
       "39             GBM_grid_0_AutoML_20181031_020417_model_13   \n",
       "40             GBM_grid_0_AutoML_20181031_020417_model_21   \n",
       "\n",
       "    mean_residual_deviance      rmse       mse       mae     rmsle  \n",
       "0                 1.581358  1.257520  1.581358  1.118499  0.388043  \n",
       "1                 1.583663  1.258437  1.583663  1.124253  0.388676  \n",
       "2                 1.584871  1.258917  1.584871  1.116991  0.388398  \n",
       "3                 1.585802  1.259286  1.585802  1.115401  0.388457  \n",
       "4                 1.588741  1.260453  1.588741  1.123354  0.388958  \n",
       "5                 1.590106  1.260994  1.590106  1.126381  0.389260  \n",
       "6                 1.595450  1.263111  1.595450  1.122631  0.390178  \n",
       "7                 1.624539  1.274574  1.624539  1.137238  0.393186  \n",
       "8                 1.625561  1.274975  1.625561  1.111266       NaN  \n",
       "9                 1.625830  1.275080  1.625830  1.119050  0.392730  \n",
       "10                1.632642  1.277749  1.632642  1.126704  0.394613  \n",
       "11                1.638273  1.279951  1.638273  1.129398  0.395339  \n",
       "12                1.645395  1.282729  1.645395  1.154341  0.396554  \n",
       "13                1.645404  1.282733  1.645404  1.124504  0.395382  \n",
       "14                1.648379  1.283892  1.648379  1.155383  0.397021  \n",
       "15                1.649780  1.284437  1.649780  1.156139  0.397222  \n",
       "16                1.653194  1.285766  1.653194  1.157740  0.397604  \n",
       "17                1.657139  1.287299  1.657139  1.159433  0.398097  \n",
       "18                1.657416  1.287407  1.657416  1.140595       NaN  \n",
       "19                1.660872  1.288748  1.660872  1.124769  0.397075  \n",
       "20                1.666556  1.290952  1.666556  1.162247  0.399199  \n",
       "21                1.673976  1.293822  1.673976  1.131179  0.398187  \n",
       "22                1.675591  1.294446  1.675591  1.131625  0.398570  \n",
       "23                1.683778  1.297605  1.683778  1.168742  0.401316  \n",
       "24                1.683871  1.297641  1.683871  1.168821  0.401338  \n",
       "25                1.684033  1.297703  1.684033  1.168886  0.401380  \n",
       "26                1.684737  1.297974  1.684737  1.169218  0.401452  \n",
       "27                1.686071  1.298488  1.686071  1.169584  0.401594  \n",
       "28                1.706921  1.306492  1.706921  1.130463  0.402858  \n",
       "29                1.738231  1.318420  1.738231  1.137142  0.407012  \n",
       "30                1.744005  1.320608  1.744005  1.126856       NaN  \n",
       "31                1.781633  1.334778  1.781633  1.156203  0.410419  \n",
       "32                1.803021  1.342766  1.803021  1.147046  0.413100  \n",
       "33                1.809034  1.345003  1.809034  1.157787  0.412910  \n",
       "34                1.810654  1.345606  1.810654  1.149144  0.415609  \n",
       "35                1.988972  1.410309  1.988972  1.195749  0.447434  \n",
       "36                2.105580  1.451062  2.105580  1.217773  0.457704  \n",
       "37                2.222382  1.490765  2.222382  1.229429  0.476392  \n",
       "38                2.396654  1.548113  2.396654  1.165505       NaN  \n",
       "39                2.422162  1.556330  2.422162  1.281029       NaN  \n",
       "40                3.488534  1.867762  3.488534  1.499776       NaN  "
      ]
     },
     "execution_count": 88,
     "metadata": {},
     "output_type": "execute_result"
    }
   ],
   "source": [
    "aml_leaderboard_df"
   ]
  },
  {
   "cell_type": "code",
   "execution_count": 89,
   "metadata": {
    "collapsed": true
   },
   "outputs": [],
   "source": [
    "#  Get best_models and coef_norm()\n",
    "best_models={}\n",
    "best_models=stackedensemble(mod_best)\n",
    "bm=[]\n",
    "if best_models is not None: \n",
    "  if 'Intercept' in best_models.keys():\n",
    "    del best_models['Intercept']\n",
    "  bm=list(best_models.keys())\n",
    "else:\n",
    "  best_models={}\n",
    "  bm=stackedensemble_df(aml_leaderboard_df)   \n",
    "  for b in bm:   \n",
    "    best_models[b]=None\n",
    "\n",
    "if mod_best.model_id not in bm:\n",
    "    bm.append(mod_best.model_id)"
   ]
  },
  {
   "cell_type": "code",
   "execution_count": 90,
   "metadata": {},
   "outputs": [
    {
     "data": {
      "text/plain": [
       "['GBM_grid_0_AutoML_20181031_020417_model_17',\n",
       " 'GLM_grid_0_AutoML_20181031_020417_model_0',\n",
       " 'DeepLearning_0_AutoML_20181031_020417',\n",
       " 'XRT_0_AutoML_20181031_020417',\n",
       " 'DRF_0_AutoML_20181031_020417',\n",
       " 'StackedEnsemble_BestOfFamily_0_AutoML_20181031_020417']"
      ]
     },
     "execution_count": 90,
     "metadata": {},
     "output_type": "execute_result"
    }
   ],
   "source": [
    "bm"
   ]
  },
  {
   "cell_type": "code",
   "execution_count": 91,
   "metadata": {
    "collapsed": true
   },
   "outputs": [],
   "source": [
    "# Best of Family leaderboard\n",
    "\n",
    "aml_leaderboard_df=aml_leaderboard_df.loc[aml_leaderboard_df['model_id'].isin(bm)]\n"
   ]
  },
  {
   "cell_type": "code",
   "execution_count": 92,
   "metadata": {},
   "outputs": [
    {
     "data": {
      "text/html": [
       "<div>\n",
       "<style>\n",
       "    .dataframe thead tr:only-child th {\n",
       "        text-align: right;\n",
       "    }\n",
       "\n",
       "    .dataframe thead th {\n",
       "        text-align: left;\n",
       "    }\n",
       "\n",
       "    .dataframe tbody tr th {\n",
       "        vertical-align: top;\n",
       "    }\n",
       "</style>\n",
       "<table border=\"1\" class=\"dataframe\">\n",
       "  <thead>\n",
       "    <tr style=\"text-align: right;\">\n",
       "      <th></th>\n",
       "      <th>model_id</th>\n",
       "      <th>mean_residual_deviance</th>\n",
       "      <th>rmse</th>\n",
       "      <th>mse</th>\n",
       "      <th>mae</th>\n",
       "      <th>rmsle</th>\n",
       "    </tr>\n",
       "  </thead>\n",
       "  <tbody>\n",
       "    <tr>\n",
       "      <th>0</th>\n",
       "      <td>StackedEnsemble_BestOfFamily_0_AutoML_20181031_020417</td>\n",
       "      <td>1.581358</td>\n",
       "      <td>1.257520</td>\n",
       "      <td>1.581358</td>\n",
       "      <td>1.118499</td>\n",
       "      <td>0.388043</td>\n",
       "    </tr>\n",
       "    <tr>\n",
       "      <th>1</th>\n",
       "      <td>GBM_grid_0_AutoML_20181031_020417_model_17</td>\n",
       "      <td>1.583663</td>\n",
       "      <td>1.258437</td>\n",
       "      <td>1.583663</td>\n",
       "      <td>1.124253</td>\n",
       "      <td>0.388676</td>\n",
       "    </tr>\n",
       "    <tr>\n",
       "      <th>7</th>\n",
       "      <td>GLM_grid_0_AutoML_20181031_020417_model_0</td>\n",
       "      <td>1.624539</td>\n",
       "      <td>1.274574</td>\n",
       "      <td>1.624539</td>\n",
       "      <td>1.137238</td>\n",
       "      <td>0.393186</td>\n",
       "    </tr>\n",
       "    <tr>\n",
       "      <th>8</th>\n",
       "      <td>DeepLearning_0_AutoML_20181031_020417</td>\n",
       "      <td>1.625561</td>\n",
       "      <td>1.274975</td>\n",
       "      <td>1.625561</td>\n",
       "      <td>1.111266</td>\n",
       "      <td>NaN</td>\n",
       "    </tr>\n",
       "    <tr>\n",
       "      <th>31</th>\n",
       "      <td>XRT_0_AutoML_20181031_020417</td>\n",
       "      <td>1.781633</td>\n",
       "      <td>1.334778</td>\n",
       "      <td>1.781633</td>\n",
       "      <td>1.156203</td>\n",
       "      <td>0.410419</td>\n",
       "    </tr>\n",
       "    <tr>\n",
       "      <th>33</th>\n",
       "      <td>DRF_0_AutoML_20181031_020417</td>\n",
       "      <td>1.809034</td>\n",
       "      <td>1.345003</td>\n",
       "      <td>1.809034</td>\n",
       "      <td>1.157787</td>\n",
       "      <td>0.412910</td>\n",
       "    </tr>\n",
       "  </tbody>\n",
       "</table>\n",
       "</div>"
      ],
      "text/plain": [
       "                                                 model_id  \\\n",
       "0   StackedEnsemble_BestOfFamily_0_AutoML_20181031_020417   \n",
       "1              GBM_grid_0_AutoML_20181031_020417_model_17   \n",
       "7               GLM_grid_0_AutoML_20181031_020417_model_0   \n",
       "8                   DeepLearning_0_AutoML_20181031_020417   \n",
       "31                           XRT_0_AutoML_20181031_020417   \n",
       "33                           DRF_0_AutoML_20181031_020417   \n",
       "\n",
       "    mean_residual_deviance      rmse       mse       mae     rmsle  \n",
       "0                 1.581358  1.257520  1.581358  1.118499  0.388043  \n",
       "1                 1.583663  1.258437  1.583663  1.124253  0.388676  \n",
       "7                 1.624539  1.274574  1.624539  1.137238  0.393186  \n",
       "8                 1.625561  1.274975  1.625561  1.111266       NaN  \n",
       "31                1.781633  1.334778  1.781633  1.156203  0.410419  \n",
       "33                1.809034  1.345003  1.809034  1.157787  0.412910  "
      ]
     },
     "execution_count": 92,
     "metadata": {},
     "output_type": "execute_result"
    }
   ],
   "source": [
    "aml_leaderboard_df"
   ]
  },
  {
   "cell_type": "code",
   "execution_count": 93,
   "metadata": {
    "collapsed": true
   },
   "outputs": [],
   "source": [
    "# save leaderboard\n",
    "leaderboard_stats=run_id+'_leaderboard.csv'\n",
    "aml_leaderboard_df.to_csv(leaderboard_stats)"
   ]
  },
  {
   "cell_type": "code",
   "execution_count": 94,
   "metadata": {},
   "outputs": [
    {
     "name": "stdout",
     "output_type": "stream",
     "text": [
      "StackedEnsemble_BestOfFamily_0_AutoML_20181031_020417\n"
     ]
    }
   ],
   "source": [
    "top=aml_leaderboard_df.iloc[0]['model_id']\n",
    "print(top)"
   ]
  },
  {
   "cell_type": "code",
   "execution_count": 95,
   "metadata": {},
   "outputs": [
    {
     "name": "stdout",
     "output_type": "stream",
     "text": [
      "StackedEnsemble_BestOfFamily_0_AutoML_20181031_020417\n",
      "stackedensemble\n"
     ]
    }
   ],
   "source": [
    "mod_best=h2o.get_model(top)\n",
    "print(mod_best._id)\n",
    "print(mod_best.algo)"
   ]
  },
  {
   "cell_type": "code",
   "execution_count": 96,
   "metadata": {
    "collapsed": true
   },
   "outputs": [],
   "source": [
    "meta_data['mod_best']=mod_best._id\n",
    "meta_data['mod_best_algo']=mod_best.algo"
   ]
  },
  {
   "cell_type": "code",
   "execution_count": 97,
   "metadata": {
    "collapsed": true
   },
   "outputs": [],
   "source": [
    "meta_data['models']=bm"
   ]
  },
  {
   "cell_type": "code",
   "execution_count": 98,
   "metadata": {
    "collapsed": true
   },
   "outputs": [],
   "source": [
    "models_path=os.path.join(run_dir,'models')\n",
    "for mod in bm:\n",
    "  try:   \n",
    "    m=h2o.get_model(mod) \n",
    "    h2o.save_model(m, path = models_path)\n",
    "  except:    \n",
    "    pass    "
   ]
  },
  {
   "cell_type": "code",
   "execution_count": 99,
   "metadata": {},
   "outputs": [
    {
     "name": "stdout",
     "output_type": "stream",
     "text": [
      "C:\\Users\\Leo\\Desktop\\CSYE_7245-master\\BDIA Assignemnt 2\\R97iMyBYd\\models\n"
     ]
    }
   ],
   "source": [
    "print(models_path)"
   ]
  },
  {
   "cell_type": "code",
   "execution_count": 100,
   "metadata": {},
   "outputs": [
    {
     "name": "stdout",
     "output_type": "stream",
     "text": [
      "{'algo': 'gbm', 'model_id': 'GBM_grid_0_AutoML_20181031_020417_model_17', 'varimp': [('goal', 1148.742431640625, 1.0, 0.26449372910579816), ('backers', 760.2366943359375, 0.6617990886348416, 0.1750417088718479), ('C1', 753.1458740234375, 0.655626407869169, 0.17340907351755552), ('Goal_10', 575.1328735351562, 0.5006630361113726, 0.13242223344652782), ('Goal_500', 467.9831237792969, 0.40738734018114664, 0.10775139679500383), ('Goal_1000', 318.68426513671875, 0.27742012165562335, 0.07337588250568), ('country_is_us', 200.57115173339844, 0.174600629530977, 0.04618077160886805), ('state', 118.67813110351562, 0.10331134972878163, 0.027325204148718737)]}\n"
     ]
    }
   ],
   "source": [
    "# GBM\n",
    " \n",
    "mod,mod_id=get_model_by_algo(\"GBM\",best_models)\n",
    "if mod is not None:\n",
    "    try:     \n",
    "        sh_df=mod.scoring_history()\n",
    "        sh_df.to_csv(run_id+'_gbm_scoring_history.csv') \n",
    "    except:\n",
    "        pass   \n",
    "    try:     \n",
    "        stats_gbm={}\n",
    "        stats_gbm=gbm_stats(mod)\n",
    "        n=run_id+'_gbm_stats.json'\n",
    "        dict_to_json(stats_gbm,n)\n",
    "        print(stats_gbm)\n",
    "    except:\n",
    "        pass        "
   ]
  },
  {
   "cell_type": "code",
   "execution_count": 101,
   "metadata": {
    "collapsed": true
   },
   "outputs": [],
   "source": [
    "# DeepLearning\n",
    "\n",
    "mod,mod_id=get_model_by_algo(\"Dee\",best_models)\n"
   ]
  },
  {
   "cell_type": "code",
   "execution_count": 102,
   "metadata": {},
   "outputs": [
    {
     "name": "stdout",
     "output_type": "stream",
     "text": [
      "{'algo': 'deeplearning', 'model_id': 'DeepLearning_0_AutoML_20181031_020417', 'varimp': [('Goal_1000', 1.0, 1.0, 0.15710453578937023), ('backers', 0.9833250045776367, 0.9833250045776367, 0.15448481837424996), ('Goal_500', 0.8081945180892944, 0.8081945180892944, 0.12697102459193238), ('goal', 0.8053200840950012, 0.8053200840950012, 0.12651943797360177), ('C1', 0.7463532090187073, 0.7463532090187073, 0.11725547443779082), ('Goal_10', 0.7434607744216919, 0.7434607744216919, 0.1168010598431256), ('country_is_us', 0.671288788318634, 0.671288788318634, 0.10546251346940781), ('state', 0.6072462201118469, 0.6072462201118469, 0.09540113552052144)]}\n"
     ]
    }
   ],
   "source": [
    "if mod is not None:\n",
    "    try:    \n",
    "        sh_df=mod.scoring_history()\n",
    "        sh_df.to_csv(run_id+'_dl_scoring_history.csv') \n",
    "    except:\n",
    "        pass \n",
    "    try:\n",
    "        stats_dl={}\n",
    "        stats_dl=dl_stats(mod)\n",
    "        n=run_id+'_dl_stats.json'\n",
    "        dict_to_json(stats_dl,n)\n",
    "        print(stats_dl)\n",
    "    except:\n",
    "        pass    \n",
    "    try:\n",
    "        cf=mod.confusion_matrix()    \n",
    "        cf_df.to_csv(run_id+'_dl_confusion_matrix.csv')\n",
    "    except:\n",
    "        pass       "
   ]
  },
  {
   "cell_type": "code",
   "execution_count": 103,
   "metadata": {
    "collapsed": true
   },
   "outputs": [],
   "source": [
    "# DRF\n",
    "\n",
    "mod,mod_id=get_model_by_algo(\"DRF\",best_models)\n",
    "if mod is not None:\n",
    "    try:     \n",
    "         sh_df=mod.scoring_history()\n",
    "         sh_df.to_csv(run_id+'_drf_scoring_history.csv') \n",
    "    except:\n",
    "         pass  \n",
    "    try: \n",
    "         stats_drf={}\n",
    "         stats_drf=drf_stats(mod)\n",
    "         n=run_id+'_drf_stats.json'\n",
    "         dict_to_json(stats_drf,n)\n",
    "         print(stats_drf)\n",
    "    except:\n",
    "         pass     "
   ]
  },
  {
   "cell_type": "code",
   "execution_count": 104,
   "metadata": {
    "collapsed": true
   },
   "outputs": [],
   "source": [
    "# XRT\n",
    "\n",
    "mod,mod_id=get_model_by_algo(\"XRT\",best_models)\n",
    "if mod is not None:\n",
    "    try:     \n",
    "         sh_df=mod.scoring_history()\n",
    "         sh_df.to_csv(run_id+'_xrt_scoring_history.csv')\n",
    "    except:\n",
    "         pass     \n",
    "    try:        \n",
    "         stats_xrt={}\n",
    "         stats_xrt=xrt_stats(mod)\n",
    "         n=run_id+'_xrt_stats.json'\n",
    "         dict_to_json(stats_xrt,n)\n",
    "         print(stats_xrt)\n",
    "    except:\n",
    "         pass     "
   ]
  },
  {
   "cell_type": "code",
   "execution_count": 105,
   "metadata": {},
   "outputs": [
    {
     "name": "stdout",
     "output_type": "stream",
     "text": [
      "{'algo': 'glm', 'model_id': 'GLM_grid_0_AutoML_20181031_020417_model_0', 'coef': {'Intercept': 3.450672670435565, 'C1': -5.1542659112169265e-06, 'goal': -0.16585897416270884, 'state': -0.00206490689072177, 'backers': 0.0003819864542251945, 'country_is_us': 0.2715508233641955, 'Goal_1000': 5.065464231748706e-05, 'Goal_500': 1.499573978090446e-05, 'Goal_10': 2.186447973077968e-07}, 'coef_norm': {'Intercept': 2.2552446421915717, 'C1': -0.014822550495196016, 'goal': -0.27020349619877, 'state': -0.0020277328187647756, 'backers': 0.34757562832077915, 'country_is_us': 0.10562355770851699, 'Goal_1000': 0.012036736735929834, 'Goal_500': 0.00712641144038517, 'Goal_10': 0.0051953347295478885}}\n"
     ]
    }
   ],
   "source": [
    "# GLM\n",
    "\n",
    "mod,mod_id=get_model_by_algo(\"GLM\",best_models)\n",
    "if mod is not None:\n",
    "    try:     \n",
    "         stats_glm={}\n",
    "         stats_glm=glm_stats(mod)\n",
    "         n=run_id+'_glm_stats.json'\n",
    "         dict_to_json(stats_glm,n)\n",
    "         print(stats_glm)\n",
    "    except:\n",
    "         pass     "
   ]
  },
  {
   "cell_type": "code",
   "execution_count": 106,
   "metadata": {},
   "outputs": [
    {
     "name": "stdout",
     "output_type": "stream",
     "text": [
      "stackedensemble prediction progress: |████████████████████████████████████| 100%\n"
     ]
    }
   ],
   "source": [
    "predictions_df=predictions_test(mod_best,test,run_id)"
   ]
  },
  {
   "cell_type": "code",
   "execution_count": 107,
   "metadata": {},
   "outputs": [
    {
     "data": {
      "text/html": [
       "<table>\n",
       "<thead>\n",
       "<tr><th style=\"text-align: right;\">  predict</th></tr>\n",
       "</thead>\n",
       "<tbody>\n",
       "<tr><td style=\"text-align: right;\">  2.76483</td></tr>\n",
       "<tr><td style=\"text-align: right;\">  2.0842 </td></tr>\n",
       "<tr><td style=\"text-align: right;\">  2.25049</td></tr>\n",
       "<tr><td style=\"text-align: right;\">  2.43445</td></tr>\n",
       "<tr><td style=\"text-align: right;\">  2.21192</td></tr>\n",
       "<tr><td style=\"text-align: right;\">  2.7972 </td></tr>\n",
       "<tr><td style=\"text-align: right;\">  2.15248</td></tr>\n",
       "<tr><td style=\"text-align: right;\">  2.60795</td></tr>\n",
       "<tr><td style=\"text-align: right;\">  2.85335</td></tr>\n",
       "<tr><td style=\"text-align: right;\">  2.71767</td></tr>\n",
       "</tbody>\n",
       "</table>"
      ]
     },
     "metadata": {},
     "output_type": "display_data"
    },
    {
     "data": {
      "text/plain": []
     },
     "execution_count": 107,
     "metadata": {},
     "output_type": "execute_result"
    }
   ],
   "source": [
    "predictions_df.head()"
   ]
  },
  {
   "cell_type": "code",
   "execution_count": 108,
   "metadata": {},
   "outputs": [
    {
     "name": "stdout",
     "output_type": "stream",
     "text": [
      "Rows:508\n",
      "Cols:1\n",
      "\n",
      "\n"
     ]
    },
    {
     "data": {
      "text/html": [
       "<table>\n",
       "<thead>\n",
       "<tr><th>       </th><th>predict           </th></tr>\n",
       "</thead>\n",
       "<tbody>\n",
       "<tr><td>type   </td><td>real              </td></tr>\n",
       "<tr><td>mins   </td><td>1.435953844684749 </td></tr>\n",
       "<tr><td>mean   </td><td>2.214707763653812 </td></tr>\n",
       "<tr><td>maxs   </td><td>2.9340571159825646</td></tr>\n",
       "<tr><td>sigma  </td><td>0.3673406307727966</td></tr>\n",
       "<tr><td>zeros  </td><td>0                 </td></tr>\n",
       "<tr><td>missing</td><td>0                 </td></tr>\n",
       "<tr><td>0      </td><td>2.7648286846723007</td></tr>\n",
       "<tr><td>1      </td><td>2.08419976619466  </td></tr>\n",
       "<tr><td>2      </td><td>2.250494807637183 </td></tr>\n",
       "<tr><td>3      </td><td>2.4344516379114642</td></tr>\n",
       "<tr><td>4      </td><td>2.211923158360056 </td></tr>\n",
       "<tr><td>5      </td><td>2.7971957971105805</td></tr>\n",
       "<tr><td>6      </td><td>2.1524825030421093</td></tr>\n",
       "<tr><td>7      </td><td>2.607953125521628 </td></tr>\n",
       "<tr><td>8      </td><td>2.8533494043961807</td></tr>\n",
       "<tr><td>9      </td><td>2.717669432455582 </td></tr>\n",
       "</tbody>\n",
       "</table>"
      ]
     },
     "metadata": {},
     "output_type": "display_data"
    }
   ],
   "source": [
    "predictions_df.describe()"
   ]
  },
  {
   "cell_type": "code",
   "execution_count": 117,
   "metadata": {
    "collapsed": true
   },
   "outputs": [],
   "source": [
    "# Update and save meta data\n",
    "\n",
    "meta_data['end_time'] = time.time()\n",
    "meta_data['execution_time'] = meta_data['end_time'] - meta_data['start_time']\n",
    "  \n",
    "n=run_id+'_meta_data.json'\n",
    "dict_to_json(meta_data,n)    \n"
   ]
  },
  {
   "cell_type": "code",
   "execution_count": 118,
   "metadata": {
    "scrolled": true
   },
   "outputs": [
    {
     "data": {
      "text/plain": [
       "{'X': ['C1',\n",
       "  'state',\n",
       "  'backers',\n",
       "  'country_is_us',\n",
       "  'Goal_1000',\n",
       "  'Goal_500',\n",
       "  'Goal_10',\n",
       "  'goal'],\n",
       " 'analysis': 0,\n",
       " 'balance': False,\n",
       " 'balance_threshold': 0.2,\n",
       " 'classification': False,\n",
       " 'end_time': 1540966367.940429,\n",
       " 'execution_time': 518.3531470298767,\n",
       " 'max_models': 9,\n",
       " 'min_mem_size': 6,\n",
       " 'mod_best': 'StackedEnsemble_BestOfFamily_0_AutoML_20181031_020417',\n",
       " 'mod_best_algo': 'stackedensemble',\n",
       " 'model_execution_time': 374.23037004470825,\n",
       " 'models': ['GBM_grid_0_AutoML_20181031_020417_model_17',\n",
       "  'GLM_grid_0_AutoML_20181031_020417_model_0',\n",
       "  'DeepLearning_0_AutoML_20181031_020417',\n",
       "  'XRT_0_AutoML_20181031_020417',\n",
       "  'DRF_0_AutoML_20181031_020417',\n",
       "  'StackedEnsemble_BestOfFamily_0_AutoML_20181031_020417'],\n",
       " 'nthreads': 1,\n",
       " 'project': None,\n",
       " 'run_id': 'R97iMyBYd',\n",
       " 'run_time': 333,\n",
       " 'scale': False,\n",
       " 'start_time': 1540965849.587282,\n",
       " 'target': None,\n",
       " 'variables': {'C1': 'int',\n",
       "  'Goal_10': 'int',\n",
       "  'Goal_1000': 'int',\n",
       "  'Goal_500': 'int',\n",
       "  'backers': 'int',\n",
       "  'country_is_us': 'int',\n",
       "  'goal': 'real',\n",
       "  'main_category': 'int',\n",
       "  'state': 'int'}}"
      ]
     },
     "execution_count": 118,
     "metadata": {},
     "output_type": "execute_result"
    }
   ],
   "source": [
    "meta_data"
   ]
  },
  {
   "cell_type": "code",
   "execution_count": 119,
   "metadata": {},
   "outputs": [
    {
     "name": "stdout",
     "output_type": "stream",
     "text": [
      "Warning: This model doesn't have variable importances\n"
     ]
    },
    {
     "ename": "TypeError",
     "evalue": "'NoneType' object is not iterable",
     "output_type": "error",
     "traceback": [
      "\u001b[1;31m---------------------------------------------------------------------------\u001b[0m",
      "\u001b[1;31mTypeError\u001b[0m                                 Traceback (most recent call last)",
      "\u001b[1;32m<ipython-input-119-eb8bcf4f1262>\u001b[0m in \u001b[0;36m<module>\u001b[1;34m()\u001b[0m\n\u001b[1;32m----> 1\u001b[1;33m \u001b[0mmod_best\u001b[0m\u001b[1;33m.\u001b[0m\u001b[0mvarimp_plot\u001b[0m\u001b[1;33m(\u001b[0m\u001b[1;33m)\u001b[0m\u001b[1;33m\u001b[0m\u001b[0m\n\u001b[0m",
      "\u001b[1;32m~\\Anaconda3\\lib\\site-packages\\h2o\\model\\model_base.py\u001b[0m in \u001b[0;36mvarimp_plot\u001b[1;34m(self, num_of_features, server)\u001b[0m\n\u001b[0;32m   1073\u001b[0m         \u001b[0mimportances\u001b[0m \u001b[1;33m=\u001b[0m \u001b[0mself\u001b[0m\u001b[1;33m.\u001b[0m\u001b[0mvarimp\u001b[0m\u001b[1;33m(\u001b[0m\u001b[0muse_pandas\u001b[0m\u001b[1;33m=\u001b[0m\u001b[1;32mFalse\u001b[0m\u001b[1;33m)\u001b[0m\u001b[1;33m\u001b[0m\u001b[0m\n\u001b[0;32m   1074\u001b[0m         \u001b[1;31m# features labels correspond to the first value of each tuple in the importances list\u001b[0m\u001b[1;33m\u001b[0m\u001b[1;33m\u001b[0m\u001b[0m\n\u001b[1;32m-> 1075\u001b[1;33m         \u001b[0mfeature_labels\u001b[0m \u001b[1;33m=\u001b[0m \u001b[1;33m[\u001b[0m\u001b[0mtup\u001b[0m\u001b[1;33m[\u001b[0m\u001b[1;36m0\u001b[0m\u001b[1;33m]\u001b[0m \u001b[1;32mfor\u001b[0m \u001b[0mtup\u001b[0m \u001b[1;32min\u001b[0m \u001b[0mimportances\u001b[0m\u001b[1;33m]\u001b[0m\u001b[1;33m\u001b[0m\u001b[0m\n\u001b[0m\u001b[0;32m   1076\u001b[0m         \u001b[1;31m# relative importances correspond to the first value of each tuple in the importances list\u001b[0m\u001b[1;33m\u001b[0m\u001b[1;33m\u001b[0m\u001b[0m\n\u001b[0;32m   1077\u001b[0m         \u001b[0mscaled_importances\u001b[0m \u001b[1;33m=\u001b[0m \u001b[1;33m[\u001b[0m\u001b[0mtup\u001b[0m\u001b[1;33m[\u001b[0m\u001b[1;36m2\u001b[0m\u001b[1;33m]\u001b[0m \u001b[1;32mfor\u001b[0m \u001b[0mtup\u001b[0m \u001b[1;32min\u001b[0m \u001b[0mimportances\u001b[0m\u001b[1;33m]\u001b[0m\u001b[1;33m\u001b[0m\u001b[0m\n",
      "\u001b[1;31mTypeError\u001b[0m: 'NoneType' object is not iterable"
     ]
    }
   ],
   "source": [
    "mod_best.varimp_plot()"
   ]
  },
  {
   "cell_type": "code",
   "execution_count": 112,
   "metadata": {},
   "outputs": [
    {
     "name": "stdout",
     "output_type": "stream",
     "text": [
      "PartialDependencePlot progress: |█████████████████████████████████████████| 100%\n"
     ]
    },
    {
     "data": {
      "image/png": "[encoded data removed]",
      "text/plain": [
       "<matplotlib.figure.Figure at 0x1cbbd4e54e0>"
      ]
     },
     "metadata": {},
     "output_type": "display_data"
    }
   ],
   "source": [
    "aml.leader.partial_plot(data=df, cols=df.columns)\n",
    "plt.show()"
   ]
  },
  {
   "cell_type": "code",
   "execution_count": null,
   "metadata": {
    "collapsed": true
   },
   "outputs": [],
   "source": [
    "# Clean up\n",
    "os.chdir(server_path)"
   ]
  },
  {
   "cell_type": "code",
   "execution_count": null,
   "metadata": {
    "collapsed": true,
    "scrolled": true
   },
   "outputs": [],
   "source": [
    "h2o.cluster().shutdown()"
   ]
  }
 ],
 "metadata": {
  "kernelspec": {
   "display_name": "Python 3",
   "language": "python",
   "name": "python3"
  },
  "language_info": {
   "codemirror_mode": {
    "name": "ipython",
    "version": 3
   },
   "file_extension": ".py",
   "mimetype": "text/x-python",
   "name": "python",
   "nbconvert_exporter": "python",
   "pygments_lexer": "ipython3",
   "version": "3.6.3"
  }
 },
 "nbformat": 4,
 "nbformat_minor": 2
}
